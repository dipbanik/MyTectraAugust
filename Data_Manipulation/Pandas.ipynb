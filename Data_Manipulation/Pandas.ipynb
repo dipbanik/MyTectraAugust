{
  "nbformat": 4,
  "nbformat_minor": 0,
  "metadata": {
    "colab": {
      "name": "Pandas - intro.ipynb",
      "version": "0.3.2",
      "provenance": [],
      "collapsed_sections": [],
      "toc_visible": true
    },
    "kernelspec": {
      "name": "python3",
      "display_name": "Python 3"
    }
  },
  "cells": [
    {
      "cell_type": "markdown",
      "metadata": {
        "id": "8V1J5qQo9gz1",
        "colab_type": "text"
      },
      "source": [
        "Numpy - \n",
        "  np.array\n",
        "  np.ndarray\n",
        "  \n",
        "Pandas -\n",
        "  pd.Series\n",
        "  pd.DataFrame\n",
        "  \n",
        " "
      ]
    },
    {
      "cell_type": "markdown",
      "metadata": {
        "id": "ik7gdtbNPCaA",
        "colab_type": "text"
      },
      "source": [
        "# Pandas data structure\n",
        "* Pandas is built around two collection objects\n",
        "  * DataFrame\n",
        "    * Tabular data structure\n",
        "    * Consists of \n",
        "       * columns (each of which is a series)\n",
        "       * index: name(s) attached to rows\n",
        "       * Can be accessed as collection of rows and/or columns\n",
        "  * Series  \n",
        "    * Similar to a Numpy array\n",
        "    * Consists of a name, values and *index* \n",
        "      * Numpy arrays do not have an index\n",
        "    * The values and indices are themselves Numpy arrays\n",
        "      \n",
        "      "
      ]
    },
    {
      "cell_type": "code",
      "metadata": {
        "id": "584YUg4VPzPL",
        "colab_type": "code",
        "outputId": "bc87bdfe-b7d1-46bc-f7c9-3864206dc37c",
        "colab": {
          "base_uri": "https://localhost:8080/",
          "height": 247
        }
      },
      "source": [
        "import pandas as pd\n",
        "\n",
        "# implicit index\n",
        "series = pd.Series([10, 20, 30])\n",
        "print(series)\n",
        "print\n",
        "\n",
        "# explicit index\n",
        "series = pd.Series([0, 1, 2, 3], index=[\"zero\", \"one\", \"two\", \"three\"])\n",
        "print(series)\n",
        "print\n",
        "\n",
        "# implicit index\n",
        "capitals = pd.Series({\n",
        "      'France': 'Paris',\n",
        "      'Japan': 'Tokyo', \n",
        "      'Germany': 'Berlin'})\n",
        "print(capitals)"
      ],
      "execution_count": 1,
      "outputs": [
        {
          "output_type": "stream",
          "text": [
            "0    10\n",
            "1    20\n",
            "2    30\n",
            "dtype: int64\n",
            "zero     0\n",
            "one      1\n",
            "two      2\n",
            "three    3\n",
            "dtype: int64\n",
            "France      Paris\n",
            "Japan       Tokyo\n",
            "Germany    Berlin\n",
            "dtype: object\n"
          ],
          "name": "stdout"
        }
      ]
    },
    {
      "cell_type": "code",
      "metadata": {
        "id": "m4-0vK-NBOvn",
        "colab_type": "code",
        "outputId": "22fe6259-a285-46b9-8f82-aa660a7ba04a",
        "colab": {
          "base_uri": "https://localhost:8080/",
          "height": 105
        }
      },
      "source": [
        "import numpy as np\n",
        "numpy_arr = np.random.rand(3)\n",
        "#creating 3 random number in a numpy array.\n",
        "\n",
        "import pandas as pd\n",
        "\n",
        "pdseries = pd.Series(numpy_arr)\n",
        "#Saving the numpy array in the pandas series. \n",
        "print(pdseries)\n",
        "type(pdseries)"
      ],
      "execution_count": 2,
      "outputs": [
        {
          "output_type": "stream",
          "text": [
            "0    0.664064\n",
            "1    0.775704\n",
            "2    0.498049\n",
            "dtype: float64\n"
          ],
          "name": "stdout"
        },
        {
          "output_type": "execute_result",
          "data": {
            "text/plain": [
              "pandas.core.series.Series"
            ]
          },
          "metadata": {
            "tags": []
          },
          "execution_count": 2
        }
      ]
    },
    {
      "cell_type": "code",
      "metadata": {
        "id": "1pfmxapWBjIl",
        "colab_type": "code",
        "outputId": "d17795db-d1d1-432b-f425-ad7fd80c412c",
        "colab": {
          "base_uri": "https://localhost:8080/",
          "height": 34
        }
      },
      "source": [
        "pd_df = pd.DataFrame(np.random.rand(3,2))\n",
        "type(pd_df)"
      ],
      "execution_count": 3,
      "outputs": [
        {
          "output_type": "execute_result",
          "data": {
            "text/plain": [
              "pandas.core.frame.DataFrame"
            ]
          },
          "metadata": {
            "tags": []
          },
          "execution_count": 3
        }
      ]
    },
    {
      "cell_type": "code",
      "metadata": {
        "id": "WDJfOTuxt9c1",
        "colab_type": "code",
        "colab": {
          "base_uri": "https://localhost:8080/",
          "height": 137
        },
        "outputId": "95693fd6-0fcc-48af-e088-1605d06e53ad"
      },
      "source": [
        "pd_df"
      ],
      "execution_count": 4,
      "outputs": [
        {
          "output_type": "execute_result",
          "data": {
            "text/html": [
              "<div>\n",
              "<style scoped>\n",
              "    .dataframe tbody tr th:only-of-type {\n",
              "        vertical-align: middle;\n",
              "    }\n",
              "\n",
              "    .dataframe tbody tr th {\n",
              "        vertical-align: top;\n",
              "    }\n",
              "\n",
              "    .dataframe thead th {\n",
              "        text-align: right;\n",
              "    }\n",
              "</style>\n",
              "<table border=\"1\" class=\"dataframe\">\n",
              "  <thead>\n",
              "    <tr style=\"text-align: right;\">\n",
              "      <th></th>\n",
              "      <th>0</th>\n",
              "      <th>1</th>\n",
              "    </tr>\n",
              "  </thead>\n",
              "  <tbody>\n",
              "    <tr>\n",
              "      <th>0</th>\n",
              "      <td>0.463266</td>\n",
              "      <td>0.645412</td>\n",
              "    </tr>\n",
              "    <tr>\n",
              "      <th>1</th>\n",
              "      <td>0.044415</td>\n",
              "      <td>0.090847</td>\n",
              "    </tr>\n",
              "    <tr>\n",
              "      <th>2</th>\n",
              "      <td>0.853511</td>\n",
              "      <td>0.811784</td>\n",
              "    </tr>\n",
              "  </tbody>\n",
              "</table>\n",
              "</div>"
            ],
            "text/plain": [
              "          0         1\n",
              "0  0.463266  0.645412\n",
              "1  0.044415  0.090847\n",
              "2  0.853511  0.811784"
            ]
          },
          "metadata": {
            "tags": []
          },
          "execution_count": 4
        }
      ]
    },
    {
      "cell_type": "code",
      "metadata": {
        "id": "5mXO3ROrB9nH",
        "colab_type": "code",
        "outputId": "79f67c7c-21a1-4ec8-cb0b-1d3d26e88f57",
        "colab": {
          "base_uri": "https://localhost:8080/",
          "height": 87
        }
      },
      "source": [
        "series = pd.Series(numpy_arr)\n",
        "series"
      ],
      "execution_count": 5,
      "outputs": [
        {
          "output_type": "execute_result",
          "data": {
            "text/plain": [
              "0    0.664064\n",
              "1    0.775704\n",
              "2    0.498049\n",
              "dtype: float64"
            ]
          },
          "metadata": {
            "tags": []
          },
          "execution_count": 5
        }
      ]
    },
    {
      "cell_type": "code",
      "metadata": {
        "id": "Gekt5yBmTNgB",
        "colab_type": "code",
        "outputId": "36eed6e8-c06a-4e76-f254-187e8ef364e8",
        "colab": {
          "base_uri": "https://localhost:8080/",
          "height": 34
        }
      },
      "source": [
        "print(numpy_arr)"
      ],
      "execution_count": 6,
      "outputs": [
        {
          "output_type": "stream",
          "text": [
            "[0.66406424 0.77570413 0.49804857]\n"
          ],
          "name": "stdout"
        }
      ]
    },
    {
      "cell_type": "code",
      "metadata": {
        "id": "HHVPZPLmUWQz",
        "colab_type": "code",
        "outputId": "308d49a8-91e4-40c0-bac6-4ea8e05b2023",
        "colab": {
          "base_uri": "https://localhost:8080/",
          "height": 34
        }
      },
      "source": [
        "numpy_arr[0]"
      ],
      "execution_count": 7,
      "outputs": [
        {
          "output_type": "execute_result",
          "data": {
            "text/plain": [
              "0.6640642397176975"
            ]
          },
          "metadata": {
            "tags": []
          },
          "execution_count": 7
        }
      ]
    },
    {
      "cell_type": "code",
      "metadata": {
        "id": "LdFkDln0UaYO",
        "colab_type": "code",
        "outputId": "fa1babe9-9d56-40cc-8c1c-d660f22fc7c4",
        "colab": {
          "base_uri": "https://localhost:8080/",
          "height": 34
        }
      },
      "source": [
        "series[0]"
      ],
      "execution_count": 8,
      "outputs": [
        {
          "output_type": "execute_result",
          "data": {
            "text/plain": [
              "0.6640642397176975"
            ]
          },
          "metadata": {
            "tags": []
          },
          "execution_count": 8
        }
      ]
    },
    {
      "cell_type": "code",
      "metadata": {
        "id": "TJfWBiqaUcIH",
        "colab_type": "code",
        "colab": {}
      },
      "source": [
        "series = pd.Series(numpy_arr, index=['First','Second','Third'])"
      ],
      "execution_count": 0,
      "outputs": []
    },
    {
      "cell_type": "code",
      "metadata": {
        "id": "MstDgybxUnbk",
        "colab_type": "code",
        "outputId": "7d19bcf6-97c1-4e01-a761-a60b9fb8da2c",
        "colab": {
          "base_uri": "https://localhost:8080/",
          "height": 34
        }
      },
      "source": [
        "series['First']"
      ],
      "execution_count": 10,
      "outputs": [
        {
          "output_type": "execute_result",
          "data": {
            "text/plain": [
              "0.6640642397176975"
            ]
          },
          "metadata": {
            "tags": []
          },
          "execution_count": 10
        }
      ]
    },
    {
      "cell_type": "code",
      "metadata": {
        "id": "ppVR86v2UMk3",
        "colab_type": "code",
        "outputId": "c0c088d8-0572-4106-a016-e0ca501feaa6",
        "colab": {
          "base_uri": "https://localhost:8080/",
          "height": 34
        }
      },
      "source": [
        "series.First\n",
        "#avoid"
      ],
      "execution_count": 11,
      "outputs": [
        {
          "output_type": "execute_result",
          "data": {
            "text/plain": [
              "0.6640642397176975"
            ]
          },
          "metadata": {
            "tags": []
          },
          "execution_count": 11
        }
      ]
    },
    {
      "cell_type": "code",
      "metadata": {
        "id": "weUUBZ6YUp1N",
        "colab_type": "code",
        "outputId": "0d89ced7-ed2b-41b5-9b55-ff45fb79225f",
        "colab": {
          "base_uri": "https://localhost:8080/",
          "height": 34
        }
      },
      "source": [
        "series[0]"
      ],
      "execution_count": 12,
      "outputs": [
        {
          "output_type": "execute_result",
          "data": {
            "text/plain": [
              "0.6640642397176975"
            ]
          },
          "metadata": {
            "tags": []
          },
          "execution_count": 12
        }
      ]
    },
    {
      "cell_type": "code",
      "metadata": {
        "id": "yyPED-0JUrBB",
        "colab_type": "code",
        "outputId": "28cb15f7-3909-4f8b-eb14-17368d6163a6",
        "colab": {
          "base_uri": "https://localhost:8080/",
          "height": 87
        }
      },
      "source": [
        "series"
      ],
      "execution_count": 13,
      "outputs": [
        {
          "output_type": "execute_result",
          "data": {
            "text/plain": [
              "First     0.664064\n",
              "Second    0.775704\n",
              "Third     0.498049\n",
              "dtype: float64"
            ]
          },
          "metadata": {
            "tags": []
          },
          "execution_count": 13
        }
      ]
    },
    {
      "cell_type": "code",
      "metadata": {
        "id": "6LpvH0vQVJgT",
        "colab_type": "code",
        "outputId": "21583e15-75f5-48c1-e189-79a716cb66fa",
        "colab": {
          "base_uri": "https://localhost:8080/",
          "height": 34
        }
      },
      "source": [
        "print(pd_df.columns)"
      ],
      "execution_count": 14,
      "outputs": [
        {
          "output_type": "stream",
          "text": [
            "RangeIndex(start=0, stop=2, step=1)\n"
          ],
          "name": "stdout"
        }
      ]
    },
    {
      "cell_type": "code",
      "metadata": {
        "id": "2l3GRrNlUp08",
        "colab_type": "code",
        "outputId": "bfacb5af-eb5e-4008-a419-cc4306fd42e7",
        "colab": {
          "base_uri": "https://localhost:8080/",
          "height": 137
        }
      },
      "source": [
        "pd_df"
      ],
      "execution_count": 15,
      "outputs": [
        {
          "output_type": "execute_result",
          "data": {
            "text/html": [
              "<div>\n",
              "<style scoped>\n",
              "    .dataframe tbody tr th:only-of-type {\n",
              "        vertical-align: middle;\n",
              "    }\n",
              "\n",
              "    .dataframe tbody tr th {\n",
              "        vertical-align: top;\n",
              "    }\n",
              "\n",
              "    .dataframe thead th {\n",
              "        text-align: right;\n",
              "    }\n",
              "</style>\n",
              "<table border=\"1\" class=\"dataframe\">\n",
              "  <thead>\n",
              "    <tr style=\"text-align: right;\">\n",
              "      <th></th>\n",
              "      <th>0</th>\n",
              "      <th>1</th>\n",
              "    </tr>\n",
              "  </thead>\n",
              "  <tbody>\n",
              "    <tr>\n",
              "      <th>0</th>\n",
              "      <td>0.463266</td>\n",
              "      <td>0.645412</td>\n",
              "    </tr>\n",
              "    <tr>\n",
              "      <th>1</th>\n",
              "      <td>0.044415</td>\n",
              "      <td>0.090847</td>\n",
              "    </tr>\n",
              "    <tr>\n",
              "      <th>2</th>\n",
              "      <td>0.853511</td>\n",
              "      <td>0.811784</td>\n",
              "    </tr>\n",
              "  </tbody>\n",
              "</table>\n",
              "</div>"
            ],
            "text/plain": [
              "          0         1\n",
              "0  0.463266  0.645412\n",
              "1  0.044415  0.090847\n",
              "2  0.853511  0.811784"
            ]
          },
          "metadata": {
            "tags": []
          },
          "execution_count": 15
        }
      ]
    },
    {
      "cell_type": "code",
      "metadata": {
        "id": "rvkrOX0gVPPp",
        "colab_type": "code",
        "colab": {}
      },
      "source": [
        "pd_df.columns = ['First','Second']"
      ],
      "execution_count": 0,
      "outputs": []
    },
    {
      "cell_type": "code",
      "metadata": {
        "id": "yUFVM6lnvVr5",
        "colab_type": "code",
        "colab": {}
      },
      "source": [
        "pd_df=pd_df.rename(columns = {'First':'new_name'})"
      ],
      "execution_count": 0,
      "outputs": []
    },
    {
      "cell_type": "code",
      "metadata": {
        "id": "IAea9JpSVr3m",
        "colab_type": "code",
        "outputId": "93423ec2-f33b-418c-bc89-c70128ffe1ee",
        "colab": {
          "base_uri": "https://localhost:8080/",
          "height": 137
        }
      },
      "source": [
        "pd_df"
      ],
      "execution_count": 18,
      "outputs": [
        {
          "output_type": "execute_result",
          "data": {
            "text/html": [
              "<div>\n",
              "<style scoped>\n",
              "    .dataframe tbody tr th:only-of-type {\n",
              "        vertical-align: middle;\n",
              "    }\n",
              "\n",
              "    .dataframe tbody tr th {\n",
              "        vertical-align: top;\n",
              "    }\n",
              "\n",
              "    .dataframe thead th {\n",
              "        text-align: right;\n",
              "    }\n",
              "</style>\n",
              "<table border=\"1\" class=\"dataframe\">\n",
              "  <thead>\n",
              "    <tr style=\"text-align: right;\">\n",
              "      <th></th>\n",
              "      <th>new_name</th>\n",
              "      <th>Second</th>\n",
              "    </tr>\n",
              "  </thead>\n",
              "  <tbody>\n",
              "    <tr>\n",
              "      <th>0</th>\n",
              "      <td>0.463266</td>\n",
              "      <td>0.645412</td>\n",
              "    </tr>\n",
              "    <tr>\n",
              "      <th>1</th>\n",
              "      <td>0.044415</td>\n",
              "      <td>0.090847</td>\n",
              "    </tr>\n",
              "    <tr>\n",
              "      <th>2</th>\n",
              "      <td>0.853511</td>\n",
              "      <td>0.811784</td>\n",
              "    </tr>\n",
              "  </tbody>\n",
              "</table>\n",
              "</div>"
            ],
            "text/plain": [
              "   new_name    Second\n",
              "0  0.463266  0.645412\n",
              "1  0.044415  0.090847\n",
              "2  0.853511  0.811784"
            ]
          },
          "metadata": {
            "tags": []
          },
          "execution_count": 18
        }
      ]
    },
    {
      "cell_type": "code",
      "metadata": {
        "id": "WMnrEEv0vhJx",
        "colab_type": "code",
        "colab": {}
      },
      "source": [
        "pd_df=pd_df.rename(columns = {'new_name':'First'})"
      ],
      "execution_count": 0,
      "outputs": []
    },
    {
      "cell_type": "code",
      "metadata": {
        "id": "vNCVXiAXVwD_",
        "colab_type": "code",
        "outputId": "53fde47e-f5e3-4afa-f056-72c5a2f2faeb",
        "colab": {
          "base_uri": "https://localhost:8080/",
          "height": 87
        }
      },
      "source": [
        "pd_df.Second"
      ],
      "execution_count": 20,
      "outputs": [
        {
          "output_type": "execute_result",
          "data": {
            "text/plain": [
              "0    0.645412\n",
              "1    0.090847\n",
              "2    0.811784\n",
              "Name: Second, dtype: float64"
            ]
          },
          "metadata": {
            "tags": []
          },
          "execution_count": 20
        }
      ]
    },
    {
      "cell_type": "code",
      "metadata": {
        "id": "9HzWIzE_Vzj4",
        "colab_type": "code",
        "outputId": "884b38a5-4649-45be-9c7f-feba412fa8a9",
        "colab": {
          "base_uri": "https://localhost:8080/",
          "height": 87
        }
      },
      "source": [
        "pd_df['Second']"
      ],
      "execution_count": 21,
      "outputs": [
        {
          "output_type": "execute_result",
          "data": {
            "text/plain": [
              "0    0.645412\n",
              "1    0.090847\n",
              "2    0.811784\n",
              "Name: Second, dtype: float64"
            ]
          },
          "metadata": {
            "tags": []
          },
          "execution_count": 21
        }
      ]
    },
    {
      "cell_type": "markdown",
      "metadata": {
        "id": "ngqkl-p5V9gA",
        "colab_type": "text"
      },
      "source": [
        "Since it is only one column here, it is a series, not a data frame. "
      ]
    },
    {
      "cell_type": "markdown",
      "metadata": {
        "id": "USgtDNvtWOpC",
        "colab_type": "text"
      },
      "source": [
        "Pandas compatible data sources -\n",
        "\n",
        "\n",
        "*   Text File\n",
        "    *   CSV\n",
        "    *   JSON\n",
        "    *   HTML\n",
        "*   Binary Files\n",
        "*   Relational Databases\n"
      ]
    },
    {
      "cell_type": "code",
      "metadata": {
        "id": "S1Y6F_a3V10y",
        "colab_type": "code",
        "colab": {}
      },
      "source": [
        "df = pd.read_csv('https://raw.githubusercontent.com/dipbanik/MyTectraAugust/master/Data_Manipulation/artwork_data.csv', nrows=5)"
      ],
      "execution_count": 0,
      "outputs": []
    },
    {
      "cell_type": "code",
      "metadata": {
        "id": "pYsZoXd_cSPf",
        "colab_type": "code",
        "outputId": "a8102aed-eaf2-44a6-9678-82f58ddd0555",
        "colab": {
          "base_uri": "https://localhost:8080/",
          "height": 567
        }
      },
      "source": [
        "df.head()"
      ],
      "execution_count": 24,
      "outputs": [
        {
          "output_type": "execute_result",
          "data": {
            "text/html": [
              "<div>\n",
              "<style scoped>\n",
              "    .dataframe tbody tr th:only-of-type {\n",
              "        vertical-align: middle;\n",
              "    }\n",
              "\n",
              "    .dataframe tbody tr th {\n",
              "        vertical-align: top;\n",
              "    }\n",
              "\n",
              "    .dataframe thead th {\n",
              "        text-align: right;\n",
              "    }\n",
              "</style>\n",
              "<table border=\"1\" class=\"dataframe\">\n",
              "  <thead>\n",
              "    <tr style=\"text-align: right;\">\n",
              "      <th></th>\n",
              "      <th>id</th>\n",
              "      <th>accession_number</th>\n",
              "      <th>artist</th>\n",
              "      <th>artistRole</th>\n",
              "      <th>artistId</th>\n",
              "      <th>title</th>\n",
              "      <th>dateText</th>\n",
              "      <th>medium</th>\n",
              "      <th>creditLine</th>\n",
              "      <th>year</th>\n",
              "      <th>acquisitionYear</th>\n",
              "      <th>dimensions</th>\n",
              "      <th>width</th>\n",
              "      <th>height</th>\n",
              "      <th>depth</th>\n",
              "      <th>units</th>\n",
              "      <th>inscription</th>\n",
              "      <th>thumbnailCopyright</th>\n",
              "      <th>thumbnailUrl</th>\n",
              "      <th>url</th>\n",
              "    </tr>\n",
              "  </thead>\n",
              "  <tbody>\n",
              "    <tr>\n",
              "      <th>0</th>\n",
              "      <td>1035</td>\n",
              "      <td>A00001</td>\n",
              "      <td>Blake, Robert</td>\n",
              "      <td>artist</td>\n",
              "      <td>38</td>\n",
              "      <td>A Figure Bowing before a Seated Old Man with h...</td>\n",
              "      <td>date not known</td>\n",
              "      <td>Watercolour, ink, chalk and graphite on paper....</td>\n",
              "      <td>Presented by Mrs John Richmond 1922</td>\n",
              "      <td>NaN</td>\n",
              "      <td>1922</td>\n",
              "      <td>support: 394 x 419 mm</td>\n",
              "      <td>394</td>\n",
              "      <td>419</td>\n",
              "      <td>NaN</td>\n",
              "      <td>mm</td>\n",
              "      <td>NaN</td>\n",
              "      <td>NaN</td>\n",
              "      <td>http://www.tate.org.uk/art/images/work/A/A00/A...</td>\n",
              "      <td>http://www.tate.org.uk/art/artworks/blake-a-fi...</td>\n",
              "    </tr>\n",
              "    <tr>\n",
              "      <th>1</th>\n",
              "      <td>1036</td>\n",
              "      <td>A00002</td>\n",
              "      <td>Blake, Robert</td>\n",
              "      <td>artist</td>\n",
              "      <td>38</td>\n",
              "      <td>Two Drawings of Frightened Figures, Probably f...</td>\n",
              "      <td>date not known</td>\n",
              "      <td>Graphite on paper</td>\n",
              "      <td>Presented by Mrs John Richmond 1922</td>\n",
              "      <td>NaN</td>\n",
              "      <td>1922</td>\n",
              "      <td>support: 311 x 213 mm</td>\n",
              "      <td>311</td>\n",
              "      <td>213</td>\n",
              "      <td>NaN</td>\n",
              "      <td>mm</td>\n",
              "      <td>NaN</td>\n",
              "      <td>NaN</td>\n",
              "      <td>http://www.tate.org.uk/art/images/work/A/A00/A...</td>\n",
              "      <td>http://www.tate.org.uk/art/artworks/blake-two-...</td>\n",
              "    </tr>\n",
              "    <tr>\n",
              "      <th>2</th>\n",
              "      <td>1037</td>\n",
              "      <td>A00003</td>\n",
              "      <td>Blake, Robert</td>\n",
              "      <td>artist</td>\n",
              "      <td>38</td>\n",
              "      <td>The Preaching of Warning. Verso: An Old Man En...</td>\n",
              "      <td>?c.1785</td>\n",
              "      <td>Graphite on paper. Verso: graphite on paper</td>\n",
              "      <td>Presented by Mrs John Richmond 1922</td>\n",
              "      <td>1785.0</td>\n",
              "      <td>1922</td>\n",
              "      <td>support: 343 x 467 mm</td>\n",
              "      <td>343</td>\n",
              "      <td>467</td>\n",
              "      <td>NaN</td>\n",
              "      <td>mm</td>\n",
              "      <td>NaN</td>\n",
              "      <td>NaN</td>\n",
              "      <td>http://www.tate.org.uk/art/images/work/A/A00/A...</td>\n",
              "      <td>http://www.tate.org.uk/art/artworks/blake-the-...</td>\n",
              "    </tr>\n",
              "    <tr>\n",
              "      <th>3</th>\n",
              "      <td>1038</td>\n",
              "      <td>A00004</td>\n",
              "      <td>Blake, Robert</td>\n",
              "      <td>artist</td>\n",
              "      <td>38</td>\n",
              "      <td>Six Drawings of Figures with Outstretched Arms</td>\n",
              "      <td>date not known</td>\n",
              "      <td>Graphite on paper</td>\n",
              "      <td>Presented by Mrs John Richmond 1922</td>\n",
              "      <td>NaN</td>\n",
              "      <td>1922</td>\n",
              "      <td>support: 318 x 394 mm</td>\n",
              "      <td>318</td>\n",
              "      <td>394</td>\n",
              "      <td>NaN</td>\n",
              "      <td>mm</td>\n",
              "      <td>NaN</td>\n",
              "      <td>NaN</td>\n",
              "      <td>http://www.tate.org.uk/art/images/work/A/A00/A...</td>\n",
              "      <td>http://www.tate.org.uk/art/artworks/blake-six-...</td>\n",
              "    </tr>\n",
              "    <tr>\n",
              "      <th>4</th>\n",
              "      <td>1039</td>\n",
              "      <td>A00005</td>\n",
              "      <td>Blake, William</td>\n",
              "      <td>artist</td>\n",
              "      <td>39</td>\n",
              "      <td>The Circle of the Lustful: Francesca da Rimini...</td>\n",
              "      <td>1826–7, reprinted 1892</td>\n",
              "      <td>Line engraving on paper</td>\n",
              "      <td>Purchased with the assistance of a special gra...</td>\n",
              "      <td>1826.0</td>\n",
              "      <td>1919</td>\n",
              "      <td>image: 243 x 335 mm</td>\n",
              "      <td>243</td>\n",
              "      <td>335</td>\n",
              "      <td>NaN</td>\n",
              "      <td>mm</td>\n",
              "      <td>NaN</td>\n",
              "      <td>NaN</td>\n",
              "      <td>http://www.tate.org.uk/art/images/work/A/A00/A...</td>\n",
              "      <td>http://www.tate.org.uk/art/artworks/blake-the-...</td>\n",
              "    </tr>\n",
              "  </tbody>\n",
              "</table>\n",
              "</div>"
            ],
            "text/plain": [
              "     id  ...                                                url\n",
              "0  1035  ...  http://www.tate.org.uk/art/artworks/blake-a-fi...\n",
              "1  1036  ...  http://www.tate.org.uk/art/artworks/blake-two-...\n",
              "2  1037  ...  http://www.tate.org.uk/art/artworks/blake-the-...\n",
              "3  1038  ...  http://www.tate.org.uk/art/artworks/blake-six-...\n",
              "4  1039  ...  http://www.tate.org.uk/art/artworks/blake-the-...\n",
              "\n",
              "[5 rows x 20 columns]"
            ]
          },
          "metadata": {
            "tags": []
          },
          "execution_count": 24
        }
      ]
    },
    {
      "cell_type": "code",
      "metadata": {
        "id": "H09s9rWockrL",
        "colab_type": "code",
        "colab": {}
      },
      "source": [
        "df = pd.read_csv('https://raw.githubusercontent.com/dipbanik/MyTectraAugust/master/Data_Manipulation/artwork_data.csv', nrows=5, index_col='id', usecols=['id','artist'])"
      ],
      "execution_count": 0,
      "outputs": []
    },
    {
      "cell_type": "code",
      "metadata": {
        "id": "byLh3MuQgHKv",
        "colab_type": "code",
        "outputId": "e30d7c53-7889-466d-d061-e6eaa4cef30b",
        "colab": {
          "base_uri": "https://localhost:8080/",
          "height": 227
        }
      },
      "source": [
        "df"
      ],
      "execution_count": 27,
      "outputs": [
        {
          "output_type": "execute_result",
          "data": {
            "text/html": [
              "<div>\n",
              "<style scoped>\n",
              "    .dataframe tbody tr th:only-of-type {\n",
              "        vertical-align: middle;\n",
              "    }\n",
              "\n",
              "    .dataframe tbody tr th {\n",
              "        vertical-align: top;\n",
              "    }\n",
              "\n",
              "    .dataframe thead th {\n",
              "        text-align: right;\n",
              "    }\n",
              "</style>\n",
              "<table border=\"1\" class=\"dataframe\">\n",
              "  <thead>\n",
              "    <tr style=\"text-align: right;\">\n",
              "      <th></th>\n",
              "      <th>artist</th>\n",
              "    </tr>\n",
              "    <tr>\n",
              "      <th>id</th>\n",
              "      <th></th>\n",
              "    </tr>\n",
              "  </thead>\n",
              "  <tbody>\n",
              "    <tr>\n",
              "      <th>1035</th>\n",
              "      <td>Blake, Robert</td>\n",
              "    </tr>\n",
              "    <tr>\n",
              "      <th>1036</th>\n",
              "      <td>Blake, Robert</td>\n",
              "    </tr>\n",
              "    <tr>\n",
              "      <th>1037</th>\n",
              "      <td>Blake, Robert</td>\n",
              "    </tr>\n",
              "    <tr>\n",
              "      <th>1038</th>\n",
              "      <td>Blake, Robert</td>\n",
              "    </tr>\n",
              "    <tr>\n",
              "      <th>1039</th>\n",
              "      <td>Blake, William</td>\n",
              "    </tr>\n",
              "  </tbody>\n",
              "</table>\n",
              "</div>"
            ],
            "text/plain": [
              "              artist\n",
              "id                  \n",
              "1035   Blake, Robert\n",
              "1036   Blake, Robert\n",
              "1037   Blake, Robert\n",
              "1038   Blake, Robert\n",
              "1039  Blake, William"
            ]
          },
          "metadata": {
            "tags": []
          },
          "execution_count": 27
        }
      ]
    },
    {
      "cell_type": "code",
      "metadata": {
        "id": "sO-5PANQgI61",
        "colab_type": "code",
        "colab": {}
      },
      "source": [
        "cols_to_use = ['id','artist', 'title','medium',\t'year',\t'acquisitionYear', \n",
        "               'width',\t'height', 'units']"
      ],
      "execution_count": 0,
      "outputs": []
    },
    {
      "cell_type": "code",
      "metadata": {
        "id": "BjYRRLjFhMKK",
        "colab_type": "code",
        "colab": {}
      },
      "source": [
        "df = pd.read_csv('https://raw.githubusercontent.com/dipbanik/MyTectraAugust/master/Data_Manipulation/artwork_data.csv', usecols=cols_to_use, index_col='id', low_memory=False)\n",
        "#selected few columns from the csv using usecols and set low memory = false so that the big data could be loaded.\n",
        "#set the index column to the id field."
      ],
      "execution_count": 0,
      "outputs": []
    },
    {
      "cell_type": "code",
      "metadata": {
        "id": "GGmqN-qvhg3y",
        "colab_type": "code",
        "outputId": "83b87846-4078-479c-c3a7-e71f9efd8957",
        "colab": {
          "base_uri": "https://localhost:8080/",
          "height": 34
        }
      },
      "source": [
        "df.shape"
      ],
      "execution_count": 31,
      "outputs": [
        {
          "output_type": "execute_result",
          "data": {
            "text/plain": [
              "(69201, 8)"
            ]
          },
          "metadata": {
            "tags": []
          },
          "execution_count": 31
        }
      ]
    },
    {
      "cell_type": "code",
      "metadata": {
        "id": "k74kv1UehpMC",
        "colab_type": "code",
        "outputId": "ce14a21a-11c7-4842-da75-c66a5e4b77bc",
        "colab": {
          "base_uri": "https://localhost:8080/",
          "height": 217
        }
      },
      "source": [
        "df.head(3)"
      ],
      "execution_count": 32,
      "outputs": [
        {
          "output_type": "execute_result",
          "data": {
            "text/html": [
              "<div>\n",
              "<style scoped>\n",
              "    .dataframe tbody tr th:only-of-type {\n",
              "        vertical-align: middle;\n",
              "    }\n",
              "\n",
              "    .dataframe tbody tr th {\n",
              "        vertical-align: top;\n",
              "    }\n",
              "\n",
              "    .dataframe thead th {\n",
              "        text-align: right;\n",
              "    }\n",
              "</style>\n",
              "<table border=\"1\" class=\"dataframe\">\n",
              "  <thead>\n",
              "    <tr style=\"text-align: right;\">\n",
              "      <th></th>\n",
              "      <th>artist</th>\n",
              "      <th>title</th>\n",
              "      <th>medium</th>\n",
              "      <th>year</th>\n",
              "      <th>acquisitionYear</th>\n",
              "      <th>width</th>\n",
              "      <th>height</th>\n",
              "      <th>units</th>\n",
              "    </tr>\n",
              "    <tr>\n",
              "      <th>id</th>\n",
              "      <th></th>\n",
              "      <th></th>\n",
              "      <th></th>\n",
              "      <th></th>\n",
              "      <th></th>\n",
              "      <th></th>\n",
              "      <th></th>\n",
              "      <th></th>\n",
              "    </tr>\n",
              "  </thead>\n",
              "  <tbody>\n",
              "    <tr>\n",
              "      <th>1035</th>\n",
              "      <td>Blake, Robert</td>\n",
              "      <td>A Figure Bowing before a Seated Old Man with h...</td>\n",
              "      <td>Watercolour, ink, chalk and graphite on paper....</td>\n",
              "      <td>NaN</td>\n",
              "      <td>1922.0</td>\n",
              "      <td>394</td>\n",
              "      <td>419</td>\n",
              "      <td>mm</td>\n",
              "    </tr>\n",
              "    <tr>\n",
              "      <th>1036</th>\n",
              "      <td>Blake, Robert</td>\n",
              "      <td>Two Drawings of Frightened Figures, Probably f...</td>\n",
              "      <td>Graphite on paper</td>\n",
              "      <td>NaN</td>\n",
              "      <td>1922.0</td>\n",
              "      <td>311</td>\n",
              "      <td>213</td>\n",
              "      <td>mm</td>\n",
              "    </tr>\n",
              "    <tr>\n",
              "      <th>1037</th>\n",
              "      <td>Blake, Robert</td>\n",
              "      <td>The Preaching of Warning. Verso: An Old Man En...</td>\n",
              "      <td>Graphite on paper. Verso: graphite on paper</td>\n",
              "      <td>1785</td>\n",
              "      <td>1922.0</td>\n",
              "      <td>343</td>\n",
              "      <td>467</td>\n",
              "      <td>mm</td>\n",
              "    </tr>\n",
              "  </tbody>\n",
              "</table>\n",
              "</div>"
            ],
            "text/plain": [
              "             artist  ... units\n",
              "id                   ...      \n",
              "1035  Blake, Robert  ...    mm\n",
              "1036  Blake, Robert  ...    mm\n",
              "1037  Blake, Robert  ...    mm\n",
              "\n",
              "[3 rows x 8 columns]"
            ]
          },
          "metadata": {
            "tags": []
          },
          "execution_count": 32
        }
      ]
    },
    {
      "cell_type": "code",
      "metadata": {
        "id": "njTK9YoEcw2L",
        "colab_type": "code",
        "outputId": "9f185376-cdbe-4b5e-db20-ab51a8ac5cf6",
        "colab": {
          "base_uri": "https://localhost:8080/",
          "height": 34
        }
      },
      "source": [
        "len(set(df['artist']))"
      ],
      "execution_count": 33,
      "outputs": [
        {
          "output_type": "execute_result",
          "data": {
            "text/plain": [
              "3336"
            ]
          },
          "metadata": {
            "tags": []
          },
          "execution_count": 33
        }
      ]
    },
    {
      "cell_type": "code",
      "metadata": {
        "id": "uNLcCA8phuJ3",
        "colab_type": "code",
        "colab": {}
      },
      "source": [
        ""
      ],
      "execution_count": 0,
      "outputs": []
    },
    {
      "cell_type": "markdown",
      "metadata": {
        "id": "68ej4hk5zoPh",
        "colab_type": "text"
      },
      "source": [
        "How many distinct artists are there in the dataset?\n",
        "\n",
        "How many artworks by Francis Bacon are there?\n",
        "\n",
        "What is the artwork with the biggest dimensions? "
      ]
    },
    {
      "cell_type": "code",
      "metadata": {
        "id": "4tH7bZye0-5Y",
        "colab_type": "code",
        "outputId": "cd2aa23b-e59f-4e97-d23f-257fd9f50f28",
        "colab": {
          "base_uri": "https://localhost:8080/",
          "height": 1000
        }
      },
      "source": [
        "df['artist']\n",
        "#this will give us a series"
      ],
      "execution_count": 34,
      "outputs": [
        {
          "output_type": "execute_result",
          "data": {
            "text/plain": [
              "id\n",
              "1035                                          Blake, Robert\n",
              "1036                                          Blake, Robert\n",
              "1037                                          Blake, Robert\n",
              "1038                                          Blake, Robert\n",
              "1039                                         Blake, William\n",
              "1040                                         Blake, William\n",
              "1041                                         Blake, William\n",
              "1042                                         Blake, William\n",
              "1043                                         Blake, William\n",
              "1044                                         Blake, William\n",
              "1045                                         Blake, William\n",
              "1046                                         Blake, William\n",
              "1047                                         Blake, William\n",
              "1048                                         Blake, William\n",
              "1049                                         Blake, William\n",
              "1050                                         Blake, William\n",
              "1051                                         Blake, William\n",
              "1052                                         Blake, William\n",
              "1053                                         Blake, William\n",
              "1054                                         Blake, William\n",
              "1055                                         Blake, William\n",
              "1056                                         Blake, William\n",
              "1057                                         Blake, William\n",
              "1058                                         Blake, William\n",
              "1059                                         Blake, William\n",
              "1060                                         Blake, William\n",
              "1061                                         Blake, William\n",
              "1062                                         Blake, William\n",
              "1063                                         Blake, William\n",
              "1064                                         Blake, William\n",
              "                                ...                        \n",
              "121196                                     Barlow, Phyllida\n",
              "121197                                     Barlow, Phyllida\n",
              "121198                                     Barlow, Phyllida\n",
              "115637                                         Latham, John\n",
              "115638                                         Latham, John\n",
              "122545                                         Kirkeby, Per\n",
              "120104                                  Karamustafa, Gulsun\n",
              "121565                                       Walker, Kelley\n",
              "116157                                      Bulloch, Angela\n",
              "117761                                       Atlas, Charles\n",
              "115217    T R Uthco (Doug Hall born 1944, Diane Andrews ...\n",
              "122537                                      Gordon, Douglas\n",
              "120527                                         Black, Karla\n",
              "127128                                         Lord, Andrew\n",
              "127129                                         Lord, Andrew\n",
              "127130                                         Lord, Andrew\n",
              "127131                                         Lord, Andrew\n",
              "121283                                          Rhodes, Lis\n",
              "129068                                         Lord, Andrew\n",
              "117863                                 Andrade, Jonathas de\n",
              "120549                                        Oursler, Tony\n",
              "123620                                        Sterne, Hedda\n",
              "122900                                      Flanagan, Barry\n",
              "122958                                   P-Orridge, Genesis\n",
              "122959                                   P-Orridge, Genesis\n",
              "122960                                   P-Orridge, Genesis\n",
              "122961                                   P-Orridge, Genesis\n",
              "121181                                         Hatoum, Mona\n",
              "112306                                        Creed, Martin\n",
              "127035                                    Brunias, Agostino\n",
              "Name: artist, Length: 69201, dtype: object"
            ]
          },
          "metadata": {
            "tags": []
          },
          "execution_count": 34
        }
      ]
    },
    {
      "cell_type": "code",
      "metadata": {
        "id": "c6b4qKtrz-ry",
        "colab_type": "code",
        "outputId": "2d7e5df9-8d35-4d4a-ddd4-41b92db93608",
        "colab": {
          "base_uri": "https://localhost:8080/",
          "height": 1000
        }
      },
      "source": [
        "df[['artist','title']]\n",
        "#this will give us a dataset"
      ],
      "execution_count": 35,
      "outputs": [
        {
          "output_type": "execute_result",
          "data": {
            "text/html": [
              "<div>\n",
              "<style scoped>\n",
              "    .dataframe tbody tr th:only-of-type {\n",
              "        vertical-align: middle;\n",
              "    }\n",
              "\n",
              "    .dataframe tbody tr th {\n",
              "        vertical-align: top;\n",
              "    }\n",
              "\n",
              "    .dataframe thead th {\n",
              "        text-align: right;\n",
              "    }\n",
              "</style>\n",
              "<table border=\"1\" class=\"dataframe\">\n",
              "  <thead>\n",
              "    <tr style=\"text-align: right;\">\n",
              "      <th></th>\n",
              "      <th>artist</th>\n",
              "      <th>title</th>\n",
              "    </tr>\n",
              "    <tr>\n",
              "      <th>id</th>\n",
              "      <th></th>\n",
              "      <th></th>\n",
              "    </tr>\n",
              "  </thead>\n",
              "  <tbody>\n",
              "    <tr>\n",
              "      <th>1035</th>\n",
              "      <td>Blake, Robert</td>\n",
              "      <td>A Figure Bowing before a Seated Old Man with h...</td>\n",
              "    </tr>\n",
              "    <tr>\n",
              "      <th>1036</th>\n",
              "      <td>Blake, Robert</td>\n",
              "      <td>Two Drawings of Frightened Figures, Probably f...</td>\n",
              "    </tr>\n",
              "    <tr>\n",
              "      <th>1037</th>\n",
              "      <td>Blake, Robert</td>\n",
              "      <td>The Preaching of Warning. Verso: An Old Man En...</td>\n",
              "    </tr>\n",
              "    <tr>\n",
              "      <th>1038</th>\n",
              "      <td>Blake, Robert</td>\n",
              "      <td>Six Drawings of Figures with Outstretched Arms</td>\n",
              "    </tr>\n",
              "    <tr>\n",
              "      <th>1039</th>\n",
              "      <td>Blake, William</td>\n",
              "      <td>The Circle of the Lustful: Francesca da Rimini...</td>\n",
              "    </tr>\n",
              "    <tr>\n",
              "      <th>1040</th>\n",
              "      <td>Blake, William</td>\n",
              "      <td>Ciampolo the Barrator Tormented by the Devils</td>\n",
              "    </tr>\n",
              "    <tr>\n",
              "      <th>1041</th>\n",
              "      <td>Blake, William</td>\n",
              "      <td>The Baffled Devils Fighting</td>\n",
              "    </tr>\n",
              "    <tr>\n",
              "      <th>1042</th>\n",
              "      <td>Blake, William</td>\n",
              "      <td>The Six-Footed Serpent Attacking Agnolo Brunel...</td>\n",
              "    </tr>\n",
              "    <tr>\n",
              "      <th>1043</th>\n",
              "      <td>Blake, William</td>\n",
              "      <td>The Serpent Attacking Buoso Donati</td>\n",
              "    </tr>\n",
              "    <tr>\n",
              "      <th>1044</th>\n",
              "      <td>Blake, William</td>\n",
              "      <td>The Pit of Disease: The Falsifiers</td>\n",
              "    </tr>\n",
              "    <tr>\n",
              "      <th>1045</th>\n",
              "      <td>Blake, William</td>\n",
              "      <td>Dante Striking against Bocca Degli Abati</td>\n",
              "    </tr>\n",
              "    <tr>\n",
              "      <th>1046</th>\n",
              "      <td>Blake, William</td>\n",
              "      <td>Job and his Family</td>\n",
              "    </tr>\n",
              "    <tr>\n",
              "      <th>1047</th>\n",
              "      <td>Blake, William</td>\n",
              "      <td>Satan before the Throne of God</td>\n",
              "    </tr>\n",
              "    <tr>\n",
              "      <th>1048</th>\n",
              "      <td>Blake, William</td>\n",
              "      <td>Job’s Sons and Daughters Overwhelmed by Satan</td>\n",
              "    </tr>\n",
              "    <tr>\n",
              "      <th>1049</th>\n",
              "      <td>Blake, William</td>\n",
              "      <td>The Messengers tell Job of his Misfortunes</td>\n",
              "    </tr>\n",
              "    <tr>\n",
              "      <th>1050</th>\n",
              "      <td>Blake, William</td>\n",
              "      <td>Satan Going Forth from the Presence of the Lor...</td>\n",
              "    </tr>\n",
              "    <tr>\n",
              "      <th>1051</th>\n",
              "      <td>Blake, William</td>\n",
              "      <td>Satan Smiting Job with Sore Boils</td>\n",
              "    </tr>\n",
              "    <tr>\n",
              "      <th>1052</th>\n",
              "      <td>Blake, William</td>\n",
              "      <td>Job’s Comforters</td>\n",
              "    </tr>\n",
              "    <tr>\n",
              "      <th>1053</th>\n",
              "      <td>Blake, William</td>\n",
              "      <td>Job’s Despair</td>\n",
              "    </tr>\n",
              "    <tr>\n",
              "      <th>1054</th>\n",
              "      <td>Blake, William</td>\n",
              "      <td>The Vision of Eliphaz</td>\n",
              "    </tr>\n",
              "    <tr>\n",
              "      <th>1055</th>\n",
              "      <td>Blake, William</td>\n",
              "      <td>Job Rebuked by his Friends</td>\n",
              "    </tr>\n",
              "    <tr>\n",
              "      <th>1056</th>\n",
              "      <td>Blake, William</td>\n",
              "      <td>Job’s Evil Dreams</td>\n",
              "    </tr>\n",
              "    <tr>\n",
              "      <th>1057</th>\n",
              "      <td>Blake, William</td>\n",
              "      <td>The Wrath of Elihu</td>\n",
              "    </tr>\n",
              "    <tr>\n",
              "      <th>1058</th>\n",
              "      <td>Blake, William</td>\n",
              "      <td>The Lord Answering Job out of the Whirlwind</td>\n",
              "    </tr>\n",
              "    <tr>\n",
              "      <th>1059</th>\n",
              "      <td>Blake, William</td>\n",
              "      <td>When the Morning Stars Sang Together</td>\n",
              "    </tr>\n",
              "    <tr>\n",
              "      <th>1060</th>\n",
              "      <td>Blake, William</td>\n",
              "      <td>Behemoth and Leviathan</td>\n",
              "    </tr>\n",
              "    <tr>\n",
              "      <th>1061</th>\n",
              "      <td>Blake, William</td>\n",
              "      <td>The Fall of Satan</td>\n",
              "    </tr>\n",
              "    <tr>\n",
              "      <th>1062</th>\n",
              "      <td>Blake, William</td>\n",
              "      <td>The Vision of Christ</td>\n",
              "    </tr>\n",
              "    <tr>\n",
              "      <th>1063</th>\n",
              "      <td>Blake, William</td>\n",
              "      <td>Job’s Sacrifice</td>\n",
              "    </tr>\n",
              "    <tr>\n",
              "      <th>1064</th>\n",
              "      <td>Blake, William</td>\n",
              "      <td>Every Man also Gave him a Piece of Money</td>\n",
              "    </tr>\n",
              "    <tr>\n",
              "      <th>...</th>\n",
              "      <td>...</td>\n",
              "      <td>...</td>\n",
              "    </tr>\n",
              "    <tr>\n",
              "      <th>121196</th>\n",
              "      <td>Barlow, Phyllida</td>\n",
              "      <td>Untitled</td>\n",
              "    </tr>\n",
              "    <tr>\n",
              "      <th>121197</th>\n",
              "      <td>Barlow, Phyllida</td>\n",
              "      <td>Untitled</td>\n",
              "    </tr>\n",
              "    <tr>\n",
              "      <th>121198</th>\n",
              "      <td>Barlow, Phyllida</td>\n",
              "      <td>Untitled</td>\n",
              "    </tr>\n",
              "    <tr>\n",
              "      <th>115637</th>\n",
              "      <td>Latham, John</td>\n",
              "      <td>Unedited Material From the Star</td>\n",
              "    </tr>\n",
              "    <tr>\n",
              "      <th>115638</th>\n",
              "      <td>Latham, John</td>\n",
              "      <td>Encyclopedia Britannica</td>\n",
              "    </tr>\n",
              "    <tr>\n",
              "      <th>122545</th>\n",
              "      <td>Kirkeby, Per</td>\n",
              "      <td>Composition</td>\n",
              "    </tr>\n",
              "    <tr>\n",
              "      <th>120104</th>\n",
              "      <td>Karamustafa, Gulsun</td>\n",
              "      <td>Memory of a Square</td>\n",
              "    </tr>\n",
              "    <tr>\n",
              "      <th>121565</th>\n",
              "      <td>Walker, Kelley</td>\n",
              "      <td>Will We Ever Kill The Bug</td>\n",
              "    </tr>\n",
              "    <tr>\n",
              "      <th>116157</th>\n",
              "      <td>Bulloch, Angela</td>\n",
              "      <td>Aluminium 4</td>\n",
              "    </tr>\n",
              "    <tr>\n",
              "      <th>117761</th>\n",
              "      <td>Atlas, Charles</td>\n",
              "      <td>Joints 4tet Ensemble</td>\n",
              "    </tr>\n",
              "    <tr>\n",
              "      <th>115217</th>\n",
              "      <td>T R Uthco (Doug Hall born 1944, Diane Andrews ...</td>\n",
              "      <td>The Eternal Frame</td>\n",
              "    </tr>\n",
              "    <tr>\n",
              "      <th>122537</th>\n",
              "      <td>Gordon, Douglas</td>\n",
              "      <td>Feature Film</td>\n",
              "    </tr>\n",
              "    <tr>\n",
              "      <th>120527</th>\n",
              "      <td>Black, Karla</td>\n",
              "      <td>At Fault</td>\n",
              "    </tr>\n",
              "    <tr>\n",
              "      <th>127128</th>\n",
              "      <td>Lord, Andrew</td>\n",
              "      <td>Three Vases. Fist</td>\n",
              "    </tr>\n",
              "    <tr>\n",
              "      <th>127129</th>\n",
              "      <td>Lord, Andrew</td>\n",
              "      <td>biting</td>\n",
              "    </tr>\n",
              "    <tr>\n",
              "      <th>127130</th>\n",
              "      <td>Lord, Andrew</td>\n",
              "      <td>breathing</td>\n",
              "    </tr>\n",
              "    <tr>\n",
              "      <th>127131</th>\n",
              "      <td>Lord, Andrew</td>\n",
              "      <td>Untitled (from the Gauguin Series)</td>\n",
              "    </tr>\n",
              "    <tr>\n",
              "      <th>121283</th>\n",
              "      <td>Rhodes, Lis</td>\n",
              "      <td>Light Music</td>\n",
              "    </tr>\n",
              "    <tr>\n",
              "      <th>129068</th>\n",
              "      <td>Lord, Andrew</td>\n",
              "      <td>Coffee service and tray. Impressionist set</td>\n",
              "    </tr>\n",
              "    <tr>\n",
              "      <th>117863</th>\n",
              "      <td>Andrade, Jonathas de</td>\n",
              "      <td>Tropical Hangover</td>\n",
              "    </tr>\n",
              "    <tr>\n",
              "      <th>120549</th>\n",
              "      <td>Oursler, Tony</td>\n",
              "      <td>The Influence Machine</td>\n",
              "    </tr>\n",
              "    <tr>\n",
              "      <th>123620</th>\n",
              "      <td>Sterne, Hedda</td>\n",
              "      <td>NY, NY No. X</td>\n",
              "    </tr>\n",
              "    <tr>\n",
              "      <th>122900</th>\n",
              "      <td>Flanagan, Barry</td>\n",
              "      <td>sand girl</td>\n",
              "    </tr>\n",
              "    <tr>\n",
              "      <th>122958</th>\n",
              "      <td>P-Orridge, Genesis</td>\n",
              "      <td>Venus Mound (from Tampax Romana)</td>\n",
              "    </tr>\n",
              "    <tr>\n",
              "      <th>122959</th>\n",
              "      <td>P-Orridge, Genesis</td>\n",
              "      <td>It’s That Time Of The Month (from Tampax Romana)</td>\n",
              "    </tr>\n",
              "    <tr>\n",
              "      <th>122960</th>\n",
              "      <td>P-Orridge, Genesis</td>\n",
              "      <td>Larvae (from Tampax Romana)</td>\n",
              "    </tr>\n",
              "    <tr>\n",
              "      <th>122961</th>\n",
              "      <td>P-Orridge, Genesis</td>\n",
              "      <td>Living Womb (from Tampax Romana)</td>\n",
              "    </tr>\n",
              "    <tr>\n",
              "      <th>121181</th>\n",
              "      <td>Hatoum, Mona</td>\n",
              "      <td>Present Tense</td>\n",
              "    </tr>\n",
              "    <tr>\n",
              "      <th>112306</th>\n",
              "      <td>Creed, Martin</td>\n",
              "      <td>Work No. 227: The lights going on and off</td>\n",
              "    </tr>\n",
              "    <tr>\n",
              "      <th>127035</th>\n",
              "      <td>Brunias, Agostino</td>\n",
              "      <td>Dancing Scene in the West Indies</td>\n",
              "    </tr>\n",
              "  </tbody>\n",
              "</table>\n",
              "<p>69201 rows × 2 columns</p>\n",
              "</div>"
            ],
            "text/plain": [
              "                                                   artist                                              title\n",
              "id                                                                                                          \n",
              "1035                                        Blake, Robert  A Figure Bowing before a Seated Old Man with h...\n",
              "1036                                        Blake, Robert  Two Drawings of Frightened Figures, Probably f...\n",
              "1037                                        Blake, Robert  The Preaching of Warning. Verso: An Old Man En...\n",
              "1038                                        Blake, Robert     Six Drawings of Figures with Outstretched Arms\n",
              "1039                                       Blake, William  The Circle of the Lustful: Francesca da Rimini...\n",
              "1040                                       Blake, William      Ciampolo the Barrator Tormented by the Devils\n",
              "1041                                       Blake, William                        The Baffled Devils Fighting\n",
              "1042                                       Blake, William  The Six-Footed Serpent Attacking Agnolo Brunel...\n",
              "1043                                       Blake, William                 The Serpent Attacking Buoso Donati\n",
              "1044                                       Blake, William                 The Pit of Disease: The Falsifiers\n",
              "1045                                       Blake, William           Dante Striking against Bocca Degli Abati\n",
              "1046                                       Blake, William                                 Job and his Family\n",
              "1047                                       Blake, William                     Satan before the Throne of God\n",
              "1048                                       Blake, William      Job’s Sons and Daughters Overwhelmed by Satan\n",
              "1049                                       Blake, William         The Messengers tell Job of his Misfortunes\n",
              "1050                                       Blake, William  Satan Going Forth from the Presence of the Lor...\n",
              "1051                                       Blake, William                  Satan Smiting Job with Sore Boils\n",
              "1052                                       Blake, William                                   Job’s Comforters\n",
              "1053                                       Blake, William                                      Job’s Despair\n",
              "1054                                       Blake, William                              The Vision of Eliphaz\n",
              "1055                                       Blake, William                         Job Rebuked by his Friends\n",
              "1056                                       Blake, William                                  Job’s Evil Dreams\n",
              "1057                                       Blake, William                                 The Wrath of Elihu\n",
              "1058                                       Blake, William        The Lord Answering Job out of the Whirlwind\n",
              "1059                                       Blake, William               When the Morning Stars Sang Together\n",
              "1060                                       Blake, William                             Behemoth and Leviathan\n",
              "1061                                       Blake, William                                  The Fall of Satan\n",
              "1062                                       Blake, William                               The Vision of Christ\n",
              "1063                                       Blake, William                                    Job’s Sacrifice\n",
              "1064                                       Blake, William           Every Man also Gave him a Piece of Money\n",
              "...                                                   ...                                                ...\n",
              "121196                                   Barlow, Phyllida                                           Untitled\n",
              "121197                                   Barlow, Phyllida                                           Untitled\n",
              "121198                                   Barlow, Phyllida                                           Untitled\n",
              "115637                                       Latham, John                    Unedited Material From the Star\n",
              "115638                                       Latham, John                            Encyclopedia Britannica\n",
              "122545                                       Kirkeby, Per                                        Composition\n",
              "120104                                Karamustafa, Gulsun                                 Memory of a Square\n",
              "121565                                     Walker, Kelley                          Will We Ever Kill The Bug\n",
              "116157                                    Bulloch, Angela                                        Aluminium 4\n",
              "117761                                     Atlas, Charles                               Joints 4tet Ensemble\n",
              "115217  T R Uthco (Doug Hall born 1944, Diane Andrews ...                                  The Eternal Frame\n",
              "122537                                    Gordon, Douglas                                       Feature Film\n",
              "120527                                       Black, Karla                                           At Fault\n",
              "127128                                       Lord, Andrew                                  Three Vases. Fist\n",
              "127129                                       Lord, Andrew                                             biting\n",
              "127130                                       Lord, Andrew                                          breathing\n",
              "127131                                       Lord, Andrew                 Untitled (from the Gauguin Series)\n",
              "121283                                        Rhodes, Lis                                        Light Music\n",
              "129068                                       Lord, Andrew         Coffee service and tray. Impressionist set\n",
              "117863                               Andrade, Jonathas de                                  Tropical Hangover\n",
              "120549                                      Oursler, Tony                              The Influence Machine\n",
              "123620                                      Sterne, Hedda                                       NY, NY No. X\n",
              "122900                                    Flanagan, Barry                                          sand girl\n",
              "122958                                 P-Orridge, Genesis                   Venus Mound (from Tampax Romana)\n",
              "122959                                 P-Orridge, Genesis   It’s That Time Of The Month (from Tampax Romana)\n",
              "122960                                 P-Orridge, Genesis                        Larvae (from Tampax Romana)\n",
              "122961                                 P-Orridge, Genesis                   Living Womb (from Tampax Romana)\n",
              "121181                                       Hatoum, Mona                                      Present Tense\n",
              "112306                                      Creed, Martin          Work No. 227: The lights going on and off\n",
              "127035                                  Brunias, Agostino                   Dancing Scene in the West Indies\n",
              "\n",
              "[69201 rows x 2 columns]"
            ]
          },
          "metadata": {
            "tags": []
          },
          "execution_count": 35
        }
      ]
    },
    {
      "cell_type": "code",
      "metadata": {
        "id": "tx22mzHN0i_6",
        "colab_type": "code",
        "outputId": "53c2de76-15fc-4f95-d62f-6e73dca951c8",
        "colab": {
          "base_uri": "https://localhost:8080/",
          "height": 34
        }
      },
      "source": [
        "#Count the number of artists in our dataset\n",
        "len(set(df['artist']))"
      ],
      "execution_count": 36,
      "outputs": [
        {
          "output_type": "execute_result",
          "data": {
            "text/plain": [
              "3336"
            ]
          },
          "metadata": {
            "tags": []
          },
          "execution_count": 36
        }
      ]
    },
    {
      "cell_type": "code",
      "metadata": {
        "id": "I87rQ0b01Z1L",
        "colab_type": "code",
        "outputId": "943b15e0-b49c-45df-f1a8-6de1eac494cf",
        "colab": {
          "base_uri": "https://localhost:8080/",
          "height": 52
        }
      },
      "source": [
        "#pandas way -\n",
        "uni = pd.unique(df['artist'])\n",
        "print(uni)"
      ],
      "execution_count": 37,
      "outputs": [
        {
          "output_type": "stream",
          "text": [
            "['Blake, Robert' 'Blake, William' 'Richmond, George' ... 'Sterne, Hedda'\n",
            " 'P-Orridge, Genesis' 'Brunias, Agostino']\n"
          ],
          "name": "stdout"
        }
      ]
    },
    {
      "cell_type": "code",
      "metadata": {
        "id": "SwwcE-DT2C_V",
        "colab_type": "code",
        "outputId": "576f32f5-5080-45c6-93b4-e5e6bc255041",
        "colab": {
          "base_uri": "https://localhost:8080/",
          "height": 34
        }
      },
      "source": [
        "len(uni)"
      ],
      "execution_count": 38,
      "outputs": [
        {
          "output_type": "execute_result",
          "data": {
            "text/plain": [
              "3336"
            ]
          },
          "metadata": {
            "tags": []
          },
          "execution_count": 38
        }
      ]
    },
    {
      "cell_type": "code",
      "metadata": {
        "id": "o-TEhlJO2LTX",
        "colab_type": "code",
        "outputId": "5c2776c3-3be2-4cdd-b747-c039df6d9b4a",
        "colab": {
          "base_uri": "https://localhost:8080/",
          "height": 70
        }
      },
      "source": [
        "s = df['artist'] == 'Bacon, Francis'\n",
        "s.value_counts()"
      ],
      "execution_count": 39,
      "outputs": [
        {
          "output_type": "execute_result",
          "data": {
            "text/plain": [
              "False    69151\n",
              "True        50\n",
              "Name: artist, dtype: int64"
            ]
          },
          "metadata": {
            "tags": []
          },
          "execution_count": 39
        }
      ]
    },
    {
      "cell_type": "markdown",
      "metadata": {
        "id": "2Jyw7u68_Kz6",
        "colab_type": "text"
      },
      "source": [
        "loc by label. \n",
        "\n",
        "iloc by position.\n",
        "\n",
        "df.loc[row indexer , column indexer ]\n",
        "\n",
        "df.loc['35, 'artist' ]\n",
        "\n",
        "df.loc[df['artist'] == 'Bacon, Francis' , : ]\n",
        "\n",
        "the above statement returns a pandas series for the row indexer with true false in it and the : says that select all columns.\n",
        "\n",
        "df.iloc[ 100:300 , [0,1,4] ]\n",
        "df.iloc[ : , [1,3,4] ]\n",
        "\n",
        "in iloc we cannot use the labels. we have to provide the positions instead."
      ]
    },
    {
      "cell_type": "code",
      "metadata": {
        "id": "t-P1mlS83EX0",
        "colab_type": "code",
        "outputId": "bb941279-b97c-4a6e-d5e9-e564869e5f5b",
        "colab": {
          "base_uri": "https://localhost:8080/",
          "height": 34
        }
      },
      "source": [
        "df.loc[1035,'artist']"
      ],
      "execution_count": 40,
      "outputs": [
        {
          "output_type": "execute_result",
          "data": {
            "text/plain": [
              "'Blake, Robert'"
            ]
          },
          "metadata": {
            "tags": []
          },
          "execution_count": 40
        }
      ]
    },
    {
      "cell_type": "code",
      "metadata": {
        "id": "4Ah8SXsSEC1d",
        "colab_type": "code",
        "outputId": "511f21e2-d9a9-4fbf-8280-333567776761",
        "colab": {
          "base_uri": "https://localhost:8080/",
          "height": 34
        }
      },
      "source": [
        "df.iloc[0,0]"
      ],
      "execution_count": 41,
      "outputs": [
        {
          "output_type": "execute_result",
          "data": {
            "text/plain": [
              "'Blake, Robert'"
            ]
          },
          "metadata": {
            "tags": []
          },
          "execution_count": 41
        }
      ]
    },
    {
      "cell_type": "code",
      "metadata": {
        "id": "hP5u5RqEEVTV",
        "colab_type": "code",
        "outputId": "9f5d87cf-95e6-4c66-e2cc-a6a4677577cc",
        "colab": {
          "base_uri": "https://localhost:8080/",
          "height": 137
        }
      },
      "source": [
        "df.iloc[0:2,0:2]"
      ],
      "execution_count": 42,
      "outputs": [
        {
          "output_type": "execute_result",
          "data": {
            "text/html": [
              "<div>\n",
              "<style scoped>\n",
              "    .dataframe tbody tr th:only-of-type {\n",
              "        vertical-align: middle;\n",
              "    }\n",
              "\n",
              "    .dataframe tbody tr th {\n",
              "        vertical-align: top;\n",
              "    }\n",
              "\n",
              "    .dataframe thead th {\n",
              "        text-align: right;\n",
              "    }\n",
              "</style>\n",
              "<table border=\"1\" class=\"dataframe\">\n",
              "  <thead>\n",
              "    <tr style=\"text-align: right;\">\n",
              "      <th></th>\n",
              "      <th>artist</th>\n",
              "      <th>title</th>\n",
              "    </tr>\n",
              "    <tr>\n",
              "      <th>id</th>\n",
              "      <th></th>\n",
              "      <th></th>\n",
              "    </tr>\n",
              "  </thead>\n",
              "  <tbody>\n",
              "    <tr>\n",
              "      <th>1035</th>\n",
              "      <td>Blake, Robert</td>\n",
              "      <td>A Figure Bowing before a Seated Old Man with h...</td>\n",
              "    </tr>\n",
              "    <tr>\n",
              "      <th>1036</th>\n",
              "      <td>Blake, Robert</td>\n",
              "      <td>Two Drawings of Frightened Figures, Probably f...</td>\n",
              "    </tr>\n",
              "  </tbody>\n",
              "</table>\n",
              "</div>"
            ],
            "text/plain": [
              "             artist                                              title\n",
              "id                                                                    \n",
              "1035  Blake, Robert  A Figure Bowing before a Seated Old Man with h...\n",
              "1036  Blake, Robert  Two Drawings of Frightened Figures, Probably f..."
            ]
          },
          "metadata": {
            "tags": []
          },
          "execution_count": 42
        }
      ]
    },
    {
      "cell_type": "code",
      "metadata": {
        "id": "D3kwAS-BEa8G",
        "colab_type": "code",
        "colab": {}
      },
      "source": [
        "# find the artwork with the biggest area/dimensions"
      ],
      "execution_count": 0,
      "outputs": []
    },
    {
      "cell_type": "code",
      "metadata": {
        "id": "2ZDgWlCuEq0g",
        "colab_type": "code",
        "outputId": "ea579781-f3f1-4418-d103-100d096e6a22",
        "colab": {
          "base_uri": "https://localhost:8080/",
          "height": 311
        }
      },
      "source": [
        "df.head()"
      ],
      "execution_count": 44,
      "outputs": [
        {
          "output_type": "execute_result",
          "data": {
            "text/html": [
              "<div>\n",
              "<style scoped>\n",
              "    .dataframe tbody tr th:only-of-type {\n",
              "        vertical-align: middle;\n",
              "    }\n",
              "\n",
              "    .dataframe tbody tr th {\n",
              "        vertical-align: top;\n",
              "    }\n",
              "\n",
              "    .dataframe thead th {\n",
              "        text-align: right;\n",
              "    }\n",
              "</style>\n",
              "<table border=\"1\" class=\"dataframe\">\n",
              "  <thead>\n",
              "    <tr style=\"text-align: right;\">\n",
              "      <th></th>\n",
              "      <th>artist</th>\n",
              "      <th>title</th>\n",
              "      <th>medium</th>\n",
              "      <th>year</th>\n",
              "      <th>acquisitionYear</th>\n",
              "      <th>width</th>\n",
              "      <th>height</th>\n",
              "      <th>units</th>\n",
              "    </tr>\n",
              "    <tr>\n",
              "      <th>id</th>\n",
              "      <th></th>\n",
              "      <th></th>\n",
              "      <th></th>\n",
              "      <th></th>\n",
              "      <th></th>\n",
              "      <th></th>\n",
              "      <th></th>\n",
              "      <th></th>\n",
              "    </tr>\n",
              "  </thead>\n",
              "  <tbody>\n",
              "    <tr>\n",
              "      <th>1035</th>\n",
              "      <td>Blake, Robert</td>\n",
              "      <td>A Figure Bowing before a Seated Old Man with h...</td>\n",
              "      <td>Watercolour, ink, chalk and graphite on paper....</td>\n",
              "      <td>NaN</td>\n",
              "      <td>1922.0</td>\n",
              "      <td>394</td>\n",
              "      <td>419</td>\n",
              "      <td>mm</td>\n",
              "    </tr>\n",
              "    <tr>\n",
              "      <th>1036</th>\n",
              "      <td>Blake, Robert</td>\n",
              "      <td>Two Drawings of Frightened Figures, Probably f...</td>\n",
              "      <td>Graphite on paper</td>\n",
              "      <td>NaN</td>\n",
              "      <td>1922.0</td>\n",
              "      <td>311</td>\n",
              "      <td>213</td>\n",
              "      <td>mm</td>\n",
              "    </tr>\n",
              "    <tr>\n",
              "      <th>1037</th>\n",
              "      <td>Blake, Robert</td>\n",
              "      <td>The Preaching of Warning. Verso: An Old Man En...</td>\n",
              "      <td>Graphite on paper. Verso: graphite on paper</td>\n",
              "      <td>1785</td>\n",
              "      <td>1922.0</td>\n",
              "      <td>343</td>\n",
              "      <td>467</td>\n",
              "      <td>mm</td>\n",
              "    </tr>\n",
              "    <tr>\n",
              "      <th>1038</th>\n",
              "      <td>Blake, Robert</td>\n",
              "      <td>Six Drawings of Figures with Outstretched Arms</td>\n",
              "      <td>Graphite on paper</td>\n",
              "      <td>NaN</td>\n",
              "      <td>1922.0</td>\n",
              "      <td>318</td>\n",
              "      <td>394</td>\n",
              "      <td>mm</td>\n",
              "    </tr>\n",
              "    <tr>\n",
              "      <th>1039</th>\n",
              "      <td>Blake, William</td>\n",
              "      <td>The Circle of the Lustful: Francesca da Rimini...</td>\n",
              "      <td>Line engraving on paper</td>\n",
              "      <td>1826</td>\n",
              "      <td>1919.0</td>\n",
              "      <td>243</td>\n",
              "      <td>335</td>\n",
              "      <td>mm</td>\n",
              "    </tr>\n",
              "  </tbody>\n",
              "</table>\n",
              "</div>"
            ],
            "text/plain": [
              "              artist  ... units\n",
              "id                    ...      \n",
              "1035   Blake, Robert  ...    mm\n",
              "1036   Blake, Robert  ...    mm\n",
              "1037   Blake, Robert  ...    mm\n",
              "1038   Blake, Robert  ...    mm\n",
              "1039  Blake, William  ...    mm\n",
              "\n",
              "[5 rows x 8 columns]"
            ]
          },
          "metadata": {
            "tags": []
          },
          "execution_count": 44
        }
      ]
    },
    {
      "cell_type": "code",
      "metadata": {
        "id": "U5m3BQCxEw2U",
        "colab_type": "code",
        "outputId": "5ca7d2b4-82b7-43d3-ae90-49fe64a77d53",
        "colab": {
          "base_uri": "https://localhost:8080/",
          "height": 70
        }
      },
      "source": [
        "df.columns"
      ],
      "execution_count": 45,
      "outputs": [
        {
          "output_type": "execute_result",
          "data": {
            "text/plain": [
              "Index(['artist', 'title', 'medium', 'year', 'acquisitionYear', 'width',\n",
              "       'height', 'units'],\n",
              "      dtype='object')"
            ]
          },
          "metadata": {
            "tags": []
          },
          "execution_count": 45
        }
      ]
    },
    {
      "cell_type": "code",
      "metadata": {
        "id": "RiXxOs00E2nS",
        "colab_type": "code",
        "outputId": "85349bbf-e7c6-402b-9400-5c5d52647a62",
        "colab": {
          "base_uri": "https://localhost:8080/",
          "height": 565
        }
      },
      "source": [
        "df['height'] * df['width']\n",
        "#we will get error for this line as they are object types, not value types"
      ],
      "execution_count": 46,
      "outputs": [
        {
          "output_type": "error",
          "ename": "TypeError",
          "evalue": "ignored",
          "traceback": [
            "\u001b[0;31m---------------------------------------------------------------------------\u001b[0m",
            "\u001b[0;31mTypeError\u001b[0m                                 Traceback (most recent call last)",
            "\u001b[0;32m/usr/local/lib/python3.6/dist-packages/pandas/core/ops.py\u001b[0m in \u001b[0;36mna_op\u001b[0;34m(x, y)\u001b[0m\n\u001b[1;32m   1504\u001b[0m         \u001b[0;32mtry\u001b[0m\u001b[0;34m:\u001b[0m\u001b[0;34m\u001b[0m\u001b[0;34m\u001b[0m\u001b[0m\n\u001b[0;32m-> 1505\u001b[0;31m             \u001b[0mresult\u001b[0m \u001b[0;34m=\u001b[0m \u001b[0mexpressions\u001b[0m\u001b[0;34m.\u001b[0m\u001b[0mevaluate\u001b[0m\u001b[0;34m(\u001b[0m\u001b[0mop\u001b[0m\u001b[0;34m,\u001b[0m \u001b[0mstr_rep\u001b[0m\u001b[0;34m,\u001b[0m \u001b[0mx\u001b[0m\u001b[0;34m,\u001b[0m \u001b[0my\u001b[0m\u001b[0;34m,\u001b[0m \u001b[0;34m**\u001b[0m\u001b[0meval_kwargs\u001b[0m\u001b[0;34m)\u001b[0m\u001b[0;34m\u001b[0m\u001b[0;34m\u001b[0m\u001b[0m\n\u001b[0m\u001b[1;32m   1506\u001b[0m         \u001b[0;32mexcept\u001b[0m \u001b[0mTypeError\u001b[0m\u001b[0;34m:\u001b[0m\u001b[0;34m\u001b[0m\u001b[0;34m\u001b[0m\u001b[0m\n",
            "\u001b[0;32m/usr/local/lib/python3.6/dist-packages/pandas/core/computation/expressions.py\u001b[0m in \u001b[0;36mevaluate\u001b[0;34m(op, op_str, a, b, use_numexpr, **eval_kwargs)\u001b[0m\n\u001b[1;32m    207\u001b[0m     \u001b[0;32mif\u001b[0m \u001b[0muse_numexpr\u001b[0m\u001b[0;34m:\u001b[0m\u001b[0;34m\u001b[0m\u001b[0;34m\u001b[0m\u001b[0m\n\u001b[0;32m--> 208\u001b[0;31m         \u001b[0;32mreturn\u001b[0m \u001b[0m_evaluate\u001b[0m\u001b[0;34m(\u001b[0m\u001b[0mop\u001b[0m\u001b[0;34m,\u001b[0m \u001b[0mop_str\u001b[0m\u001b[0;34m,\u001b[0m \u001b[0ma\u001b[0m\u001b[0;34m,\u001b[0m \u001b[0mb\u001b[0m\u001b[0;34m,\u001b[0m \u001b[0;34m**\u001b[0m\u001b[0meval_kwargs\u001b[0m\u001b[0;34m)\u001b[0m\u001b[0;34m\u001b[0m\u001b[0;34m\u001b[0m\u001b[0m\n\u001b[0m\u001b[1;32m    209\u001b[0m     \u001b[0;32mreturn\u001b[0m \u001b[0m_evaluate_standard\u001b[0m\u001b[0;34m(\u001b[0m\u001b[0mop\u001b[0m\u001b[0;34m,\u001b[0m \u001b[0mop_str\u001b[0m\u001b[0;34m,\u001b[0m \u001b[0ma\u001b[0m\u001b[0;34m,\u001b[0m \u001b[0mb\u001b[0m\u001b[0;34m)\u001b[0m\u001b[0;34m\u001b[0m\u001b[0;34m\u001b[0m\u001b[0m\n",
            "\u001b[0;32m/usr/local/lib/python3.6/dist-packages/pandas/core/computation/expressions.py\u001b[0m in \u001b[0;36m_evaluate_numexpr\u001b[0;34m(op, op_str, a, b, truediv, reversed, **eval_kwargs)\u001b[0m\n\u001b[1;32m    122\u001b[0m     \u001b[0;32mif\u001b[0m \u001b[0mresult\u001b[0m \u001b[0;32mis\u001b[0m \u001b[0;32mNone\u001b[0m\u001b[0;34m:\u001b[0m\u001b[0;34m\u001b[0m\u001b[0;34m\u001b[0m\u001b[0m\n\u001b[0;32m--> 123\u001b[0;31m         \u001b[0mresult\u001b[0m \u001b[0;34m=\u001b[0m \u001b[0m_evaluate_standard\u001b[0m\u001b[0;34m(\u001b[0m\u001b[0mop\u001b[0m\u001b[0;34m,\u001b[0m \u001b[0mop_str\u001b[0m\u001b[0;34m,\u001b[0m \u001b[0ma\u001b[0m\u001b[0;34m,\u001b[0m \u001b[0mb\u001b[0m\u001b[0;34m)\u001b[0m\u001b[0;34m\u001b[0m\u001b[0;34m\u001b[0m\u001b[0m\n\u001b[0m\u001b[1;32m    124\u001b[0m \u001b[0;34m\u001b[0m\u001b[0m\n",
            "\u001b[0;32m/usr/local/lib/python3.6/dist-packages/pandas/core/computation/expressions.py\u001b[0m in \u001b[0;36m_evaluate_standard\u001b[0;34m(op, op_str, a, b, **eval_kwargs)\u001b[0m\n\u001b[1;32m     67\u001b[0m     \u001b[0;32mwith\u001b[0m \u001b[0mnp\u001b[0m\u001b[0;34m.\u001b[0m\u001b[0merrstate\u001b[0m\u001b[0;34m(\u001b[0m\u001b[0mall\u001b[0m\u001b[0;34m=\u001b[0m\u001b[0;34m'ignore'\u001b[0m\u001b[0;34m)\u001b[0m\u001b[0;34m:\u001b[0m\u001b[0;34m\u001b[0m\u001b[0;34m\u001b[0m\u001b[0m\n\u001b[0;32m---> 68\u001b[0;31m         \u001b[0;32mreturn\u001b[0m \u001b[0mop\u001b[0m\u001b[0;34m(\u001b[0m\u001b[0ma\u001b[0m\u001b[0;34m,\u001b[0m \u001b[0mb\u001b[0m\u001b[0;34m)\u001b[0m\u001b[0;34m\u001b[0m\u001b[0;34m\u001b[0m\u001b[0m\n\u001b[0m\u001b[1;32m     69\u001b[0m \u001b[0;34m\u001b[0m\u001b[0m\n",
            "\u001b[0;31mTypeError\u001b[0m: can't multiply sequence by non-int of type 'str'",
            "\nDuring handling of the above exception, another exception occurred:\n",
            "\u001b[0;31mTypeError\u001b[0m                                 Traceback (most recent call last)",
            "\u001b[0;32m/usr/local/lib/python3.6/dist-packages/pandas/core/ops.py\u001b[0m in \u001b[0;36msafe_na_op\u001b[0;34m(lvalues, rvalues)\u001b[0m\n\u001b[1;32m   1528\u001b[0m             \u001b[0;32mwith\u001b[0m \u001b[0mnp\u001b[0m\u001b[0;34m.\u001b[0m\u001b[0merrstate\u001b[0m\u001b[0;34m(\u001b[0m\u001b[0mall\u001b[0m\u001b[0;34m=\u001b[0m\u001b[0;34m'ignore'\u001b[0m\u001b[0;34m)\u001b[0m\u001b[0;34m:\u001b[0m\u001b[0;34m\u001b[0m\u001b[0;34m\u001b[0m\u001b[0m\n\u001b[0;32m-> 1529\u001b[0;31m                 \u001b[0;32mreturn\u001b[0m \u001b[0mna_op\u001b[0m\u001b[0;34m(\u001b[0m\u001b[0mlvalues\u001b[0m\u001b[0;34m,\u001b[0m \u001b[0mrvalues\u001b[0m\u001b[0;34m)\u001b[0m\u001b[0;34m\u001b[0m\u001b[0;34m\u001b[0m\u001b[0m\n\u001b[0m\u001b[1;32m   1530\u001b[0m         \u001b[0;32mexcept\u001b[0m \u001b[0mException\u001b[0m\u001b[0;34m:\u001b[0m\u001b[0;34m\u001b[0m\u001b[0;34m\u001b[0m\u001b[0m\n",
            "\u001b[0;32m/usr/local/lib/python3.6/dist-packages/pandas/core/ops.py\u001b[0m in \u001b[0;36mna_op\u001b[0;34m(x, y)\u001b[0m\n\u001b[1;32m   1506\u001b[0m         \u001b[0;32mexcept\u001b[0m \u001b[0mTypeError\u001b[0m\u001b[0;34m:\u001b[0m\u001b[0;34m\u001b[0m\u001b[0;34m\u001b[0m\u001b[0m\n\u001b[0;32m-> 1507\u001b[0;31m             \u001b[0mresult\u001b[0m \u001b[0;34m=\u001b[0m \u001b[0mmasked_arith_op\u001b[0m\u001b[0;34m(\u001b[0m\u001b[0mx\u001b[0m\u001b[0;34m,\u001b[0m \u001b[0my\u001b[0m\u001b[0;34m,\u001b[0m \u001b[0mop\u001b[0m\u001b[0;34m)\u001b[0m\u001b[0;34m\u001b[0m\u001b[0;34m\u001b[0m\u001b[0m\n\u001b[0m\u001b[1;32m   1508\u001b[0m \u001b[0;34m\u001b[0m\u001b[0m\n",
            "\u001b[0;32m/usr/local/lib/python3.6/dist-packages/pandas/core/ops.py\u001b[0m in \u001b[0;36mmasked_arith_op\u001b[0;34m(x, y, op)\u001b[0m\n\u001b[1;32m   1008\u001b[0m                 result[mask] = op(xrav[mask],\n\u001b[0;32m-> 1009\u001b[0;31m                                   com.values_from_object(yrav[mask]))\n\u001b[0m\u001b[1;32m   1010\u001b[0m \u001b[0;34m\u001b[0m\u001b[0m\n",
            "\u001b[0;31mTypeError\u001b[0m: can't multiply sequence by non-int of type 'str'",
            "\nDuring handling of the above exception, another exception occurred:\n",
            "\u001b[0;31mTypeError\u001b[0m                                 Traceback (most recent call last)",
            "\u001b[0;32m<ipython-input-46-7bdda3d22baa>\u001b[0m in \u001b[0;36m<module>\u001b[0;34m()\u001b[0m\n\u001b[0;32m----> 1\u001b[0;31m \u001b[0mdf\u001b[0m\u001b[0;34m[\u001b[0m\u001b[0;34m'height'\u001b[0m\u001b[0;34m]\u001b[0m \u001b[0;34m*\u001b[0m \u001b[0mdf\u001b[0m\u001b[0;34m[\u001b[0m\u001b[0;34m'width'\u001b[0m\u001b[0;34m]\u001b[0m\u001b[0;34m\u001b[0m\u001b[0;34m\u001b[0m\u001b[0m\n\u001b[0m\u001b[1;32m      2\u001b[0m \u001b[0;31m#we will get error for this line as they are object types, not value types\u001b[0m\u001b[0;34m\u001b[0m\u001b[0;34m\u001b[0m\u001b[0;34m\u001b[0m\u001b[0m\n",
            "\u001b[0;32m/usr/local/lib/python3.6/dist-packages/pandas/core/ops.py\u001b[0m in \u001b[0;36mwrapper\u001b[0;34m(left, right)\u001b[0m\n\u001b[1;32m   1581\u001b[0m             \u001b[0mrvalues\u001b[0m \u001b[0;34m=\u001b[0m \u001b[0mrvalues\u001b[0m\u001b[0;34m.\u001b[0m\u001b[0mvalues\u001b[0m\u001b[0;34m\u001b[0m\u001b[0;34m\u001b[0m\u001b[0m\n\u001b[1;32m   1582\u001b[0m \u001b[0;34m\u001b[0m\u001b[0m\n\u001b[0;32m-> 1583\u001b[0;31m         \u001b[0mresult\u001b[0m \u001b[0;34m=\u001b[0m \u001b[0msafe_na_op\u001b[0m\u001b[0;34m(\u001b[0m\u001b[0mlvalues\u001b[0m\u001b[0;34m,\u001b[0m \u001b[0mrvalues\u001b[0m\u001b[0;34m)\u001b[0m\u001b[0;34m\u001b[0m\u001b[0;34m\u001b[0m\u001b[0m\n\u001b[0m\u001b[1;32m   1584\u001b[0m         return construct_result(left, result,\n\u001b[1;32m   1585\u001b[0m                                 index=left.index, name=res_name, dtype=None)\n",
            "\u001b[0;32m/usr/local/lib/python3.6/dist-packages/pandas/core/ops.py\u001b[0m in \u001b[0;36msafe_na_op\u001b[0;34m(lvalues, rvalues)\u001b[0m\n\u001b[1;32m   1531\u001b[0m             \u001b[0;32mif\u001b[0m \u001b[0mis_object_dtype\u001b[0m\u001b[0;34m(\u001b[0m\u001b[0mlvalues\u001b[0m\u001b[0;34m)\u001b[0m\u001b[0;34m:\u001b[0m\u001b[0;34m\u001b[0m\u001b[0;34m\u001b[0m\u001b[0m\n\u001b[1;32m   1532\u001b[0m                 return libalgos.arrmap_object(lvalues,\n\u001b[0;32m-> 1533\u001b[0;31m                                               lambda x: op(x, rvalues))\n\u001b[0m\u001b[1;32m   1534\u001b[0m             \u001b[0;32mraise\u001b[0m\u001b[0;34m\u001b[0m\u001b[0;34m\u001b[0m\u001b[0m\n\u001b[1;32m   1535\u001b[0m \u001b[0;34m\u001b[0m\u001b[0m\n",
            "\u001b[0;32mpandas/_libs/algos.pyx\u001b[0m in \u001b[0;36mpandas._libs.algos.arrmap\u001b[0;34m()\u001b[0m\n",
            "\u001b[0;32m/usr/local/lib/python3.6/dist-packages/pandas/core/ops.py\u001b[0m in \u001b[0;36m<lambda>\u001b[0;34m(x)\u001b[0m\n\u001b[1;32m   1531\u001b[0m             \u001b[0;32mif\u001b[0m \u001b[0mis_object_dtype\u001b[0m\u001b[0;34m(\u001b[0m\u001b[0mlvalues\u001b[0m\u001b[0;34m)\u001b[0m\u001b[0;34m:\u001b[0m\u001b[0;34m\u001b[0m\u001b[0;34m\u001b[0m\u001b[0m\n\u001b[1;32m   1532\u001b[0m                 return libalgos.arrmap_object(lvalues,\n\u001b[0;32m-> 1533\u001b[0;31m                                               lambda x: op(x, rvalues))\n\u001b[0m\u001b[1;32m   1534\u001b[0m             \u001b[0;32mraise\u001b[0m\u001b[0;34m\u001b[0m\u001b[0;34m\u001b[0m\u001b[0m\n\u001b[1;32m   1535\u001b[0m \u001b[0;34m\u001b[0m\u001b[0m\n",
            "\u001b[0;31mTypeError\u001b[0m: can't multiply sequence by non-int of type 'str'"
          ]
        }
      ]
    },
    {
      "cell_type": "code",
      "metadata": {
        "id": "5eczi6mCE8-U",
        "colab_type": "code",
        "outputId": "c84eabb9-358b-4285-aa49-feaad9557feb",
        "colab": {
          "base_uri": "https://localhost:8080/",
          "height": 34
        }
      },
      "source": [
        "type(df['height'])"
      ],
      "execution_count": 47,
      "outputs": [
        {
          "output_type": "execute_result",
          "data": {
            "text/plain": [
              "pandas.core.series.Series"
            ]
          },
          "metadata": {
            "tags": []
          },
          "execution_count": 47
        }
      ]
    },
    {
      "cell_type": "code",
      "metadata": {
        "id": "Lgp2ktsTFi7S",
        "colab_type": "code",
        "outputId": "b02fbc0e-6596-49a4-a4f2-ea77bcbbd46b",
        "colab": {
          "base_uri": "https://localhost:8080/",
          "height": 34
        }
      },
      "source": [
        "type(df['width'])"
      ],
      "execution_count": 48,
      "outputs": [
        {
          "output_type": "execute_result",
          "data": {
            "text/plain": [
              "pandas.core.series.Series"
            ]
          },
          "metadata": {
            "tags": []
          },
          "execution_count": 48
        }
      ]
    },
    {
      "cell_type": "code",
      "metadata": {
        "id": "9vPsrWmOFm75",
        "colab_type": "code",
        "outputId": "1ffb011b-6142-46de-cdc4-6129f71f6bae",
        "colab": {
          "base_uri": "https://localhost:8080/",
          "height": 1000
        }
      },
      "source": [
        "df['width']"
      ],
      "execution_count": 49,
      "outputs": [
        {
          "output_type": "execute_result",
          "data": {
            "text/plain": [
              "id\n",
              "1035       394\n",
              "1036       311\n",
              "1037       343\n",
              "1038       318\n",
              "1039       243\n",
              "1040       240\n",
              "1041       242\n",
              "1042       246\n",
              "1043       241\n",
              "1044       243\n",
              "1045       236\n",
              "1046       184\n",
              "1047       197\n",
              "1048       197\n",
              "1049       200\n",
              "1050       198\n",
              "1051       198\n",
              "1052       198\n",
              "1053       199\n",
              "1054       198\n",
              "1055       198\n",
              "1056       197\n",
              "1057       200\n",
              "1058       198\n",
              "1059       191\n",
              "1060       200\n",
              "1061       186\n",
              "1062       200\n",
              "1063       198\n",
              "1064       197\n",
              "          ... \n",
              "121196     558\n",
              "121197     380\n",
              "121198     560\n",
              "115637     NaN\n",
              "115638     NaN\n",
              "122545    2093\n",
              "120104     NaN\n",
              "121565     NaN\n",
              "116157     NaN\n",
              "117761     NaN\n",
              "115217     NaN\n",
              "122537     NaN\n",
              "120527     NaN\n",
              "127128     368\n",
              "127129     705\n",
              "127130     408\n",
              "127131     410\n",
              "121283     NaN\n",
              "129068      57\n",
              "117863     NaN\n",
              "120549     NaN\n",
              "123620     810\n",
              "122900     NaN\n",
              "122958     305\n",
              "122959     305\n",
              "122960     305\n",
              "122961     305\n",
              "121181      45\n",
              "112306     NaN\n",
              "127035     508\n",
              "Name: width, Length: 69201, dtype: object"
            ]
          },
          "metadata": {
            "tags": []
          },
          "execution_count": 49
        }
      ]
    },
    {
      "cell_type": "code",
      "metadata": {
        "id": "mM6tln63F1JJ",
        "colab_type": "code",
        "outputId": "653b5c44-7cd1-4f87-8c5f-4e0f79a76095",
        "colab": {
          "base_uri": "https://localhost:8080/",
          "height": 141
        }
      },
      "source": [
        "#The problem is that our input data is dirty. Let's check what is wrong. \n",
        "df['width'].sort_values().head()\n",
        "#these contains strings..."
      ],
      "execution_count": 50,
      "outputs": [
        {
          "output_type": "execute_result",
          "data": {
            "text/plain": [
              "id\n",
              "20822            (1):\n",
              "105337    (diameter):\n",
              "98671         (each):\n",
              "76420         (each):\n",
              "91391        (image):\n",
              "Name: width, dtype: object"
            ]
          },
          "metadata": {
            "tags": []
          },
          "execution_count": 50
        }
      ]
    },
    {
      "cell_type": "code",
      "metadata": {
        "id": "vOKHFxUrGOIq",
        "colab_type": "code",
        "outputId": "df30b2e7-61c3-4911-fb3b-5d21ec501fc2",
        "colab": {
          "base_uri": "https://localhost:8080/",
          "height": 141
        }
      },
      "source": [
        "df['width'].sort_values().tail()\n",
        "#NaN stands for Not a Number. These are originally missing values."
      ],
      "execution_count": 51,
      "outputs": [
        {
          "output_type": "execute_result",
          "data": {
            "text/plain": [
              "id\n",
              "121283    NaN\n",
              "117863    NaN\n",
              "120549    NaN\n",
              "122900    NaN\n",
              "112306    NaN\n",
              "Name: width, dtype: object"
            ]
          },
          "metadata": {
            "tags": []
          },
          "execution_count": 51
        }
      ]
    },
    {
      "cell_type": "code",
      "metadata": {
        "id": "WRteAYJaGZOb",
        "colab_type": "code",
        "colab": {}
      },
      "source": [
        "df.loc[: , 'width'] = pd.to_numeric(df['width'], errors='coerce')\n",
        "#coerce is used to remove all errors and still convert to numeric type.\n",
        "#look at the dtype now. Float64 while it was object previously. "
      ],
      "execution_count": 0,
      "outputs": []
    },
    {
      "cell_type": "code",
      "metadata": {
        "id": "uZlse1idHSIi",
        "colab_type": "code",
        "outputId": "205ca545-1fdc-4d85-e54d-fc78050561b2",
        "colab": {
          "base_uri": "https://localhost:8080/",
          "height": 141
        }
      },
      "source": [
        "df['width'].sort_values().head()"
      ],
      "execution_count": 53,
      "outputs": [
        {
          "output_type": "execute_result",
          "data": {
            "text/plain": [
              "id\n",
              "9453      3.0\n",
              "21771     5.0\n",
              "21770     9.0\n",
              "8976     10.0\n",
              "509      10.0\n",
              "Name: width, dtype: float64"
            ]
          },
          "metadata": {
            "tags": []
          },
          "execution_count": 53
        }
      ]
    },
    {
      "cell_type": "code",
      "metadata": {
        "id": "sktdydW6Hd0D",
        "colab_type": "code",
        "colab": {}
      },
      "source": [
        "#repeat for height column\n",
        "\n",
        "df.loc[: , 'height'] = pd.to_numeric(df['height'], errors='coerce')"
      ],
      "execution_count": 0,
      "outputs": []
    },
    {
      "cell_type": "code",
      "metadata": {
        "id": "vF4CnTGKHvpL",
        "colab_type": "code",
        "outputId": "09f617ad-e05c-4e65-fa39-07c1a6bd350f",
        "colab": {
          "base_uri": "https://localhost:8080/",
          "height": 1000
        }
      },
      "source": [
        "df['height'] * df['width']"
      ],
      "execution_count": 55,
      "outputs": [
        {
          "output_type": "execute_result",
          "data": {
            "text/plain": [
              "id\n",
              "1035       165086.0\n",
              "1036        66243.0\n",
              "1037       160181.0\n",
              "1038       125292.0\n",
              "1039        81405.0\n",
              "1040        81120.0\n",
              "1041        80828.0\n",
              "1042        83640.0\n",
              "1043        80735.0\n",
              "1044        82620.0\n",
              "1045        80240.0\n",
              "1046        27600.0\n",
              "1047        29747.0\n",
              "1048        30141.0\n",
              "1049        30400.0\n",
              "1050        30096.0\n",
              "1051        30294.0\n",
              "1052        30294.0\n",
              "1053        29850.0\n",
              "1054        30096.0\n",
              "1055        30096.0\n",
              "1056        29944.0\n",
              "1057        30200.0\n",
              "1058        29898.0\n",
              "1059        28650.0\n",
              "1060        30200.0\n",
              "1061        27900.0\n",
              "1062        30200.0\n",
              "1063        29700.0\n",
              "1064        29550.0\n",
              "            ...    \n",
              "121196     424080.0\n",
              "121197     215080.0\n",
              "121198     426720.0\n",
              "115637          NaN\n",
              "115638          NaN\n",
              "122545    3514147.0\n",
              "120104          NaN\n",
              "121565          NaN\n",
              "116157          NaN\n",
              "117761          NaN\n",
              "115217          NaN\n",
              "122537          NaN\n",
              "120527          NaN\n",
              "127128      98256.0\n",
              "127129     331350.0\n",
              "127130      83640.0\n",
              "127131     129970.0\n",
              "121283          NaN\n",
              "129068       3249.0\n",
              "117863          NaN\n",
              "120549          NaN\n",
              "123620     935550.0\n",
              "122900          NaN\n",
              "122958      93025.0\n",
              "122959      93025.0\n",
              "122960      93025.0\n",
              "122961      93025.0\n",
              "121181     108450.0\n",
              "112306          NaN\n",
              "127035     335280.0\n",
              "Length: 69201, dtype: float64"
            ]
          },
          "metadata": {
            "tags": []
          },
          "execution_count": 55
        }
      ]
    },
    {
      "cell_type": "code",
      "metadata": {
        "id": "Oz3edUW3H7ay",
        "colab_type": "code",
        "colab": {}
      },
      "source": [
        "#Assign to create a new column in your dataset\n",
        "df = df.assign(area = df['height'] * df['width'])"
      ],
      "execution_count": 0,
      "outputs": []
    },
    {
      "cell_type": "code",
      "metadata": {
        "id": "bxFUwq4SIQXC",
        "colab_type": "code",
        "outputId": "b5622997-96ba-48aa-ebf6-34549111cf19",
        "colab": {
          "base_uri": "https://localhost:8080/",
          "height": 311
        }
      },
      "source": [
        "df.head()"
      ],
      "execution_count": 57,
      "outputs": [
        {
          "output_type": "execute_result",
          "data": {
            "text/html": [
              "<div>\n",
              "<style scoped>\n",
              "    .dataframe tbody tr th:only-of-type {\n",
              "        vertical-align: middle;\n",
              "    }\n",
              "\n",
              "    .dataframe tbody tr th {\n",
              "        vertical-align: top;\n",
              "    }\n",
              "\n",
              "    .dataframe thead th {\n",
              "        text-align: right;\n",
              "    }\n",
              "</style>\n",
              "<table border=\"1\" class=\"dataframe\">\n",
              "  <thead>\n",
              "    <tr style=\"text-align: right;\">\n",
              "      <th></th>\n",
              "      <th>artist</th>\n",
              "      <th>title</th>\n",
              "      <th>medium</th>\n",
              "      <th>year</th>\n",
              "      <th>acquisitionYear</th>\n",
              "      <th>width</th>\n",
              "      <th>height</th>\n",
              "      <th>units</th>\n",
              "      <th>area</th>\n",
              "    </tr>\n",
              "    <tr>\n",
              "      <th>id</th>\n",
              "      <th></th>\n",
              "      <th></th>\n",
              "      <th></th>\n",
              "      <th></th>\n",
              "      <th></th>\n",
              "      <th></th>\n",
              "      <th></th>\n",
              "      <th></th>\n",
              "      <th></th>\n",
              "    </tr>\n",
              "  </thead>\n",
              "  <tbody>\n",
              "    <tr>\n",
              "      <th>1035</th>\n",
              "      <td>Blake, Robert</td>\n",
              "      <td>A Figure Bowing before a Seated Old Man with h...</td>\n",
              "      <td>Watercolour, ink, chalk and graphite on paper....</td>\n",
              "      <td>NaN</td>\n",
              "      <td>1922.0</td>\n",
              "      <td>394.0</td>\n",
              "      <td>419.0</td>\n",
              "      <td>mm</td>\n",
              "      <td>165086.0</td>\n",
              "    </tr>\n",
              "    <tr>\n",
              "      <th>1036</th>\n",
              "      <td>Blake, Robert</td>\n",
              "      <td>Two Drawings of Frightened Figures, Probably f...</td>\n",
              "      <td>Graphite on paper</td>\n",
              "      <td>NaN</td>\n",
              "      <td>1922.0</td>\n",
              "      <td>311.0</td>\n",
              "      <td>213.0</td>\n",
              "      <td>mm</td>\n",
              "      <td>66243.0</td>\n",
              "    </tr>\n",
              "    <tr>\n",
              "      <th>1037</th>\n",
              "      <td>Blake, Robert</td>\n",
              "      <td>The Preaching of Warning. Verso: An Old Man En...</td>\n",
              "      <td>Graphite on paper. Verso: graphite on paper</td>\n",
              "      <td>1785</td>\n",
              "      <td>1922.0</td>\n",
              "      <td>343.0</td>\n",
              "      <td>467.0</td>\n",
              "      <td>mm</td>\n",
              "      <td>160181.0</td>\n",
              "    </tr>\n",
              "    <tr>\n",
              "      <th>1038</th>\n",
              "      <td>Blake, Robert</td>\n",
              "      <td>Six Drawings of Figures with Outstretched Arms</td>\n",
              "      <td>Graphite on paper</td>\n",
              "      <td>NaN</td>\n",
              "      <td>1922.0</td>\n",
              "      <td>318.0</td>\n",
              "      <td>394.0</td>\n",
              "      <td>mm</td>\n",
              "      <td>125292.0</td>\n",
              "    </tr>\n",
              "    <tr>\n",
              "      <th>1039</th>\n",
              "      <td>Blake, William</td>\n",
              "      <td>The Circle of the Lustful: Francesca da Rimini...</td>\n",
              "      <td>Line engraving on paper</td>\n",
              "      <td>1826</td>\n",
              "      <td>1919.0</td>\n",
              "      <td>243.0</td>\n",
              "      <td>335.0</td>\n",
              "      <td>mm</td>\n",
              "      <td>81405.0</td>\n",
              "    </tr>\n",
              "  </tbody>\n",
              "</table>\n",
              "</div>"
            ],
            "text/plain": [
              "              artist  ...      area\n",
              "id                    ...          \n",
              "1035   Blake, Robert  ...  165086.0\n",
              "1036   Blake, Robert  ...   66243.0\n",
              "1037   Blake, Robert  ...  160181.0\n",
              "1038   Blake, Robert  ...  125292.0\n",
              "1039  Blake, William  ...   81405.0\n",
              "\n",
              "[5 rows x 9 columns]"
            ]
          },
          "metadata": {
            "tags": []
          },
          "execution_count": 57
        }
      ]
    },
    {
      "cell_type": "code",
      "metadata": {
        "id": "tTPad2ItIS4V",
        "colab_type": "code",
        "outputId": "fe5ab633-6280-406c-d085-463ddda9b516",
        "colab": {
          "base_uri": "https://localhost:8080/",
          "height": 34
        }
      },
      "source": [
        "df['area'].max()"
      ],
      "execution_count": 58,
      "outputs": [
        {
          "output_type": "execute_result",
          "data": {
            "text/plain": [
              "132462000.0"
            ]
          },
          "metadata": {
            "tags": []
          },
          "execution_count": 58
        }
      ]
    },
    {
      "cell_type": "code",
      "metadata": {
        "id": "PCx7TzAtIkJd",
        "colab_type": "code",
        "outputId": "db956ffd-35b4-4220-82e7-26810d09d74d",
        "colab": {
          "base_uri": "https://localhost:8080/",
          "height": 34
        }
      },
      "source": [
        "df['area'].idxmax()"
      ],
      "execution_count": 59,
      "outputs": [
        {
          "output_type": "execute_result",
          "data": {
            "text/plain": [
              "98367"
            ]
          },
          "metadata": {
            "tags": []
          },
          "execution_count": 59
        }
      ]
    },
    {
      "cell_type": "code",
      "metadata": {
        "id": "IwXCbMrvIniy",
        "colab_type": "code",
        "outputId": "556a7a0a-e981-449b-86bd-49d3e89e28b4",
        "colab": {
          "base_uri": "https://localhost:8080/",
          "height": 34
        }
      },
      "source": [
        "type(df.loc[df['area'].idxmax(), : ])"
      ],
      "execution_count": 60,
      "outputs": [
        {
          "output_type": "execute_result",
          "data": {
            "text/plain": [
              "pandas.core.series.Series"
            ]
          },
          "metadata": {
            "tags": []
          },
          "execution_count": 60
        }
      ]
    },
    {
      "cell_type": "code",
      "metadata": {
        "id": "YVV-OBcgI6Qq",
        "colab_type": "code",
        "colab": {
          "base_uri": "https://localhost:8080/",
          "height": 1000
        },
        "outputId": "734b4e13-251d-45b9-a5ec-3f92b0f14d2e"
      },
      "source": [
        "df['area'].isna()"
      ],
      "execution_count": 61,
      "outputs": [
        {
          "output_type": "execute_result",
          "data": {
            "text/plain": [
              "id\n",
              "1035      False\n",
              "1036      False\n",
              "1037      False\n",
              "1038      False\n",
              "1039      False\n",
              "1040      False\n",
              "1041      False\n",
              "1042      False\n",
              "1043      False\n",
              "1044      False\n",
              "1045      False\n",
              "1046      False\n",
              "1047      False\n",
              "1048      False\n",
              "1049      False\n",
              "1050      False\n",
              "1051      False\n",
              "1052      False\n",
              "1053      False\n",
              "1054      False\n",
              "1055      False\n",
              "1056      False\n",
              "1057      False\n",
              "1058      False\n",
              "1059      False\n",
              "1060      False\n",
              "1061      False\n",
              "1062      False\n",
              "1063      False\n",
              "1064      False\n",
              "          ...  \n",
              "121196    False\n",
              "121197    False\n",
              "121198    False\n",
              "115637     True\n",
              "115638     True\n",
              "122545    False\n",
              "120104     True\n",
              "121565     True\n",
              "116157     True\n",
              "117761     True\n",
              "115217     True\n",
              "122537     True\n",
              "120527     True\n",
              "127128    False\n",
              "127129    False\n",
              "127130    False\n",
              "127131    False\n",
              "121283     True\n",
              "129068    False\n",
              "117863     True\n",
              "120549     True\n",
              "123620    False\n",
              "122900     True\n",
              "122958    False\n",
              "122959    False\n",
              "122960    False\n",
              "122961    False\n",
              "121181    False\n",
              "112306     True\n",
              "127035    False\n",
              "Name: area, Length: 69201, dtype: bool"
            ]
          },
          "metadata": {
            "tags": []
          },
          "execution_count": 61
        }
      ]
    },
    {
      "cell_type": "code",
      "metadata": {
        "id": "gMI0avIU5OZs",
        "colab_type": "code",
        "colab": {
          "base_uri": "https://localhost:8080/",
          "height": 70
        },
        "outputId": "a303c21a-9e0e-4ab1-aa25-32d605530d9a"
      },
      "source": [
        "df['area'].isna().value_counts()"
      ],
      "execution_count": 62,
      "outputs": [
        {
          "output_type": "execute_result",
          "data": {
            "text/plain": [
              "False    65833\n",
              "True      3368\n",
              "Name: area, dtype: int64"
            ]
          },
          "metadata": {
            "tags": []
          },
          "execution_count": 62
        }
      ]
    },
    {
      "cell_type": "markdown",
      "metadata": {
        "id": "dLXptEpdMAxK",
        "colab_type": "text"
      },
      "source": [
        "##Groups\n",
        "\n",
        "Aggregation : Example -\n",
        "What was the first acquired artwork for each artist?\n",
        "\n",
        "Transformation : Missing Values - Nan\n",
        "Remove the row\n",
        "replace value with mean/median/mode.\n",
        "\n",
        "Filtering : Select only those rows that matter to us. Data of united states in countries.csv dataset.\n"
      ]
    },
    {
      "cell_type": "code",
      "metadata": {
        "id": "9r8kNrCmOW0X",
        "colab_type": "code",
        "colab": {}
      },
      "source": [
        "fd_new = df.groupby('artist')"
      ],
      "execution_count": 0,
      "outputs": []
    },
    {
      "cell_type": "code",
      "metadata": {
        "id": "NVGf5eEUOhe8",
        "colab_type": "code",
        "colab": {}
      },
      "source": [
        "#making a smaller slice\n",
        "small_df = df.iloc[49980 : 50019,  : ].copy()"
      ],
      "execution_count": 0,
      "outputs": []
    },
    {
      "cell_type": "code",
      "metadata": {
        "id": "trNKM9g-Rotw",
        "colab_type": "code",
        "outputId": "3beeecab-5f2c-4ddf-8fd9-718bb12144b6",
        "colab": {
          "base_uri": "https://localhost:8080/",
          "height": 34
        }
      },
      "source": [
        "small_df.shape"
      ],
      "execution_count": 93,
      "outputs": [
        {
          "output_type": "execute_result",
          "data": {
            "text/plain": [
              "(39, 9)"
            ]
          },
          "metadata": {
            "tags": []
          },
          "execution_count": 93
        }
      ]
    },
    {
      "cell_type": "code",
      "metadata": {
        "id": "1P_NJy95RrF3",
        "colab_type": "code",
        "outputId": "224d4fee-1aa1-4601-c5b2-b6d4ce4144c8",
        "colab": {
          "base_uri": "https://localhost:8080/",
          "height": 227
        }
      },
      "source": [
        "small_df.head()"
      ],
      "execution_count": 66,
      "outputs": [
        {
          "output_type": "execute_result",
          "data": {
            "text/html": [
              "<div>\n",
              "<style scoped>\n",
              "    .dataframe tbody tr th:only-of-type {\n",
              "        vertical-align: middle;\n",
              "    }\n",
              "\n",
              "    .dataframe tbody tr th {\n",
              "        vertical-align: top;\n",
              "    }\n",
              "\n",
              "    .dataframe thead th {\n",
              "        text-align: right;\n",
              "    }\n",
              "</style>\n",
              "<table border=\"1\" class=\"dataframe\">\n",
              "  <thead>\n",
              "    <tr style=\"text-align: right;\">\n",
              "      <th></th>\n",
              "      <th>artist</th>\n",
              "      <th>title</th>\n",
              "      <th>medium</th>\n",
              "      <th>year</th>\n",
              "      <th>acquisitionYear</th>\n",
              "      <th>width</th>\n",
              "      <th>height</th>\n",
              "      <th>units</th>\n",
              "      <th>area</th>\n",
              "    </tr>\n",
              "    <tr>\n",
              "      <th>id</th>\n",
              "      <th></th>\n",
              "      <th></th>\n",
              "      <th></th>\n",
              "      <th></th>\n",
              "      <th></th>\n",
              "      <th></th>\n",
              "      <th></th>\n",
              "      <th></th>\n",
              "      <th></th>\n",
              "    </tr>\n",
              "  </thead>\n",
              "  <tbody>\n",
              "    <tr>\n",
              "      <th>16412</th>\n",
              "      <td>Wols</td>\n",
              "      <td>[no title]</td>\n",
              "      <td>Etching on paper</td>\n",
              "      <td>1937</td>\n",
              "      <td>1983.0</td>\n",
              "      <td>130.0</td>\n",
              "      <td>80.0</td>\n",
              "      <td>mm</td>\n",
              "      <td>10400.0</td>\n",
              "    </tr>\n",
              "    <tr>\n",
              "      <th>16413</th>\n",
              "      <td>Wols</td>\n",
              "      <td>[no title]</td>\n",
              "      <td>Etching and drypoint on paper</td>\n",
              "      <td>1937</td>\n",
              "      <td>1983.0</td>\n",
              "      <td>187.0</td>\n",
              "      <td>102.0</td>\n",
              "      <td>mm</td>\n",
              "      <td>19074.0</td>\n",
              "    </tr>\n",
              "    <tr>\n",
              "      <th>16414</th>\n",
              "      <td>Wols</td>\n",
              "      <td>[no title]</td>\n",
              "      <td>Etching and drypoint on paper</td>\n",
              "      <td>1937</td>\n",
              "      <td>1983.0</td>\n",
              "      <td>248.0</td>\n",
              "      <td>168.0</td>\n",
              "      <td>mm</td>\n",
              "      <td>41664.0</td>\n",
              "    </tr>\n",
              "    <tr>\n",
              "      <th>16415</th>\n",
              "      <td>Wols</td>\n",
              "      <td>[no title]</td>\n",
              "      <td>Etching and drypoint on paper</td>\n",
              "      <td>1937</td>\n",
              "      <td>1983.0</td>\n",
              "      <td>149.0</td>\n",
              "      <td>102.0</td>\n",
              "      <td>mm</td>\n",
              "      <td>15198.0</td>\n",
              "    </tr>\n",
              "    <tr>\n",
              "      <th>16416</th>\n",
              "      <td>Wols</td>\n",
              "      <td>[no title]</td>\n",
              "      <td>Etching and drypoint on paper</td>\n",
              "      <td>1937</td>\n",
              "      <td>1983.0</td>\n",
              "      <td>203.0</td>\n",
              "      <td>120.0</td>\n",
              "      <td>mm</td>\n",
              "      <td>24360.0</td>\n",
              "    </tr>\n",
              "  </tbody>\n",
              "</table>\n",
              "</div>"
            ],
            "text/plain": [
              "      artist       title                         medium  ... height  units     area\n",
              "id                                                       ...                       \n",
              "16412   Wols  [no title]               Etching on paper  ...   80.0     mm  10400.0\n",
              "16413   Wols  [no title]  Etching and drypoint on paper  ...  102.0     mm  19074.0\n",
              "16414   Wols  [no title]  Etching and drypoint on paper  ...  168.0     mm  41664.0\n",
              "16415   Wols  [no title]  Etching and drypoint on paper  ...  102.0     mm  15198.0\n",
              "16416   Wols  [no title]  Etching and drypoint on paper  ...  120.0     mm  24360.0\n",
              "\n",
              "[5 rows x 9 columns]"
            ]
          },
          "metadata": {
            "tags": []
          },
          "execution_count": 66
        }
      ]
    },
    {
      "cell_type": "code",
      "metadata": {
        "id": "mVxlmESmRuea",
        "colab_type": "code",
        "colab": {}
      },
      "source": [
        "grouped = small_df.groupby('artist')"
      ],
      "execution_count": 0,
      "outputs": []
    },
    {
      "cell_type": "code",
      "metadata": {
        "id": "E7SB21Yk8ZEf",
        "colab_type": "code",
        "colab": {
          "base_uri": "https://localhost:8080/",
          "height": 34
        },
        "outputId": "d507ab4b-43ea-4fb2-b8c1-6501ee26402e"
      },
      "source": [
        "set(small_df['artist'])"
      ],
      "execution_count": 68,
      "outputs": [
        {
          "output_type": "execute_result",
          "data": {
            "text/plain": [
              "{'Frost, Sir Terry', 'Phillips, Esq Tom', 'Wols'}"
            ]
          },
          "metadata": {
            "tags": []
          },
          "execution_count": 68
        }
      ]
    },
    {
      "cell_type": "code",
      "metadata": {
        "id": "gPcWLeKl8Azh",
        "colab_type": "code",
        "colab": {
          "base_uri": "https://localhost:8080/",
          "height": 34
        },
        "outputId": "f0b62d02-a2ad-4fd8-e110-4f2af0e724ba"
      },
      "source": [
        "grouped"
      ],
      "execution_count": 69,
      "outputs": [
        {
          "output_type": "execute_result",
          "data": {
            "text/plain": [
              "<pandas.core.groupby.generic.DataFrameGroupBy object at 0x7f1075cbd710>"
            ]
          },
          "metadata": {
            "tags": []
          },
          "execution_count": 69
        }
      ]
    },
    {
      "cell_type": "code",
      "metadata": {
        "id": "tvfoSUv3R5yB",
        "colab_type": "code",
        "outputId": "9665d718-c236-45f1-de3e-21958b635358",
        "colab": {
          "base_uri": "https://localhost:8080/",
          "height": 976
        }
      },
      "source": [
        "for name, group_df in grouped:\n",
        "  #if name == 'Phillips, Esq Tom':\n",
        "    print(name)\n",
        "    print(group_df)\n",
        "  "
      ],
      "execution_count": 70,
      "outputs": [
        {
          "output_type": "stream",
          "text": [
            "Frost, Sir Terry\n",
            "                artist            title  ... units     area\n",
            "id                                       ...               \n",
            "4704  Frost, Sir Terry        Blue Moon  ...    mm  96915.0\n",
            "4705  Frost, Sir Terry      Boat Shapes  ...    mm  18876.0\n",
            "4706  Frost, Sir Terry      Boat Shapes  ...    mm  20305.0\n",
            "4707  Frost, Sir Terry      Boat Shapes  ...    mm  51531.0\n",
            "4708  Frost, Sir Terry            Leeds  ...    mm  20875.0\n",
            "4709  Frost, Sir Terry  Camping, Anduze  ...    mm  53713.0\n",
            "4710  Frost, Sir Terry     Umea, Sweden  ...   NaN      NaN\n",
            "4711  Frost, Sir Terry    Self-Portrait  ...    mm  55400.0\n",
            "\n",
            "[8 rows x 9 columns]\n",
            "Phillips, Esq Tom\n",
            "                  artist       title            medium  ... height  units     area\n",
            "id                                                      ...                       \n",
            "11838  Phillips, Esq Tom  [colophon]  Etching on paper  ...  204.0     mm  59568.0\n",
            "\n",
            "[1 rows x 9 columns]\n",
            "Wols\n",
            "      artist       title                         medium  ... height  units     area\n",
            "id                                                       ...                       \n",
            "16412   Wols  [no title]               Etching on paper  ...   80.0     mm  10400.0\n",
            "16413   Wols  [no title]  Etching and drypoint on paper  ...  102.0     mm  19074.0\n",
            "16414   Wols  [no title]  Etching and drypoint on paper  ...  168.0     mm  41664.0\n",
            "16415   Wols  [no title]  Etching and drypoint on paper  ...  102.0     mm  15198.0\n",
            "16416   Wols  [no title]  Etching and drypoint on paper  ...  120.0     mm  24360.0\n",
            "16417   Wols  [no title]               Etching on paper  ...   79.0     mm  10270.0\n",
            "16418   Wols  [no title]  Etching and drypoint on paper  ...   98.0     mm  12152.0\n",
            "16419   Wols  [no title]  Etching and drypoint on paper  ...   89.0     mm  12460.0\n",
            "16420   Wols  [no title]  Etching and drypoint on paper  ...   86.0     mm  12040.0\n",
            "16421   Wols  [no title]  Etching and drypoint on paper  ...   79.0     mm   6557.0\n",
            "16422   Wols  [no title]  Etching and drypoint on paper  ...  146.0     mm  29200.0\n",
            "16423   Wols  [no title]               Etching on paper  ...   98.0     mm   5880.0\n",
            "16424   Wols  [no title]  Etching and drypoint on paper  ...   98.0     mm  12152.0\n",
            "16425   Wols  [no title]               Etching on paper  ...   98.0     mm  12152.0\n",
            "16426   Wols  [no title]  Etching and drypoint on paper  ...  118.0     mm  24072.0\n",
            "16427   Wols  [no title]  Etching and drypoint on paper  ...   98.0     mm  10290.0\n",
            "16428   Wols  [no title]  Etching and drypoint on paper  ...  149.0     mm  29353.0\n",
            "16429   Wols  [no title]  Etching and drypoint on paper  ...  120.0     mm  12240.0\n",
            "16430   Wols  [no title]  Etching and drypoint on paper  ...   95.0     mm  11210.0\n",
            "16431   Wols  [no title]  Etching and drypoint on paper  ...   79.0     mm  11060.0\n",
            "16432   Wols  [no title]  Etching and drypoint on paper  ...   95.0     mm  11780.0\n",
            "16433   Wols  [no title]  Etching and drypoint on paper  ...   73.0     mm   7665.0\n",
            "16434   Wols  [no title]  Etching and drypoint on paper  ...  102.0     mm  12342.0\n",
            "16435   Wols  [no title]  Etching and drypoint on paper  ...   92.0     mm  11132.0\n",
            "16436   Wols  [no title]  Etching and drypoint on paper  ...   98.0     mm  12152.0\n",
            "16437   Wols  [no title]  Etching and drypoint on paper  ...   98.0     mm  12152.0\n",
            "16438   Wols  [no title]  Etching and drypoint on paper  ...   98.0     mm  12152.0\n",
            "16439   Wols  [no title]  Etching and drypoint on paper  ...   70.0     mm   7140.0\n",
            "16440   Wols  [no title]  Etching and drypoint on paper  ...   70.0     mm   7350.0\n",
            "16441   Wols  [no title]  Etching and drypoint on paper  ...  248.0     mm  80352.0\n",
            "\n",
            "[30 rows x 9 columns]\n"
          ],
          "name": "stdout"
        }
      ]
    },
    {
      "cell_type": "code",
      "metadata": {
        "id": "rRVCbRrVbm9a",
        "colab_type": "code",
        "outputId": "e5e48f88-59db-4b43-fd94-2ab1cda009c1",
        "colab": {
          "base_uri": "https://localhost:8080/",
          "height": 123
        }
      },
      "source": [
        "#Aggregate\n",
        "#Mins\n",
        "#it loops through one by one every grouping that it has done.\n",
        "for name, group_df in small_df.groupby('artist') :\n",
        "  min_year = group_df['acquisitionYear'].min()\n",
        "  print(\"{}: {}\".format(name, min_year))\n",
        "  input()\n",
        "  \n"
      ],
      "execution_count": 71,
      "outputs": [
        {
          "output_type": "stream",
          "text": [
            "Frost, Sir Terry: 1983.0\n",
            "\n",
            "Phillips, Esq Tom: 1983.0\n",
            "\n",
            "Wols: 1983.0\n",
            "\n"
          ],
          "name": "stdout"
        }
      ]
    },
    {
      "cell_type": "code",
      "metadata": {
        "id": "TZ-BvFgK_Lqi",
        "colab_type": "code",
        "colab": {
          "base_uri": "https://localhost:8080/",
          "height": 311
        },
        "outputId": "92ad0e07-0482-4ddb-cc0e-db8d441e1535"
      },
      "source": [
        "df.head()"
      ],
      "execution_count": 72,
      "outputs": [
        {
          "output_type": "execute_result",
          "data": {
            "text/html": [
              "<div>\n",
              "<style scoped>\n",
              "    .dataframe tbody tr th:only-of-type {\n",
              "        vertical-align: middle;\n",
              "    }\n",
              "\n",
              "    .dataframe tbody tr th {\n",
              "        vertical-align: top;\n",
              "    }\n",
              "\n",
              "    .dataframe thead th {\n",
              "        text-align: right;\n",
              "    }\n",
              "</style>\n",
              "<table border=\"1\" class=\"dataframe\">\n",
              "  <thead>\n",
              "    <tr style=\"text-align: right;\">\n",
              "      <th></th>\n",
              "      <th>artist</th>\n",
              "      <th>title</th>\n",
              "      <th>medium</th>\n",
              "      <th>year</th>\n",
              "      <th>acquisitionYear</th>\n",
              "      <th>width</th>\n",
              "      <th>height</th>\n",
              "      <th>units</th>\n",
              "      <th>area</th>\n",
              "    </tr>\n",
              "    <tr>\n",
              "      <th>id</th>\n",
              "      <th></th>\n",
              "      <th></th>\n",
              "      <th></th>\n",
              "      <th></th>\n",
              "      <th></th>\n",
              "      <th></th>\n",
              "      <th></th>\n",
              "      <th></th>\n",
              "      <th></th>\n",
              "    </tr>\n",
              "  </thead>\n",
              "  <tbody>\n",
              "    <tr>\n",
              "      <th>1035</th>\n",
              "      <td>Blake, Robert</td>\n",
              "      <td>A Figure Bowing before a Seated Old Man with h...</td>\n",
              "      <td>Watercolour, ink, chalk and graphite on paper....</td>\n",
              "      <td>NaN</td>\n",
              "      <td>1922.0</td>\n",
              "      <td>394.0</td>\n",
              "      <td>419.0</td>\n",
              "      <td>mm</td>\n",
              "      <td>165086.0</td>\n",
              "    </tr>\n",
              "    <tr>\n",
              "      <th>1036</th>\n",
              "      <td>Blake, Robert</td>\n",
              "      <td>Two Drawings of Frightened Figures, Probably f...</td>\n",
              "      <td>Graphite on paper</td>\n",
              "      <td>NaN</td>\n",
              "      <td>1922.0</td>\n",
              "      <td>311.0</td>\n",
              "      <td>213.0</td>\n",
              "      <td>mm</td>\n",
              "      <td>66243.0</td>\n",
              "    </tr>\n",
              "    <tr>\n",
              "      <th>1037</th>\n",
              "      <td>Blake, Robert</td>\n",
              "      <td>The Preaching of Warning. Verso: An Old Man En...</td>\n",
              "      <td>Graphite on paper. Verso: graphite on paper</td>\n",
              "      <td>1785</td>\n",
              "      <td>1922.0</td>\n",
              "      <td>343.0</td>\n",
              "      <td>467.0</td>\n",
              "      <td>mm</td>\n",
              "      <td>160181.0</td>\n",
              "    </tr>\n",
              "    <tr>\n",
              "      <th>1038</th>\n",
              "      <td>Blake, Robert</td>\n",
              "      <td>Six Drawings of Figures with Outstretched Arms</td>\n",
              "      <td>Graphite on paper</td>\n",
              "      <td>NaN</td>\n",
              "      <td>1922.0</td>\n",
              "      <td>318.0</td>\n",
              "      <td>394.0</td>\n",
              "      <td>mm</td>\n",
              "      <td>125292.0</td>\n",
              "    </tr>\n",
              "    <tr>\n",
              "      <th>1039</th>\n",
              "      <td>Blake, William</td>\n",
              "      <td>The Circle of the Lustful: Francesca da Rimini...</td>\n",
              "      <td>Line engraving on paper</td>\n",
              "      <td>1826</td>\n",
              "      <td>1919.0</td>\n",
              "      <td>243.0</td>\n",
              "      <td>335.0</td>\n",
              "      <td>mm</td>\n",
              "      <td>81405.0</td>\n",
              "    </tr>\n",
              "  </tbody>\n",
              "</table>\n",
              "</div>"
            ],
            "text/plain": [
              "              artist  ...      area\n",
              "id                    ...          \n",
              "1035   Blake, Robert  ...  165086.0\n",
              "1036   Blake, Robert  ...   66243.0\n",
              "1037   Blake, Robert  ...  160181.0\n",
              "1038   Blake, Robert  ...  125292.0\n",
              "1039  Blake, William  ...   81405.0\n",
              "\n",
              "[5 rows x 9 columns]"
            ]
          },
          "metadata": {
            "tags": []
          },
          "execution_count": 72
        }
      ]
    },
    {
      "cell_type": "code",
      "metadata": {
        "id": "_Kep1bFU-NiM",
        "colab_type": "code",
        "colab": {
          "base_uri": "https://localhost:8080/",
          "height": 1000
        },
        "outputId": "e8cf1029-079e-4768-c87d-84e1382232c8"
      },
      "source": [
        "df['acquisitionYear']"
      ],
      "execution_count": 73,
      "outputs": [
        {
          "output_type": "execute_result",
          "data": {
            "text/plain": [
              "id\n",
              "1035      1922.0\n",
              "1036      1922.0\n",
              "1037      1922.0\n",
              "1038      1922.0\n",
              "1039      1919.0\n",
              "1040      1919.0\n",
              "1041      1919.0\n",
              "1042      1919.0\n",
              "1043      1919.0\n",
              "1044      1919.0\n",
              "1045      1919.0\n",
              "1046      1919.0\n",
              "1047      1919.0\n",
              "1048      1919.0\n",
              "1049      1919.0\n",
              "1050      1919.0\n",
              "1051      1919.0\n",
              "1052      1919.0\n",
              "1053      1919.0\n",
              "1054      1919.0\n",
              "1055      1919.0\n",
              "1056      1919.0\n",
              "1057      1919.0\n",
              "1058      1919.0\n",
              "1059      1919.0\n",
              "1060      1919.0\n",
              "1061      1919.0\n",
              "1062      1919.0\n",
              "1063      1919.0\n",
              "1064      1919.0\n",
              "           ...  \n",
              "121196    2013.0\n",
              "121197    2013.0\n",
              "121198    2013.0\n",
              "115637    2013.0\n",
              "115638    2013.0\n",
              "122545    2013.0\n",
              "120104    2013.0\n",
              "121565    2013.0\n",
              "116157    2013.0\n",
              "117761    2013.0\n",
              "115217    2013.0\n",
              "122537    2013.0\n",
              "120527    2013.0\n",
              "127128    2013.0\n",
              "127129    2013.0\n",
              "127130    2013.0\n",
              "127131    2013.0\n",
              "121283    2013.0\n",
              "129068    2013.0\n",
              "117863    2013.0\n",
              "120549    2013.0\n",
              "123620    2013.0\n",
              "122900    2013.0\n",
              "122958    2013.0\n",
              "122959    2013.0\n",
              "122960    2013.0\n",
              "122961    2013.0\n",
              "121181    2013.0\n",
              "112306    2013.0\n",
              "127035    2013.0\n",
              "Name: acquisitionYear, Length: 69201, dtype: float64"
            ]
          },
          "metadata": {
            "tags": []
          },
          "execution_count": 73
        }
      ]
    },
    {
      "cell_type": "code",
      "metadata": {
        "id": "8iKvuZLBq0ec",
        "colab_type": "code",
        "outputId": "8b67e0d1-96ad-41de-c6ea-b8d4678ce076",
        "colab": {
          "base_uri": "https://localhost:8080/",
          "height": 1000
        }
      },
      "source": [
        "#df.groupby('artist').agg(np.min)\n",
        "df.groupby('artist').min()"
      ],
      "execution_count": 74,
      "outputs": [
        {
          "output_type": "execute_result",
          "data": {
            "text/html": [
              "<div>\n",
              "<style scoped>\n",
              "    .dataframe tbody tr th:only-of-type {\n",
              "        vertical-align: middle;\n",
              "    }\n",
              "\n",
              "    .dataframe tbody tr th {\n",
              "        vertical-align: top;\n",
              "    }\n",
              "\n",
              "    .dataframe thead th {\n",
              "        text-align: right;\n",
              "    }\n",
              "</style>\n",
              "<table border=\"1\" class=\"dataframe\">\n",
              "  <thead>\n",
              "    <tr style=\"text-align: right;\">\n",
              "      <th></th>\n",
              "      <th>title</th>\n",
              "      <th>acquisitionYear</th>\n",
              "      <th>width</th>\n",
              "      <th>height</th>\n",
              "      <th>area</th>\n",
              "    </tr>\n",
              "    <tr>\n",
              "      <th>artist</th>\n",
              "      <th></th>\n",
              "      <th></th>\n",
              "      <th></th>\n",
              "      <th></th>\n",
              "      <th></th>\n",
              "    </tr>\n",
              "  </thead>\n",
              "  <tbody>\n",
              "    <tr>\n",
              "      <th>?British School</th>\n",
              "      <td>Portrait of a Gentleman, probably of the West ...</td>\n",
              "      <td>1927.0</td>\n",
              "      <td>1330.0</td>\n",
              "      <td>785.0</td>\n",
              "      <td>1044050.0</td>\n",
              "    </tr>\n",
              "    <tr>\n",
              "      <th>Abakanowicz, Magdalena</th>\n",
              "      <td>Abakan Orange</td>\n",
              "      <td>2009.0</td>\n",
              "      <td>NaN</td>\n",
              "      <td>NaN</td>\n",
              "      <td>NaN</td>\n",
              "    </tr>\n",
              "    <tr>\n",
              "      <th>Abbey, Edwin Austin</th>\n",
              "      <td>Illustration to ‘Judith Shakespeare’</td>\n",
              "      <td>1924.0</td>\n",
              "      <td>251.0</td>\n",
              "      <td>254.0</td>\n",
              "      <td>74045.0</td>\n",
              "    </tr>\n",
              "    <tr>\n",
              "      <th>Abbott, Berenice</th>\n",
              "      <td>Dinty Moore Antiques</td>\n",
              "      <td>2010.0</td>\n",
              "      <td>240.0</td>\n",
              "      <td>180.0</td>\n",
              "      <td>43200.0</td>\n",
              "    </tr>\n",
              "    <tr>\n",
              "      <th>Abbott, Lemuel Francis</th>\n",
              "      <td>Henry Byne, of Carshalton</td>\n",
              "      <td>1885.0</td>\n",
              "      <td>737.0</td>\n",
              "      <td>610.0</td>\n",
              "      <td>449570.0</td>\n",
              "    </tr>\n",
              "    <tr>\n",
              "      <th>Abrahams, Ivor</th>\n",
              "      <td>A Dream Within a Dream</td>\n",
              "      <td>1975.0</td>\n",
              "      <td>129.0</td>\n",
              "      <td>130.0</td>\n",
              "      <td>18358.0</td>\n",
              "    </tr>\n",
              "    <tr>\n",
              "      <th>Absalon</th>\n",
              "      <td>Assassinations</td>\n",
              "      <td>1997.0</td>\n",
              "      <td>2450.0</td>\n",
              "      <td>4200.0</td>\n",
              "      <td>10290000.0</td>\n",
              "    </tr>\n",
              "    <tr>\n",
              "      <th>Abts, Tomma</th>\n",
              "      <td>Noeme</td>\n",
              "      <td>2006.0</td>\n",
              "      <td>480.0</td>\n",
              "      <td>380.0</td>\n",
              "      <td>182400.0</td>\n",
              "    </tr>\n",
              "    <tr>\n",
              "      <th>Acconci, Vito</th>\n",
              "      <td>3 Flags for 1 Space and 6 Regions</td>\n",
              "      <td>1982.0</td>\n",
              "      <td>851.0</td>\n",
              "      <td>959.0</td>\n",
              "      <td>822822.0</td>\n",
              "    </tr>\n",
              "    <tr>\n",
              "      <th>Ackling, Roger</th>\n",
              "      <td>Five Sunsets in One Hour</td>\n",
              "      <td>1983.0</td>\n",
              "      <td>558.0</td>\n",
              "      <td>367.0</td>\n",
              "      <td>204786.0</td>\n",
              "    </tr>\n",
              "    <tr>\n",
              "      <th>Ackroyd, Norman</th>\n",
              "      <td>1st Millbank Print</td>\n",
              "      <td>1975.0</td>\n",
              "      <td>95.0</td>\n",
              "      <td>114.0</td>\n",
              "      <td>10830.0</td>\n",
              "    </tr>\n",
              "    <tr>\n",
              "      <th>Adam, Robert</th>\n",
              "      <td>A Chasm, with Figures</td>\n",
              "      <td>1996.0</td>\n",
              "      <td>245.0</td>\n",
              "      <td>308.0</td>\n",
              "      <td>75460.0</td>\n",
              "    </tr>\n",
              "    <tr>\n",
              "      <th>Adams, Harry William</th>\n",
              "      <td>Winter’s Sleep</td>\n",
              "      <td>1900.0</td>\n",
              "      <td>1226.0</td>\n",
              "      <td>1841.0</td>\n",
              "      <td>2257066.0</td>\n",
              "    </tr>\n",
              "    <tr>\n",
              "      <th>Adams, Norman</th>\n",
              "      <td>Christ’s Cross and Adam’s Tree</td>\n",
              "      <td>1967.0</td>\n",
              "      <td>864.0</td>\n",
              "      <td>914.0</td>\n",
              "      <td>789696.0</td>\n",
              "    </tr>\n",
              "    <tr>\n",
              "      <th>Adams, Robert</th>\n",
              "      <td>Figure</td>\n",
              "      <td>1962.0</td>\n",
              "      <td>184.0</td>\n",
              "      <td>230.0</td>\n",
              "      <td>57500.0</td>\n",
              "    </tr>\n",
              "    <tr>\n",
              "      <th>Adeney, Bernard</th>\n",
              "      <td>Toy Sailing Boats, the Round Pond</td>\n",
              "      <td>1931.0</td>\n",
              "      <td>2276.0</td>\n",
              "      <td>3048.0</td>\n",
              "      <td>6937248.0</td>\n",
              "    </tr>\n",
              "    <tr>\n",
              "      <th>Adler, Jankel</th>\n",
              "      <td>No Man’s Land</td>\n",
              "      <td>1953.0</td>\n",
              "      <td>311.0</td>\n",
              "      <td>251.0</td>\n",
              "      <td>78061.0</td>\n",
              "    </tr>\n",
              "    <tr>\n",
              "      <th>Adshead, Mary</th>\n",
              "      <td>Morning after the Flood</td>\n",
              "      <td>1997.0</td>\n",
              "      <td>515.0</td>\n",
              "      <td>427.0</td>\n",
              "      <td>219905.0</td>\n",
              "    </tr>\n",
              "    <tr>\n",
              "      <th>Adzak, Roy</th>\n",
              "      <td>Cut Bottle Relief</td>\n",
              "      <td>1966.0</td>\n",
              "      <td>330.0</td>\n",
              "      <td>406.0</td>\n",
              "      <td>133980.0</td>\n",
              "    </tr>\n",
              "    <tr>\n",
              "      <th>Afro</th>\n",
              "      <td>The Struggle</td>\n",
              "      <td>1955.0</td>\n",
              "      <td>267.0</td>\n",
              "      <td>210.0</td>\n",
              "      <td>56070.0</td>\n",
              "    </tr>\n",
              "    <tr>\n",
              "      <th>Agar, Eileen</th>\n",
              "      <td>Angel of Anarchy</td>\n",
              "      <td>1962.0</td>\n",
              "      <td>210.0</td>\n",
              "      <td>275.0</td>\n",
              "      <td>57750.0</td>\n",
              "    </tr>\n",
              "    <tr>\n",
              "      <th>Agasse, Jacques Laurent</th>\n",
              "      <td>Lord Rivers’s Groom Leading a Chestnut Hunter ...</td>\n",
              "      <td>1979.0</td>\n",
              "      <td>638.0</td>\n",
              "      <td>625.0</td>\n",
              "      <td>412500.0</td>\n",
              "    </tr>\n",
              "    <tr>\n",
              "      <th>Ahtila, Eija-Liisa</th>\n",
              "      <td>Consolation Service</td>\n",
              "      <td>2001.0</td>\n",
              "      <td>NaN</td>\n",
              "      <td>NaN</td>\n",
              "      <td>NaN</td>\n",
              "    </tr>\n",
              "    <tr>\n",
              "      <th>Ai, Weiwei</th>\n",
              "      <td>Sunflower Seeds</td>\n",
              "      <td>2008.0</td>\n",
              "      <td>4600.0</td>\n",
              "      <td>900.0</td>\n",
              "      <td>4140000.0</td>\n",
              "    </tr>\n",
              "    <tr>\n",
              "      <th>Aitchison, Craigie</th>\n",
              "      <td>Africa</td>\n",
              "      <td>1964.0</td>\n",
              "      <td>660.0</td>\n",
              "      <td>457.0</td>\n",
              "      <td>368940.0</td>\n",
              "    </tr>\n",
              "    <tr>\n",
              "      <th>Ajmone, Giuseppe</th>\n",
              "      <td>Autumn</td>\n",
              "      <td>1960.0</td>\n",
              "      <td>997.0</td>\n",
              "      <td>648.0</td>\n",
              "      <td>646056.0</td>\n",
              "    </tr>\n",
              "    <tr>\n",
              "      <th>Aksel, Erdag</th>\n",
              "      <td>Reflection of Craft</td>\n",
              "      <td>2011.0</td>\n",
              "      <td>1900.0</td>\n",
              "      <td>550.0</td>\n",
              "      <td>1045000.0</td>\n",
              "    </tr>\n",
              "    <tr>\n",
              "      <th>Al-Ani, Jananne</th>\n",
              "      <td>The Visit</td>\n",
              "      <td>2009.0</td>\n",
              "      <td>NaN</td>\n",
              "      <td>NaN</td>\n",
              "      <td>NaN</td>\n",
              "    </tr>\n",
              "    <tr>\n",
              "      <th>Albers, Josef</th>\n",
              "      <td>Beta</td>\n",
              "      <td>1965.0</td>\n",
              "      <td>162.0</td>\n",
              "      <td>117.0</td>\n",
              "      <td>19890.0</td>\n",
              "    </tr>\n",
              "    <tr>\n",
              "      <th>Albright, Ivan</th>\n",
              "      <td>Josephine Medill Paterson Albright</td>\n",
              "      <td>1978.0</td>\n",
              "      <td>346.0</td>\n",
              "      <td>225.0</td>\n",
              "      <td>77850.0</td>\n",
              "    </tr>\n",
              "    <tr>\n",
              "      <th>...</th>\n",
              "      <td>...</td>\n",
              "      <td>...</td>\n",
              "      <td>...</td>\n",
              "      <td>...</td>\n",
              "      <td>...</td>\n",
              "    </tr>\n",
              "    <tr>\n",
              "      <th>Yass, Catherine</th>\n",
              "      <td>Bankside: Cherrypicker</td>\n",
              "      <td>1996.0</td>\n",
              "      <td>590.0</td>\n",
              "      <td>508.0</td>\n",
              "      <td>345440.0</td>\n",
              "    </tr>\n",
              "    <tr>\n",
              "      <th>Yeames, William Frederick</th>\n",
              "      <td>Amy Robsart</td>\n",
              "      <td>1877.0</td>\n",
              "      <td>2815.0</td>\n",
              "      <td>1885.0</td>\n",
              "      <td>5306275.0</td>\n",
              "    </tr>\n",
              "    <tr>\n",
              "      <th>Yeats, Jack Butler</th>\n",
              "      <td>A Rose Among Many Waters</td>\n",
              "      <td>1925.0</td>\n",
              "      <td>233.0</td>\n",
              "      <td>361.0</td>\n",
              "      <td>84113.0</td>\n",
              "    </tr>\n",
              "    <tr>\n",
              "      <th>Yhap, Laetitia</th>\n",
              "      <td>Michael Balling Up Old Net</td>\n",
              "      <td>1984.0</td>\n",
              "      <td>1205.0</td>\n",
              "      <td>1496.0</td>\n",
              "      <td>1802680.0</td>\n",
              "    </tr>\n",
              "    <tr>\n",
              "      <th>Yiadom-Boakye, Lynette</th>\n",
              "      <td>10pm Saturday</td>\n",
              "      <td>2012.0</td>\n",
              "      <td>1800.0</td>\n",
              "      <td>1300.0</td>\n",
              "      <td>2600000.0</td>\n",
              "    </tr>\n",
              "    <tr>\n",
              "      <th>Young, Carey</th>\n",
              "      <td>Body Techniques (after A Line in Ireland, Rich...</td>\n",
              "      <td>2006.0</td>\n",
              "      <td>1219.0</td>\n",
              "      <td>1397.0</td>\n",
              "      <td>1702943.0</td>\n",
              "    </tr>\n",
              "    <tr>\n",
              "      <th>Young, Robert</th>\n",
              "      <td>Sounds Inside</td>\n",
              "      <td>1975.0</td>\n",
              "      <td>556.0</td>\n",
              "      <td>683.0</td>\n",
              "      <td>379748.0</td>\n",
              "    </tr>\n",
              "    <tr>\n",
              "      <th>Young-Hae Chang Heavy Industries (Young-Hae Chang, Marc Voge)</th>\n",
              "      <td>TEASER</td>\n",
              "      <td>2012.0</td>\n",
              "      <td>NaN</td>\n",
              "      <td>NaN</td>\n",
              "      <td>NaN</td>\n",
              "    </tr>\n",
              "    <tr>\n",
              "      <th>Young-Hunter, John</th>\n",
              "      <td>My Lady’s Garden</td>\n",
              "      <td>1899.0</td>\n",
              "      <td>1067.0</td>\n",
              "      <td>1822.0</td>\n",
              "      <td>1944074.0</td>\n",
              "    </tr>\n",
              "    <tr>\n",
              "      <th>Yuon, Konstantin</th>\n",
              "      <td>The Monastery at Zagorsk</td>\n",
              "      <td>1964.0</td>\n",
              "      <td>327.0</td>\n",
              "      <td>403.0</td>\n",
              "      <td>131781.0</td>\n",
              "    </tr>\n",
              "    <tr>\n",
              "      <th>Yvaral, Jean-Pierre</th>\n",
              "      <td>Kinetic Relief - Optical Acceleration</td>\n",
              "      <td>1964.0</td>\n",
              "      <td>1010.0</td>\n",
              "      <td>991.0</td>\n",
              "      <td>1000910.0</td>\n",
              "    </tr>\n",
              "    <tr>\n",
              "      <th>Zaatari, Akram</th>\n",
              "      <td>A fisherman with his daughters. Saqqa family h...</td>\n",
              "      <td>2008.0</td>\n",
              "      <td>150.0</td>\n",
              "      <td>150.0</td>\n",
              "      <td>34050.0</td>\n",
              "    </tr>\n",
              "    <tr>\n",
              "      <th>Zack, Leon</th>\n",
              "      <td>Painting</td>\n",
              "      <td>1959.0</td>\n",
              "      <td>975.0</td>\n",
              "      <td>1305.0</td>\n",
              "      <td>1272375.0</td>\n",
              "    </tr>\n",
              "    <tr>\n",
              "      <th>Zadkine, Ossip</th>\n",
              "      <td>Acrobat</td>\n",
              "      <td>1954.0</td>\n",
              "      <td>533.0</td>\n",
              "      <td>244.0</td>\n",
              "      <td>130052.0</td>\n",
              "    </tr>\n",
              "    <tr>\n",
              "      <th>Zakanitch, Robert Rahway</th>\n",
              "      <td>Double Geese Mountain</td>\n",
              "      <td>2004.0</td>\n",
              "      <td>650.0</td>\n",
              "      <td>535.0</td>\n",
              "      <td>347750.0</td>\n",
              "    </tr>\n",
              "    <tr>\n",
              "      <th>Zao, Wou-ki</th>\n",
              "      <td>Before the Storm</td>\n",
              "      <td>1958.0</td>\n",
              "      <td>724.0</td>\n",
              "      <td>537.0</td>\n",
              "      <td>388788.0</td>\n",
              "    </tr>\n",
              "    <tr>\n",
              "      <th>Zhang, Enli</th>\n",
              "      <td>Bucket 3</td>\n",
              "      <td>2011.0</td>\n",
              "      <td>994.0</td>\n",
              "      <td>994.0</td>\n",
              "      <td>988036.0</td>\n",
              "    </tr>\n",
              "    <tr>\n",
              "      <th>Ziegler, Toby</th>\n",
              "      <td>The Hedonistic Imperative (2nd version)</td>\n",
              "      <td>2006.0</td>\n",
              "      <td>1250.0</td>\n",
              "      <td>1820.0</td>\n",
              "      <td>2275000.0</td>\n",
              "    </tr>\n",
              "    <tr>\n",
              "      <th>Zipp, Thomas</th>\n",
              "      <td>achtung</td>\n",
              "      <td>2007.0</td>\n",
              "      <td>NaN</td>\n",
              "      <td>NaN</td>\n",
              "      <td>NaN</td>\n",
              "    </tr>\n",
              "    <tr>\n",
              "      <th>Zittel, Andrea</th>\n",
              "      <td>A-Z Comfort Unit with Special Comfort Features...</td>\n",
              "      <td>1996.0</td>\n",
              "      <td>NaN</td>\n",
              "      <td>NaN</td>\n",
              "      <td>NaN</td>\n",
              "    </tr>\n",
              "    <tr>\n",
              "      <th>Zmijewski, Artur</th>\n",
              "      <td>Democracies</td>\n",
              "      <td>2010.0</td>\n",
              "      <td>NaN</td>\n",
              "      <td>NaN</td>\n",
              "      <td>NaN</td>\n",
              "    </tr>\n",
              "    <tr>\n",
              "      <th>Zoffany, Johan</th>\n",
              "      <td>A Florentine Fruit Stall</td>\n",
              "      <td>1896.0</td>\n",
              "      <td>197.0</td>\n",
              "      <td>171.0</td>\n",
              "      <td>33687.0</td>\n",
              "    </tr>\n",
              "    <tr>\n",
              "      <th>Zorio, Gilberto</th>\n",
              "      <td>Hatred</td>\n",
              "      <td>2009.0</td>\n",
              "      <td>125.0</td>\n",
              "      <td>1113.0</td>\n",
              "      <td>139125.0</td>\n",
              "    </tr>\n",
              "    <tr>\n",
              "      <th>Zox, Larry</th>\n",
              "      <td>Orange Time</td>\n",
              "      <td>1968.0</td>\n",
              "      <td>2235.0</td>\n",
              "      <td>2489.0</td>\n",
              "      <td>5562915.0</td>\n",
              "    </tr>\n",
              "    <tr>\n",
              "      <th>Zuccarelli, Francesco</th>\n",
              "      <td>A Landscape with the Story of Cadmus Killing t...</td>\n",
              "      <td>1985.0</td>\n",
              "      <td>1264.0</td>\n",
              "      <td>1572.0</td>\n",
              "      <td>1987008.0</td>\n",
              "    </tr>\n",
              "    <tr>\n",
              "      <th>Zuloaga, Ignacio</th>\n",
              "      <td>View of the Escorial</td>\n",
              "      <td>1923.0</td>\n",
              "      <td>292.0</td>\n",
              "      <td>406.0</td>\n",
              "      <td>118552.0</td>\n",
              "    </tr>\n",
              "    <tr>\n",
              "      <th>Zyw, Aleksander</th>\n",
              "      <td>Light</td>\n",
              "      <td>1962.0</td>\n",
              "      <td>934.0</td>\n",
              "      <td>662.0</td>\n",
              "      <td>618308.0</td>\n",
              "    </tr>\n",
              "    <tr>\n",
              "      <th>di Suvero, Mark</th>\n",
              "      <td>Tetra</td>\n",
              "      <td>2004.0</td>\n",
              "      <td>1152.0</td>\n",
              "      <td>843.0</td>\n",
              "      <td>971136.0</td>\n",
              "    </tr>\n",
              "    <tr>\n",
              "      <th>van Elk, Ger</th>\n",
              "      <td>Lunch II</td>\n",
              "      <td>1980.0</td>\n",
              "      <td>800.0</td>\n",
              "      <td>1000.0</td>\n",
              "      <td>800000.0</td>\n",
              "    </tr>\n",
              "    <tr>\n",
              "      <th>Štyrský, Jindrich</th>\n",
              "      <td>Untitled</td>\n",
              "      <td>2007.0</td>\n",
              "      <td>NaN</td>\n",
              "      <td>NaN</td>\n",
              "      <td>NaN</td>\n",
              "    </tr>\n",
              "  </tbody>\n",
              "</table>\n",
              "<p>3336 rows × 5 columns</p>\n",
              "</div>"
            ],
            "text/plain": [
              "                                                                                                title  ...        area\n",
              "artist                                                                                                 ...            \n",
              "?British School                                     Portrait of a Gentleman, probably of the West ...  ...   1044050.0\n",
              "Abakanowicz, Magdalena                                                                  Abakan Orange  ...         NaN\n",
              "Abbey, Edwin Austin                                              Illustration to ‘Judith Shakespeare’  ...     74045.0\n",
              "Abbott, Berenice                                                                 Dinty Moore Antiques  ...     43200.0\n",
              "Abbott, Lemuel Francis                                                      Henry Byne, of Carshalton  ...    449570.0\n",
              "Abrahams, Ivor                                                                 A Dream Within a Dream  ...     18358.0\n",
              "Absalon                                                                                Assassinations  ...  10290000.0\n",
              "Abts, Tomma                                                                                     Noeme  ...    182400.0\n",
              "Acconci, Vito                                                       3 Flags for 1 Space and 6 Regions  ...    822822.0\n",
              "Ackling, Roger                                                               Five Sunsets in One Hour  ...    204786.0\n",
              "Ackroyd, Norman                                                                    1st Millbank Print  ...     10830.0\n",
              "Adam, Robert                                                                    A Chasm, with Figures  ...     75460.0\n",
              "Adams, Harry William                                                                   Winter’s Sleep  ...   2257066.0\n",
              "Adams, Norman                                                          Christ’s Cross and Adam’s Tree  ...    789696.0\n",
              "Adams, Robert                                                                                  Figure  ...     57500.0\n",
              "Adeney, Bernard                                                     Toy Sailing Boats, the Round Pond  ...   6937248.0\n",
              "Adler, Jankel                                                                           No Man’s Land  ...     78061.0\n",
              "Adshead, Mary                                                                 Morning after the Flood  ...    219905.0\n",
              "Adzak, Roy                                                                          Cut Bottle Relief  ...    133980.0\n",
              "Afro                                                                                     The Struggle  ...     56070.0\n",
              "Agar, Eileen                                                                         Angel of Anarchy  ...     57750.0\n",
              "Agasse, Jacques Laurent                             Lord Rivers’s Groom Leading a Chestnut Hunter ...  ...    412500.0\n",
              "Ahtila, Eija-Liisa                                                                Consolation Service  ...         NaN\n",
              "Ai, Weiwei                                                                            Sunflower Seeds  ...   4140000.0\n",
              "Aitchison, Craigie                                                                             Africa  ...    368940.0\n",
              "Ajmone, Giuseppe                                                                               Autumn  ...    646056.0\n",
              "Aksel, Erdag                                                                      Reflection of Craft  ...   1045000.0\n",
              "Al-Ani, Jananne                                                                             The Visit  ...         NaN\n",
              "Albers, Josef                                                                                    Beta  ...     19890.0\n",
              "Albright, Ivan                                                     Josephine Medill Paterson Albright  ...     77850.0\n",
              "...                                                                                               ...  ...         ...\n",
              "Yass, Catherine                                                                Bankside: Cherrypicker  ...    345440.0\n",
              "Yeames, William Frederick                                                                 Amy Robsart  ...   5306275.0\n",
              "Yeats, Jack Butler                                                           A Rose Among Many Waters  ...     84113.0\n",
              "Yhap, Laetitia                                                             Michael Balling Up Old Net  ...   1802680.0\n",
              "Yiadom-Boakye, Lynette                                                                  10pm Saturday  ...   2600000.0\n",
              "Young, Carey                                        Body Techniques (after A Line in Ireland, Rich...  ...   1702943.0\n",
              "Young, Robert                                                                           Sounds Inside  ...    379748.0\n",
              "Young-Hae Chang Heavy Industries (Young-Hae Cha...                                             TEASER  ...         NaN\n",
              "Young-Hunter, John                                                                   My Lady’s Garden  ...   1944074.0\n",
              "Yuon, Konstantin                                                             The Monastery at Zagorsk  ...    131781.0\n",
              "Yvaral, Jean-Pierre                                             Kinetic Relief - Optical Acceleration  ...   1000910.0\n",
              "Zaatari, Akram                                      A fisherman with his daughters. Saqqa family h...  ...     34050.0\n",
              "Zack, Leon                                                                                   Painting  ...   1272375.0\n",
              "Zadkine, Ossip                                                                                Acrobat  ...    130052.0\n",
              "Zakanitch, Robert Rahway                                                        Double Geese Mountain  ...    347750.0\n",
              "Zao, Wou-ki                                                                          Before the Storm  ...    388788.0\n",
              "Zhang, Enli                                                                                  Bucket 3  ...    988036.0\n",
              "Ziegler, Toby                                                 The Hedonistic Imperative (2nd version)  ...   2275000.0\n",
              "Zipp, Thomas                                                                                  achtung  ...         NaN\n",
              "Zittel, Andrea                                      A-Z Comfort Unit with Special Comfort Features...  ...         NaN\n",
              "Zmijewski, Artur                                                                          Democracies  ...         NaN\n",
              "Zoffany, Johan                                                               A Florentine Fruit Stall  ...     33687.0\n",
              "Zorio, Gilberto                                                                                Hatred  ...    139125.0\n",
              "Zox, Larry                                                                                Orange Time  ...   5562915.0\n",
              "Zuccarelli, Francesco                               A Landscape with the Story of Cadmus Killing t...  ...   1987008.0\n",
              "Zuloaga, Ignacio                                                                 View of the Escorial  ...    118552.0\n",
              "Zyw, Aleksander                                                                                 Light  ...    618308.0\n",
              "di Suvero, Mark                                                                                 Tetra  ...    971136.0\n",
              "van Elk, Ger                                                                                 Lunch II  ...    800000.0\n",
              "Štyrský, Jindrich                                                                            Untitled  ...         NaN\n",
              "\n",
              "[3336 rows x 5 columns]"
            ]
          },
          "metadata": {
            "tags": []
          },
          "execution_count": 74
        }
      ]
    },
    {
      "cell_type": "code",
      "metadata": {
        "id": "GSdfYv6Uh0gS",
        "colab_type": "code",
        "colab": {}
      },
      "source": [
        "#Transformation\n",
        "#Equivalent of editing by hand:\n",
        "#Make a case where there is no data to infer\n",
        "small_df.loc[[11838,16441], 'medium'] = np.nan\n"
      ],
      "execution_count": 0,
      "outputs": []
    },
    {
      "cell_type": "code",
      "metadata": {
        "id": "YAuVPc1x_09y",
        "colab_type": "code",
        "colab": {
          "base_uri": "https://localhost:8080/",
          "height": 137
        },
        "outputId": "51528115-071b-432f-c701-8bff7f067005"
      },
      "source": [
        "small_df.loc[[11838,16441], :]"
      ],
      "execution_count": 76,
      "outputs": [
        {
          "output_type": "execute_result",
          "data": {
            "text/html": [
              "<div>\n",
              "<style scoped>\n",
              "    .dataframe tbody tr th:only-of-type {\n",
              "        vertical-align: middle;\n",
              "    }\n",
              "\n",
              "    .dataframe tbody tr th {\n",
              "        vertical-align: top;\n",
              "    }\n",
              "\n",
              "    .dataframe thead th {\n",
              "        text-align: right;\n",
              "    }\n",
              "</style>\n",
              "<table border=\"1\" class=\"dataframe\">\n",
              "  <thead>\n",
              "    <tr style=\"text-align: right;\">\n",
              "      <th></th>\n",
              "      <th>artist</th>\n",
              "      <th>title</th>\n",
              "      <th>medium</th>\n",
              "      <th>year</th>\n",
              "      <th>acquisitionYear</th>\n",
              "      <th>width</th>\n",
              "      <th>height</th>\n",
              "      <th>units</th>\n",
              "      <th>area</th>\n",
              "    </tr>\n",
              "    <tr>\n",
              "      <th>id</th>\n",
              "      <th></th>\n",
              "      <th></th>\n",
              "      <th></th>\n",
              "      <th></th>\n",
              "      <th></th>\n",
              "      <th></th>\n",
              "      <th></th>\n",
              "      <th></th>\n",
              "      <th></th>\n",
              "    </tr>\n",
              "  </thead>\n",
              "  <tbody>\n",
              "    <tr>\n",
              "      <th>11838</th>\n",
              "      <td>Phillips, Esq Tom</td>\n",
              "      <td>[colophon]</td>\n",
              "      <td>NaN</td>\n",
              "      <td>1979</td>\n",
              "      <td>1983.0</td>\n",
              "      <td>292.0</td>\n",
              "      <td>204.0</td>\n",
              "      <td>mm</td>\n",
              "      <td>59568.0</td>\n",
              "    </tr>\n",
              "    <tr>\n",
              "      <th>16441</th>\n",
              "      <td>Wols</td>\n",
              "      <td>[no title]</td>\n",
              "      <td>NaN</td>\n",
              "      <td>1937</td>\n",
              "      <td>1983.0</td>\n",
              "      <td>324.0</td>\n",
              "      <td>248.0</td>\n",
              "      <td>mm</td>\n",
              "      <td>80352.0</td>\n",
              "    </tr>\n",
              "  </tbody>\n",
              "</table>\n",
              "</div>"
            ],
            "text/plain": [
              "                  artist       title medium  year  ...  width  height  units     area\n",
              "id                                                 ...                               \n",
              "11838  Phillips, Esq Tom  [colophon]    NaN  1979  ...  292.0   204.0     mm  59568.0\n",
              "16441               Wols  [no title]    NaN  1937  ...  324.0   248.0     mm  80352.0\n",
              "\n",
              "[2 rows x 9 columns]"
            ]
          },
          "metadata": {
            "tags": []
          },
          "execution_count": 76
        }
      ]
    },
    {
      "cell_type": "code",
      "metadata": {
        "id": "UW8ws4dqAq6J",
        "colab_type": "code",
        "colab": {}
      },
      "source": [
        "include = small_df['medium'].isna()"
      ],
      "execution_count": 0,
      "outputs": []
    },
    {
      "cell_type": "code",
      "metadata": {
        "id": "26C5Fw1igqlV",
        "colab_type": "code",
        "colab": {
          "base_uri": "https://localhost:8080/",
          "height": 745
        },
        "outputId": "d0ab8b80-76d3-4e2a-a069-7001e5415b32"
      },
      "source": [
        "include"
      ],
      "execution_count": 78,
      "outputs": [
        {
          "output_type": "execute_result",
          "data": {
            "text/plain": [
              "id\n",
              "16412    False\n",
              "16413    False\n",
              "16414    False\n",
              "16415    False\n",
              "16416    False\n",
              "16417    False\n",
              "16418    False\n",
              "16419    False\n",
              "16420    False\n",
              "16421    False\n",
              "16422    False\n",
              "16423    False\n",
              "16424    False\n",
              "16425    False\n",
              "16426    False\n",
              "16427    False\n",
              "16428    False\n",
              "16429    False\n",
              "16430    False\n",
              "16431    False\n",
              "16432    False\n",
              "16433    False\n",
              "16434    False\n",
              "16435    False\n",
              "16436    False\n",
              "16437    False\n",
              "16438    False\n",
              "16439    False\n",
              "16440    False\n",
              "16441     True\n",
              "4704     False\n",
              "4705     False\n",
              "4706     False\n",
              "4707     False\n",
              "4708     False\n",
              "4709     False\n",
              "4710     False\n",
              "4711     False\n",
              "11838     True\n",
              "Name: medium, dtype: bool"
            ]
          },
          "metadata": {
            "tags": []
          },
          "execution_count": 78
        }
      ]
    },
    {
      "cell_type": "code",
      "metadata": {
        "id": "8QAIiy3dBaRi",
        "colab_type": "code",
        "colab": {}
      },
      "source": [
        "include = [not i for i in include]"
      ],
      "execution_count": 0,
      "outputs": []
    },
    {
      "cell_type": "code",
      "metadata": {
        "id": "GikpLZCCBjmQ",
        "colab_type": "code",
        "colab": {
          "base_uri": "https://localhost:8080/",
          "height": 710
        },
        "outputId": "981da557-25ec-4ec9-c76a-f8da4c8d8248"
      },
      "source": [
        "include"
      ],
      "execution_count": 136,
      "outputs": [
        {
          "output_type": "execute_result",
          "data": {
            "text/plain": [
              "[True,\n",
              " True,\n",
              " True,\n",
              " True,\n",
              " True,\n",
              " True,\n",
              " True,\n",
              " True,\n",
              " True,\n",
              " True,\n",
              " True,\n",
              " True,\n",
              " True,\n",
              " True,\n",
              " True,\n",
              " True,\n",
              " True,\n",
              " True,\n",
              " True,\n",
              " True,\n",
              " True,\n",
              " True,\n",
              " True,\n",
              " True,\n",
              " True,\n",
              " True,\n",
              " True,\n",
              " True,\n",
              " True,\n",
              " False,\n",
              " True,\n",
              " True,\n",
              " True,\n",
              " True,\n",
              " True,\n",
              " True,\n",
              " True,\n",
              " True,\n",
              " False]"
            ]
          },
          "metadata": {
            "tags": []
          },
          "execution_count": 136
        }
      ]
    },
    {
      "cell_type": "code",
      "metadata": {
        "id": "x2pkZwEtBtLb",
        "colab_type": "code",
        "colab": {
          "base_uri": "https://localhost:8080/",
          "height": 34
        },
        "outputId": "1eecb761-8cea-41a4-8d1a-f7ef72bb826f"
      },
      "source": [
        "small_df.shape"
      ],
      "execution_count": 197,
      "outputs": [
        {
          "output_type": "execute_result",
          "data": {
            "text/plain": [
              "(39, 8)"
            ]
          },
          "metadata": {
            "tags": []
          },
          "execution_count": 197
        }
      ]
    },
    {
      "cell_type": "code",
      "metadata": {
        "id": "GUj-pZsTAPIW",
        "colab_type": "code",
        "colab": {}
      },
      "source": [
        "small_df = small_df[include]"
      ],
      "execution_count": 0,
      "outputs": []
    },
    {
      "cell_type": "code",
      "metadata": {
        "id": "NmbI62eFHSbR",
        "colab_type": "code",
        "colab": {
          "base_uri": "https://localhost:8080/",
          "height": 745
        },
        "outputId": "670159eb-aecf-4994-d1e1-68fd408fe5aa"
      },
      "source": [
        "small_df['medium'] != float('nan')"
      ],
      "execution_count": 205,
      "outputs": [
        {
          "output_type": "execute_result",
          "data": {
            "text/plain": [
              "id\n",
              "16412    True\n",
              "16413    True\n",
              "16414    True\n",
              "16415    True\n",
              "16416    True\n",
              "16417    True\n",
              "16418    True\n",
              "16419    True\n",
              "16420    True\n",
              "16421    True\n",
              "16422    True\n",
              "16423    True\n",
              "16424    True\n",
              "16425    True\n",
              "16426    True\n",
              "16427    True\n",
              "16428    True\n",
              "16429    True\n",
              "16430    True\n",
              "16431    True\n",
              "16432    True\n",
              "16433    True\n",
              "16434    True\n",
              "16435    True\n",
              "16436    True\n",
              "16437    True\n",
              "16438    True\n",
              "16439    True\n",
              "16440    True\n",
              "16441    True\n",
              "4704     True\n",
              "4705     True\n",
              "4706     True\n",
              "4707     True\n",
              "4708     True\n",
              "4709     True\n",
              "4710     True\n",
              "4711     True\n",
              "11838    True\n",
              "Name: medium, dtype: bool"
            ]
          },
          "metadata": {
            "tags": []
          },
          "execution_count": 205
        }
      ]
    },
    {
      "cell_type": "code",
      "metadata": {
        "id": "ERH5v4yQHybg",
        "colab_type": "code",
        "colab": {}
      },
      "source": [
        "small_df = small_df.dropna(subset=['medium'])"
      ],
      "execution_count": 0,
      "outputs": []
    },
    {
      "cell_type": "code",
      "metadata": {
        "id": "JGyP9z1Fh0PK",
        "colab_type": "code",
        "colab": {
          "base_uri": "https://localhost:8080/",
          "height": 34
        },
        "outputId": "d8b5a81f-4a12-4e8f-962d-1498a1406726"
      },
      "source": [
        "small_df.shape"
      ],
      "execution_count": 81,
      "outputs": [
        {
          "output_type": "execute_result",
          "data": {
            "text/plain": [
              "(37, 9)"
            ]
          },
          "metadata": {
            "tags": []
          },
          "execution_count": 81
        }
      ]
    },
    {
      "cell_type": "code",
      "metadata": {
        "id": "l9p7gkmBGkhK",
        "colab_type": "code",
        "colab": {}
      },
      "source": [
        "#this does not work for some reason\n",
        "#small_df = small_df[small_df['medium'] != np.nan]"
      ],
      "execution_count": 0,
      "outputs": []
    },
    {
      "cell_type": "code",
      "metadata": {
        "id": "HGWIDesfG6PJ",
        "colab_type": "code",
        "colab": {
          "base_uri": "https://localhost:8080/",
          "height": 34
        },
        "outputId": "ff715926-d927-4d2c-921b-0ec4e433bca8"
      },
      "source": [
        "small_df.shape"
      ],
      "execution_count": 84,
      "outputs": [
        {
          "output_type": "execute_result",
          "data": {
            "text/plain": [
              "(37, 9)"
            ]
          },
          "metadata": {
            "tags": []
          },
          "execution_count": 84
        }
      ]
    },
    {
      "cell_type": "code",
      "metadata": {
        "id": "XDcfCQgbBw6n",
        "colab_type": "code",
        "colab": {
          "base_uri": "https://localhost:8080/",
          "height": 34
        },
        "outputId": "e91eaed2-6dcc-4acd-f7a3-41d2f9b358cb"
      },
      "source": [
        "small_df.shape"
      ],
      "execution_count": 85,
      "outputs": [
        {
          "output_type": "execute_result",
          "data": {
            "text/plain": [
              "(37, 9)"
            ]
          },
          "metadata": {
            "tags": []
          },
          "execution_count": 85
        }
      ]
    },
    {
      "cell_type": "code",
      "metadata": {
        "id": "y1hxVDQgCdMA",
        "colab_type": "code",
        "colab": {}
      },
      "source": [
        "minval = list(small_df['medium'].mode())"
      ],
      "execution_count": 0,
      "outputs": []
    },
    {
      "cell_type": "code",
      "metadata": {
        "id": "kEur5jkmiYQJ",
        "colab_type": "code",
        "colab": {
          "base_uri": "https://localhost:8080/",
          "height": 123
        },
        "outputId": "cd0dedc1-f9da-43c9-96b6-5fca80ab875b"
      },
      "source": [
        "set(small_df['medium'])"
      ],
      "execution_count": 122,
      "outputs": [
        {
          "output_type": "execute_result",
          "data": {
            "text/plain": [
              "{'Drypoint on paper',\n",
              " 'Etching and drypoint on paper',\n",
              " 'Etching on paper',\n",
              " 'Linocut on paper',\n",
              " 'Lithograph on paper',\n",
              " nan}"
            ]
          },
          "metadata": {
            "tags": []
          },
          "execution_count": 122
        }
      ]
    },
    {
      "cell_type": "code",
      "metadata": {
        "id": "HQZpvbt6Cq2Q",
        "colab_type": "code",
        "colab": {
          "base_uri": "https://localhost:8080/",
          "height": 34
        },
        "outputId": "97ea0b33-237c-4542-c33c-8b3fccc396ab"
      },
      "source": [
        "minval"
      ],
      "execution_count": 123,
      "outputs": [
        {
          "output_type": "execute_result",
          "data": {
            "text/plain": [
              "['Etching and drypoint on paper']"
            ]
          },
          "metadata": {
            "tags": []
          },
          "execution_count": 123
        }
      ]
    },
    {
      "cell_type": "code",
      "metadata": {
        "id": "QqhbXukgjIIG",
        "colab_type": "code",
        "colab": {}
      },
      "source": [
        "#making a smaller slice\n",
        "small_df = df.iloc[49980 : 50019,  : ].copy()"
      ],
      "execution_count": 0,
      "outputs": []
    },
    {
      "cell_type": "code",
      "metadata": {
        "id": "geroHayPjt2I",
        "colab_type": "code",
        "colab": {}
      },
      "source": [
        "#Transformation\n",
        "#Equivalent of editing by hand:\n",
        "#Make a case where there is no data to infer\n",
        "small_df.loc[[11838,16441], 'medium'] = np.nan"
      ],
      "execution_count": 0,
      "outputs": []
    },
    {
      "cell_type": "code",
      "metadata": {
        "id": "RYcBrRlZCwKz",
        "colab_type": "code",
        "colab": {}
      },
      "source": [
        "impute = small_df['medium'].isna()"
      ],
      "execution_count": 0,
      "outputs": []
    },
    {
      "cell_type": "code",
      "metadata": {
        "id": "eZBzuBfTD29V",
        "colab_type": "code",
        "colab": {
          "base_uri": "https://localhost:8080/",
          "height": 34
        },
        "outputId": "4217387a-c748-4b12-8adc-47e979d8e657"
      },
      "source": [
        "impute.shape"
      ],
      "execution_count": 115,
      "outputs": [
        {
          "output_type": "execute_result",
          "data": {
            "text/plain": [
              "(39,)"
            ]
          },
          "metadata": {
            "tags": []
          },
          "execution_count": 115
        }
      ]
    },
    {
      "cell_type": "code",
      "metadata": {
        "id": "ktjKswdhEbFh",
        "colab_type": "code",
        "colab": {
          "base_uri": "https://localhost:8080/",
          "height": 745
        },
        "outputId": "fedd77a9-e976-46d7-fb4c-88fd7282d3ad"
      },
      "source": [
        "impute"
      ],
      "execution_count": 116,
      "outputs": [
        {
          "output_type": "execute_result",
          "data": {
            "text/plain": [
              "id\n",
              "16412    False\n",
              "16413    False\n",
              "16414    False\n",
              "16415    False\n",
              "16416    False\n",
              "16417    False\n",
              "16418    False\n",
              "16419    False\n",
              "16420    False\n",
              "16421    False\n",
              "16422    False\n",
              "16423    False\n",
              "16424    False\n",
              "16425    False\n",
              "16426    False\n",
              "16427    False\n",
              "16428    False\n",
              "16429    False\n",
              "16430    False\n",
              "16431    False\n",
              "16432    False\n",
              "16433    False\n",
              "16434    False\n",
              "16435    False\n",
              "16436    False\n",
              "16437    False\n",
              "16438    False\n",
              "16439    False\n",
              "16440    False\n",
              "16441     True\n",
              "4704     False\n",
              "4705     False\n",
              "4706     False\n",
              "4707     False\n",
              "4708     False\n",
              "4709     False\n",
              "4710     False\n",
              "4711     False\n",
              "11838     True\n",
              "Name: medium, dtype: bool"
            ]
          },
          "metadata": {
            "tags": []
          },
          "execution_count": 116
        }
      ]
    },
    {
      "cell_type": "code",
      "metadata": {
        "id": "JOJy9r20DBel",
        "colab_type": "code",
        "colab": {}
      },
      "source": [
        "vals = []\n",
        "i = -1\n",
        "for im  in impute :\n",
        "  \n",
        "  i = i + 1\n",
        "  if im == True:\n",
        "    vals.append(i)"
      ],
      "execution_count": 0,
      "outputs": []
    },
    {
      "cell_type": "code",
      "metadata": {
        "id": "tVigGf7-EOO-",
        "colab_type": "code",
        "colab": {
          "base_uri": "https://localhost:8080/",
          "height": 34
        },
        "outputId": "42b86465-469b-488c-ae04-e46a8fc05c13"
      },
      "source": [
        "vals"
      ],
      "execution_count": 118,
      "outputs": [
        {
          "output_type": "execute_result",
          "data": {
            "text/plain": [
              "[29, 38]"
            ]
          },
          "metadata": {
            "tags": []
          },
          "execution_count": 118
        }
      ]
    },
    {
      "cell_type": "code",
      "metadata": {
        "id": "CGgcguoOEyMh",
        "colab_type": "code",
        "colab": {}
      },
      "source": [
        "minval = str(minval[0])"
      ],
      "execution_count": 0,
      "outputs": []
    },
    {
      "cell_type": "code",
      "metadata": {
        "id": "Qo4EckmcFEfc",
        "colab_type": "code",
        "colab": {
          "base_uri": "https://localhost:8080/",
          "height": 34
        },
        "outputId": "56c917d1-366c-4749-ee2f-30d9f61b0211"
      },
      "source": [
        "minval"
      ],
      "execution_count": 130,
      "outputs": [
        {
          "output_type": "execute_result",
          "data": {
            "text/plain": [
              "'Etching and drypoint on paper'"
            ]
          },
          "metadata": {
            "tags": []
          },
          "execution_count": 130
        }
      ]
    },
    {
      "cell_type": "code",
      "metadata": {
        "id": "rBIk2LrHFYls",
        "colab_type": "code",
        "colab": {}
      },
      "source": [
        "minval"
      ],
      "execution_count": 0,
      "outputs": []
    },
    {
      "cell_type": "code",
      "metadata": {
        "id": "XzgNYujGC43M",
        "colab_type": "code",
        "colab": {}
      },
      "source": [
        "small_df.iloc[vals,2] = minval"
      ],
      "execution_count": 0,
      "outputs": []
    },
    {
      "cell_type": "code",
      "metadata": {
        "id": "K2M_FSClFLG5",
        "colab_type": "code",
        "colab": {
          "base_uri": "https://localhost:8080/",
          "height": 1000
        },
        "outputId": "0d515d33-6f09-4d27-8b85-c7b94d24dff2"
      },
      "source": [
        "small_df"
      ],
      "execution_count": 127,
      "outputs": [
        {
          "output_type": "execute_result",
          "data": {
            "text/html": [
              "<div>\n",
              "<style scoped>\n",
              "    .dataframe tbody tr th:only-of-type {\n",
              "        vertical-align: middle;\n",
              "    }\n",
              "\n",
              "    .dataframe tbody tr th {\n",
              "        vertical-align: top;\n",
              "    }\n",
              "\n",
              "    .dataframe thead th {\n",
              "        text-align: right;\n",
              "    }\n",
              "</style>\n",
              "<table border=\"1\" class=\"dataframe\">\n",
              "  <thead>\n",
              "    <tr style=\"text-align: right;\">\n",
              "      <th></th>\n",
              "      <th>artist</th>\n",
              "      <th>title</th>\n",
              "      <th>medium</th>\n",
              "      <th>year</th>\n",
              "      <th>acquisitionYear</th>\n",
              "      <th>width</th>\n",
              "      <th>height</th>\n",
              "      <th>units</th>\n",
              "      <th>area</th>\n",
              "    </tr>\n",
              "    <tr>\n",
              "      <th>id</th>\n",
              "      <th></th>\n",
              "      <th></th>\n",
              "      <th></th>\n",
              "      <th></th>\n",
              "      <th></th>\n",
              "      <th></th>\n",
              "      <th></th>\n",
              "      <th></th>\n",
              "      <th></th>\n",
              "    </tr>\n",
              "  </thead>\n",
              "  <tbody>\n",
              "    <tr>\n",
              "      <th>16412</th>\n",
              "      <td>Wols</td>\n",
              "      <td>[no title]</td>\n",
              "      <td>Etching on paper</td>\n",
              "      <td>1937</td>\n",
              "      <td>1983.0</td>\n",
              "      <td>130.0</td>\n",
              "      <td>80.0</td>\n",
              "      <td>mm</td>\n",
              "      <td>10400.0</td>\n",
              "    </tr>\n",
              "    <tr>\n",
              "      <th>16413</th>\n",
              "      <td>Wols</td>\n",
              "      <td>[no title]</td>\n",
              "      <td>Etching and drypoint on paper</td>\n",
              "      <td>1937</td>\n",
              "      <td>1983.0</td>\n",
              "      <td>187.0</td>\n",
              "      <td>102.0</td>\n",
              "      <td>mm</td>\n",
              "      <td>19074.0</td>\n",
              "    </tr>\n",
              "    <tr>\n",
              "      <th>16414</th>\n",
              "      <td>Wols</td>\n",
              "      <td>[no title]</td>\n",
              "      <td>Etching and drypoint on paper</td>\n",
              "      <td>1937</td>\n",
              "      <td>1983.0</td>\n",
              "      <td>248.0</td>\n",
              "      <td>168.0</td>\n",
              "      <td>mm</td>\n",
              "      <td>41664.0</td>\n",
              "    </tr>\n",
              "    <tr>\n",
              "      <th>16415</th>\n",
              "      <td>Wols</td>\n",
              "      <td>[no title]</td>\n",
              "      <td>Etching and drypoint on paper</td>\n",
              "      <td>1937</td>\n",
              "      <td>1983.0</td>\n",
              "      <td>149.0</td>\n",
              "      <td>102.0</td>\n",
              "      <td>mm</td>\n",
              "      <td>15198.0</td>\n",
              "    </tr>\n",
              "    <tr>\n",
              "      <th>16416</th>\n",
              "      <td>Wols</td>\n",
              "      <td>[no title]</td>\n",
              "      <td>Etching and drypoint on paper</td>\n",
              "      <td>1937</td>\n",
              "      <td>1983.0</td>\n",
              "      <td>203.0</td>\n",
              "      <td>120.0</td>\n",
              "      <td>mm</td>\n",
              "      <td>24360.0</td>\n",
              "    </tr>\n",
              "    <tr>\n",
              "      <th>16417</th>\n",
              "      <td>Wols</td>\n",
              "      <td>[no title]</td>\n",
              "      <td>Etching on paper</td>\n",
              "      <td>1937</td>\n",
              "      <td>1983.0</td>\n",
              "      <td>130.0</td>\n",
              "      <td>79.0</td>\n",
              "      <td>mm</td>\n",
              "      <td>10270.0</td>\n",
              "    </tr>\n",
              "    <tr>\n",
              "      <th>16418</th>\n",
              "      <td>Wols</td>\n",
              "      <td>[no title]</td>\n",
              "      <td>Etching and drypoint on paper</td>\n",
              "      <td>1937</td>\n",
              "      <td>1983.0</td>\n",
              "      <td>124.0</td>\n",
              "      <td>98.0</td>\n",
              "      <td>mm</td>\n",
              "      <td>12152.0</td>\n",
              "    </tr>\n",
              "    <tr>\n",
              "      <th>16419</th>\n",
              "      <td>Wols</td>\n",
              "      <td>[no title]</td>\n",
              "      <td>Etching and drypoint on paper</td>\n",
              "      <td>1937</td>\n",
              "      <td>1983.0</td>\n",
              "      <td>140.0</td>\n",
              "      <td>89.0</td>\n",
              "      <td>mm</td>\n",
              "      <td>12460.0</td>\n",
              "    </tr>\n",
              "    <tr>\n",
              "      <th>16420</th>\n",
              "      <td>Wols</td>\n",
              "      <td>[no title]</td>\n",
              "      <td>Etching and drypoint on paper</td>\n",
              "      <td>1937</td>\n",
              "      <td>1983.0</td>\n",
              "      <td>140.0</td>\n",
              "      <td>86.0</td>\n",
              "      <td>mm</td>\n",
              "      <td>12040.0</td>\n",
              "    </tr>\n",
              "    <tr>\n",
              "      <th>16421</th>\n",
              "      <td>Wols</td>\n",
              "      <td>[no title]</td>\n",
              "      <td>Etching and drypoint on paper</td>\n",
              "      <td>1937</td>\n",
              "      <td>1983.0</td>\n",
              "      <td>83.0</td>\n",
              "      <td>79.0</td>\n",
              "      <td>mm</td>\n",
              "      <td>6557.0</td>\n",
              "    </tr>\n",
              "    <tr>\n",
              "      <th>16422</th>\n",
              "      <td>Wols</td>\n",
              "      <td>[no title]</td>\n",
              "      <td>Etching and drypoint on paper</td>\n",
              "      <td>1937</td>\n",
              "      <td>1983.0</td>\n",
              "      <td>200.0</td>\n",
              "      <td>146.0</td>\n",
              "      <td>mm</td>\n",
              "      <td>29200.0</td>\n",
              "    </tr>\n",
              "    <tr>\n",
              "      <th>16423</th>\n",
              "      <td>Wols</td>\n",
              "      <td>[no title]</td>\n",
              "      <td>Etching on paper</td>\n",
              "      <td>1937</td>\n",
              "      <td>1983.0</td>\n",
              "      <td>60.0</td>\n",
              "      <td>98.0</td>\n",
              "      <td>mm</td>\n",
              "      <td>5880.0</td>\n",
              "    </tr>\n",
              "    <tr>\n",
              "      <th>16424</th>\n",
              "      <td>Wols</td>\n",
              "      <td>[no title]</td>\n",
              "      <td>Etching and drypoint on paper</td>\n",
              "      <td>1937</td>\n",
              "      <td>1983.0</td>\n",
              "      <td>124.0</td>\n",
              "      <td>98.0</td>\n",
              "      <td>mm</td>\n",
              "      <td>12152.0</td>\n",
              "    </tr>\n",
              "    <tr>\n",
              "      <th>16425</th>\n",
              "      <td>Wols</td>\n",
              "      <td>[no title]</td>\n",
              "      <td>Etching on paper</td>\n",
              "      <td>1937</td>\n",
              "      <td>1983.0</td>\n",
              "      <td>124.0</td>\n",
              "      <td>98.0</td>\n",
              "      <td>mm</td>\n",
              "      <td>12152.0</td>\n",
              "    </tr>\n",
              "    <tr>\n",
              "      <th>16426</th>\n",
              "      <td>Wols</td>\n",
              "      <td>[no title]</td>\n",
              "      <td>Etching and drypoint on paper</td>\n",
              "      <td>1937</td>\n",
              "      <td>1983.0</td>\n",
              "      <td>204.0</td>\n",
              "      <td>118.0</td>\n",
              "      <td>mm</td>\n",
              "      <td>24072.0</td>\n",
              "    </tr>\n",
              "    <tr>\n",
              "      <th>16427</th>\n",
              "      <td>Wols</td>\n",
              "      <td>[no title]</td>\n",
              "      <td>Etching and drypoint on paper</td>\n",
              "      <td>1937</td>\n",
              "      <td>1983.0</td>\n",
              "      <td>105.0</td>\n",
              "      <td>98.0</td>\n",
              "      <td>mm</td>\n",
              "      <td>10290.0</td>\n",
              "    </tr>\n",
              "    <tr>\n",
              "      <th>16428</th>\n",
              "      <td>Wols</td>\n",
              "      <td>[no title]</td>\n",
              "      <td>Etching and drypoint on paper</td>\n",
              "      <td>1937</td>\n",
              "      <td>1983.0</td>\n",
              "      <td>197.0</td>\n",
              "      <td>149.0</td>\n",
              "      <td>mm</td>\n",
              "      <td>29353.0</td>\n",
              "    </tr>\n",
              "    <tr>\n",
              "      <th>16429</th>\n",
              "      <td>Wols</td>\n",
              "      <td>[no title]</td>\n",
              "      <td>Etching and drypoint on paper</td>\n",
              "      <td>1937</td>\n",
              "      <td>1983.0</td>\n",
              "      <td>102.0</td>\n",
              "      <td>120.0</td>\n",
              "      <td>mm</td>\n",
              "      <td>12240.0</td>\n",
              "    </tr>\n",
              "    <tr>\n",
              "      <th>16430</th>\n",
              "      <td>Wols</td>\n",
              "      <td>[no title]</td>\n",
              "      <td>Etching and drypoint on paper</td>\n",
              "      <td>1937</td>\n",
              "      <td>1983.0</td>\n",
              "      <td>118.0</td>\n",
              "      <td>95.0</td>\n",
              "      <td>mm</td>\n",
              "      <td>11210.0</td>\n",
              "    </tr>\n",
              "    <tr>\n",
              "      <th>16431</th>\n",
              "      <td>Wols</td>\n",
              "      <td>[no title]</td>\n",
              "      <td>Etching and drypoint on paper</td>\n",
              "      <td>1937</td>\n",
              "      <td>1983.0</td>\n",
              "      <td>140.0</td>\n",
              "      <td>79.0</td>\n",
              "      <td>mm</td>\n",
              "      <td>11060.0</td>\n",
              "    </tr>\n",
              "    <tr>\n",
              "      <th>16432</th>\n",
              "      <td>Wols</td>\n",
              "      <td>[no title]</td>\n",
              "      <td>Etching and drypoint on paper</td>\n",
              "      <td>1937</td>\n",
              "      <td>1983.0</td>\n",
              "      <td>124.0</td>\n",
              "      <td>95.0</td>\n",
              "      <td>mm</td>\n",
              "      <td>11780.0</td>\n",
              "    </tr>\n",
              "    <tr>\n",
              "      <th>16433</th>\n",
              "      <td>Wols</td>\n",
              "      <td>[no title]</td>\n",
              "      <td>Etching and drypoint on paper</td>\n",
              "      <td>1937</td>\n",
              "      <td>1983.0</td>\n",
              "      <td>105.0</td>\n",
              "      <td>73.0</td>\n",
              "      <td>mm</td>\n",
              "      <td>7665.0</td>\n",
              "    </tr>\n",
              "    <tr>\n",
              "      <th>16434</th>\n",
              "      <td>Wols</td>\n",
              "      <td>[no title]</td>\n",
              "      <td>Etching and drypoint on paper</td>\n",
              "      <td>1937</td>\n",
              "      <td>1983.0</td>\n",
              "      <td>121.0</td>\n",
              "      <td>102.0</td>\n",
              "      <td>mm</td>\n",
              "      <td>12342.0</td>\n",
              "    </tr>\n",
              "    <tr>\n",
              "      <th>16435</th>\n",
              "      <td>Wols</td>\n",
              "      <td>[no title]</td>\n",
              "      <td>Etching and drypoint on paper</td>\n",
              "      <td>1937</td>\n",
              "      <td>1983.0</td>\n",
              "      <td>121.0</td>\n",
              "      <td>92.0</td>\n",
              "      <td>mm</td>\n",
              "      <td>11132.0</td>\n",
              "    </tr>\n",
              "    <tr>\n",
              "      <th>16436</th>\n",
              "      <td>Wols</td>\n",
              "      <td>[no title]</td>\n",
              "      <td>Etching and drypoint on paper</td>\n",
              "      <td>1937</td>\n",
              "      <td>1983.0</td>\n",
              "      <td>124.0</td>\n",
              "      <td>98.0</td>\n",
              "      <td>mm</td>\n",
              "      <td>12152.0</td>\n",
              "    </tr>\n",
              "    <tr>\n",
              "      <th>16437</th>\n",
              "      <td>Wols</td>\n",
              "      <td>[no title]</td>\n",
              "      <td>Etching and drypoint on paper</td>\n",
              "      <td>1937</td>\n",
              "      <td>1983.0</td>\n",
              "      <td>124.0</td>\n",
              "      <td>98.0</td>\n",
              "      <td>mm</td>\n",
              "      <td>12152.0</td>\n",
              "    </tr>\n",
              "    <tr>\n",
              "      <th>16438</th>\n",
              "      <td>Wols</td>\n",
              "      <td>[no title]</td>\n",
              "      <td>Etching and drypoint on paper</td>\n",
              "      <td>1937</td>\n",
              "      <td>1983.0</td>\n",
              "      <td>124.0</td>\n",
              "      <td>98.0</td>\n",
              "      <td>mm</td>\n",
              "      <td>12152.0</td>\n",
              "    </tr>\n",
              "    <tr>\n",
              "      <th>16439</th>\n",
              "      <td>Wols</td>\n",
              "      <td>[no title]</td>\n",
              "      <td>Etching and drypoint on paper</td>\n",
              "      <td>1937</td>\n",
              "      <td>1983.0</td>\n",
              "      <td>102.0</td>\n",
              "      <td>70.0</td>\n",
              "      <td>mm</td>\n",
              "      <td>7140.0</td>\n",
              "    </tr>\n",
              "    <tr>\n",
              "      <th>16440</th>\n",
              "      <td>Wols</td>\n",
              "      <td>[no title]</td>\n",
              "      <td>Etching and drypoint on paper</td>\n",
              "      <td>1937</td>\n",
              "      <td>1983.0</td>\n",
              "      <td>105.0</td>\n",
              "      <td>70.0</td>\n",
              "      <td>mm</td>\n",
              "      <td>7350.0</td>\n",
              "    </tr>\n",
              "    <tr>\n",
              "      <th>16441</th>\n",
              "      <td>Wols</td>\n",
              "      <td>[no title]</td>\n",
              "      <td>Etching and drypoint on paper</td>\n",
              "      <td>1937</td>\n",
              "      <td>1983.0</td>\n",
              "      <td>324.0</td>\n",
              "      <td>248.0</td>\n",
              "      <td>mm</td>\n",
              "      <td>80352.0</td>\n",
              "    </tr>\n",
              "    <tr>\n",
              "      <th>4704</th>\n",
              "      <td>Frost, Sir Terry</td>\n",
              "      <td>Blue Moon</td>\n",
              "      <td>Lithograph on paper</td>\n",
              "      <td>1952</td>\n",
              "      <td>1983.0</td>\n",
              "      <td>355.0</td>\n",
              "      <td>273.0</td>\n",
              "      <td>mm</td>\n",
              "      <td>96915.0</td>\n",
              "    </tr>\n",
              "    <tr>\n",
              "      <th>4705</th>\n",
              "      <td>Frost, Sir Terry</td>\n",
              "      <td>Boat Shapes</td>\n",
              "      <td>Linocut on paper</td>\n",
              "      <td>1952</td>\n",
              "      <td>1983.0</td>\n",
              "      <td>132.0</td>\n",
              "      <td>143.0</td>\n",
              "      <td>mm</td>\n",
              "      <td>18876.0</td>\n",
              "    </tr>\n",
              "    <tr>\n",
              "      <th>4706</th>\n",
              "      <td>Frost, Sir Terry</td>\n",
              "      <td>Boat Shapes</td>\n",
              "      <td>Linocut on paper</td>\n",
              "      <td>1954</td>\n",
              "      <td>1983.0</td>\n",
              "      <td>131.0</td>\n",
              "      <td>155.0</td>\n",
              "      <td>mm</td>\n",
              "      <td>20305.0</td>\n",
              "    </tr>\n",
              "    <tr>\n",
              "      <th>4707</th>\n",
              "      <td>Frost, Sir Terry</td>\n",
              "      <td>Boat Shapes</td>\n",
              "      <td>Linocut on paper</td>\n",
              "      <td>1954</td>\n",
              "      <td>1983.0</td>\n",
              "      <td>193.0</td>\n",
              "      <td>267.0</td>\n",
              "      <td>mm</td>\n",
              "      <td>51531.0</td>\n",
              "    </tr>\n",
              "    <tr>\n",
              "      <th>4708</th>\n",
              "      <td>Frost, Sir Terry</td>\n",
              "      <td>Leeds</td>\n",
              "      <td>Drypoint on paper</td>\n",
              "      <td>1956</td>\n",
              "      <td>1983.0</td>\n",
              "      <td>125.0</td>\n",
              "      <td>167.0</td>\n",
              "      <td>mm</td>\n",
              "      <td>20875.0</td>\n",
              "    </tr>\n",
              "    <tr>\n",
              "      <th>4709</th>\n",
              "      <td>Frost, Sir Terry</td>\n",
              "      <td>Camping, Anduze</td>\n",
              "      <td>Etching on paper</td>\n",
              "      <td>1979</td>\n",
              "      <td>1983.0</td>\n",
              "      <td>257.0</td>\n",
              "      <td>209.0</td>\n",
              "      <td>mm</td>\n",
              "      <td>53713.0</td>\n",
              "    </tr>\n",
              "    <tr>\n",
              "      <th>4710</th>\n",
              "      <td>Frost, Sir Terry</td>\n",
              "      <td>Umea, Sweden</td>\n",
              "      <td>Etching on paper</td>\n",
              "      <td>1979</td>\n",
              "      <td>1983.0</td>\n",
              "      <td>NaN</td>\n",
              "      <td>NaN</td>\n",
              "      <td>NaN</td>\n",
              "      <td>NaN</td>\n",
              "    </tr>\n",
              "    <tr>\n",
              "      <th>4711</th>\n",
              "      <td>Frost, Sir Terry</td>\n",
              "      <td>Self-Portrait</td>\n",
              "      <td>Etching on paper</td>\n",
              "      <td>1980</td>\n",
              "      <td>1983.0</td>\n",
              "      <td>277.0</td>\n",
              "      <td>200.0</td>\n",
              "      <td>mm</td>\n",
              "      <td>55400.0</td>\n",
              "    </tr>\n",
              "    <tr>\n",
              "      <th>11838</th>\n",
              "      <td>Phillips, Esq Tom</td>\n",
              "      <td>[colophon]</td>\n",
              "      <td>Etching and drypoint on paper</td>\n",
              "      <td>1979</td>\n",
              "      <td>1983.0</td>\n",
              "      <td>292.0</td>\n",
              "      <td>204.0</td>\n",
              "      <td>mm</td>\n",
              "      <td>59568.0</td>\n",
              "    </tr>\n",
              "  </tbody>\n",
              "</table>\n",
              "</div>"
            ],
            "text/plain": [
              "                  artist            title  ... units     area\n",
              "id                                         ...               \n",
              "16412               Wols       [no title]  ...    mm  10400.0\n",
              "16413               Wols       [no title]  ...    mm  19074.0\n",
              "16414               Wols       [no title]  ...    mm  41664.0\n",
              "16415               Wols       [no title]  ...    mm  15198.0\n",
              "16416               Wols       [no title]  ...    mm  24360.0\n",
              "16417               Wols       [no title]  ...    mm  10270.0\n",
              "16418               Wols       [no title]  ...    mm  12152.0\n",
              "16419               Wols       [no title]  ...    mm  12460.0\n",
              "16420               Wols       [no title]  ...    mm  12040.0\n",
              "16421               Wols       [no title]  ...    mm   6557.0\n",
              "16422               Wols       [no title]  ...    mm  29200.0\n",
              "16423               Wols       [no title]  ...    mm   5880.0\n",
              "16424               Wols       [no title]  ...    mm  12152.0\n",
              "16425               Wols       [no title]  ...    mm  12152.0\n",
              "16426               Wols       [no title]  ...    mm  24072.0\n",
              "16427               Wols       [no title]  ...    mm  10290.0\n",
              "16428               Wols       [no title]  ...    mm  29353.0\n",
              "16429               Wols       [no title]  ...    mm  12240.0\n",
              "16430               Wols       [no title]  ...    mm  11210.0\n",
              "16431               Wols       [no title]  ...    mm  11060.0\n",
              "16432               Wols       [no title]  ...    mm  11780.0\n",
              "16433               Wols       [no title]  ...    mm   7665.0\n",
              "16434               Wols       [no title]  ...    mm  12342.0\n",
              "16435               Wols       [no title]  ...    mm  11132.0\n",
              "16436               Wols       [no title]  ...    mm  12152.0\n",
              "16437               Wols       [no title]  ...    mm  12152.0\n",
              "16438               Wols       [no title]  ...    mm  12152.0\n",
              "16439               Wols       [no title]  ...    mm   7140.0\n",
              "16440               Wols       [no title]  ...    mm   7350.0\n",
              "16441               Wols       [no title]  ...    mm  80352.0\n",
              "4704    Frost, Sir Terry        Blue Moon  ...    mm  96915.0\n",
              "4705    Frost, Sir Terry      Boat Shapes  ...    mm  18876.0\n",
              "4706    Frost, Sir Terry      Boat Shapes  ...    mm  20305.0\n",
              "4707    Frost, Sir Terry      Boat Shapes  ...    mm  51531.0\n",
              "4708    Frost, Sir Terry            Leeds  ...    mm  20875.0\n",
              "4709    Frost, Sir Terry  Camping, Anduze  ...    mm  53713.0\n",
              "4710    Frost, Sir Terry     Umea, Sweden  ...   NaN      NaN\n",
              "4711    Frost, Sir Terry    Self-Portrait  ...    mm  55400.0\n",
              "11838  Phillips, Esq Tom       [colophon]  ...    mm  59568.0\n",
              "\n",
              "[39 rows x 9 columns]"
            ]
          },
          "metadata": {
            "tags": []
          },
          "execution_count": 127
        }
      ]
    },
    {
      "cell_type": "code",
      "metadata": {
        "id": "gjka5rh4kEx_",
        "colab_type": "code",
        "colab": {}
      },
      "source": [
        "#Transformation\n",
        "#Equivalent of editing by hand:\n",
        "#Make a case where there is no data to infer\n",
        "small_df.loc[[11838,16441], 'medium'] = np.nan"
      ],
      "execution_count": 0,
      "outputs": []
    },
    {
      "cell_type": "code",
      "metadata": {
        "id": "kW4bgUG2FTqz",
        "colab_type": "code",
        "colab": {
          "base_uri": "https://localhost:8080/",
          "height": 745
        },
        "outputId": "45c8e5e4-2aa9-4a82-c962-c7126656c1dc"
      },
      "source": [
        "small_df['medium'].isna()"
      ],
      "execution_count": 129,
      "outputs": [
        {
          "output_type": "execute_result",
          "data": {
            "text/plain": [
              "id\n",
              "16412    False\n",
              "16413    False\n",
              "16414    False\n",
              "16415    False\n",
              "16416    False\n",
              "16417    False\n",
              "16418    False\n",
              "16419    False\n",
              "16420    False\n",
              "16421    False\n",
              "16422    False\n",
              "16423    False\n",
              "16424    False\n",
              "16425    False\n",
              "16426    False\n",
              "16427    False\n",
              "16428    False\n",
              "16429    False\n",
              "16430    False\n",
              "16431    False\n",
              "16432    False\n",
              "16433    False\n",
              "16434    False\n",
              "16435    False\n",
              "16436    False\n",
              "16437    False\n",
              "16438    False\n",
              "16439    False\n",
              "16440    False\n",
              "16441     True\n",
              "4704     False\n",
              "4705     False\n",
              "4706     False\n",
              "4707     False\n",
              "4708     False\n",
              "4709     False\n",
              "4710     False\n",
              "4711     False\n",
              "11838     True\n",
              "Name: medium, dtype: bool"
            ]
          },
          "metadata": {
            "tags": []
          },
          "execution_count": 129
        }
      ]
    },
    {
      "cell_type": "code",
      "metadata": {
        "id": "YBRYmmyvkIsJ",
        "colab_type": "code",
        "colab": {}
      },
      "source": [
        "values = {'medium': minval}\n",
        "small_df = small_df.fillna(value=values)"
      ],
      "execution_count": 0,
      "outputs": []
    },
    {
      "cell_type": "code",
      "metadata": {
        "id": "2nNEKJ-2lAJo",
        "colab_type": "code",
        "colab": {
          "base_uri": "https://localhost:8080/",
          "height": 227
        },
        "outputId": "1892a7f6-47b3-4237-ddd9-b7b59b697b0c"
      },
      "source": [
        "small_df.tail()"
      ],
      "execution_count": 134,
      "outputs": [
        {
          "output_type": "execute_result",
          "data": {
            "text/html": [
              "<div>\n",
              "<style scoped>\n",
              "    .dataframe tbody tr th:only-of-type {\n",
              "        vertical-align: middle;\n",
              "    }\n",
              "\n",
              "    .dataframe tbody tr th {\n",
              "        vertical-align: top;\n",
              "    }\n",
              "\n",
              "    .dataframe thead th {\n",
              "        text-align: right;\n",
              "    }\n",
              "</style>\n",
              "<table border=\"1\" class=\"dataframe\">\n",
              "  <thead>\n",
              "    <tr style=\"text-align: right;\">\n",
              "      <th></th>\n",
              "      <th>artist</th>\n",
              "      <th>title</th>\n",
              "      <th>medium</th>\n",
              "      <th>year</th>\n",
              "      <th>acquisitionYear</th>\n",
              "      <th>width</th>\n",
              "      <th>height</th>\n",
              "      <th>units</th>\n",
              "      <th>area</th>\n",
              "    </tr>\n",
              "    <tr>\n",
              "      <th>id</th>\n",
              "      <th></th>\n",
              "      <th></th>\n",
              "      <th></th>\n",
              "      <th></th>\n",
              "      <th></th>\n",
              "      <th></th>\n",
              "      <th></th>\n",
              "      <th></th>\n",
              "      <th></th>\n",
              "    </tr>\n",
              "  </thead>\n",
              "  <tbody>\n",
              "    <tr>\n",
              "      <th>4708</th>\n",
              "      <td>Frost, Sir Terry</td>\n",
              "      <td>Leeds</td>\n",
              "      <td>Drypoint on paper</td>\n",
              "      <td>1956</td>\n",
              "      <td>1983.0</td>\n",
              "      <td>125.0</td>\n",
              "      <td>167.0</td>\n",
              "      <td>mm</td>\n",
              "      <td>20875.0</td>\n",
              "    </tr>\n",
              "    <tr>\n",
              "      <th>4709</th>\n",
              "      <td>Frost, Sir Terry</td>\n",
              "      <td>Camping, Anduze</td>\n",
              "      <td>Etching on paper</td>\n",
              "      <td>1979</td>\n",
              "      <td>1983.0</td>\n",
              "      <td>257.0</td>\n",
              "      <td>209.0</td>\n",
              "      <td>mm</td>\n",
              "      <td>53713.0</td>\n",
              "    </tr>\n",
              "    <tr>\n",
              "      <th>4710</th>\n",
              "      <td>Frost, Sir Terry</td>\n",
              "      <td>Umea, Sweden</td>\n",
              "      <td>Etching on paper</td>\n",
              "      <td>1979</td>\n",
              "      <td>1983.0</td>\n",
              "      <td>NaN</td>\n",
              "      <td>NaN</td>\n",
              "      <td>NaN</td>\n",
              "      <td>NaN</td>\n",
              "    </tr>\n",
              "    <tr>\n",
              "      <th>4711</th>\n",
              "      <td>Frost, Sir Terry</td>\n",
              "      <td>Self-Portrait</td>\n",
              "      <td>Etching on paper</td>\n",
              "      <td>1980</td>\n",
              "      <td>1983.0</td>\n",
              "      <td>277.0</td>\n",
              "      <td>200.0</td>\n",
              "      <td>mm</td>\n",
              "      <td>55400.0</td>\n",
              "    </tr>\n",
              "    <tr>\n",
              "      <th>11838</th>\n",
              "      <td>Phillips, Esq Tom</td>\n",
              "      <td>[colophon]</td>\n",
              "      <td>Etching and drypoint on paper</td>\n",
              "      <td>1979</td>\n",
              "      <td>1983.0</td>\n",
              "      <td>292.0</td>\n",
              "      <td>204.0</td>\n",
              "      <td>mm</td>\n",
              "      <td>59568.0</td>\n",
              "    </tr>\n",
              "  </tbody>\n",
              "</table>\n",
              "</div>"
            ],
            "text/plain": [
              "                  artist            title  ... units     area\n",
              "id                                         ...               \n",
              "4708    Frost, Sir Terry            Leeds  ...    mm  20875.0\n",
              "4709    Frost, Sir Terry  Camping, Anduze  ...    mm  53713.0\n",
              "4710    Frost, Sir Terry     Umea, Sweden  ...   NaN      NaN\n",
              "4711    Frost, Sir Terry    Self-Portrait  ...    mm  55400.0\n",
              "11838  Phillips, Esq Tom       [colophon]  ...    mm  59568.0\n",
              "\n",
              "[5 rows x 9 columns]"
            ]
          },
          "metadata": {
            "tags": []
          },
          "execution_count": 134
        }
      ]
    },
    {
      "cell_type": "markdown",
      "metadata": {
        "id": "BwD2sBcLmETw",
        "colab_type": "text"
      },
      "source": [
        "Filtering :\n",
        "\n",
        "Keep the books which has titles atleast 2 times in the dataset. "
      ]
    },
    {
      "cell_type": "code",
      "metadata": {
        "id": "Msy60YqvmBx2",
        "colab_type": "code",
        "outputId": "3846003e-7681-4115-dc0d-33a1bce5b4b7",
        "colab": {
          "base_uri": "https://localhost:8080/",
          "height": 105
        }
      },
      "source": [
        "grouped_titles = df.groupby('title')\n",
        "title_counts = grouped_titles.size().sort_values(ascending = False)\n",
        "\n",
        "condition = lambda x: len(x.index) > 1\n",
        "dup_titles_df = grouped_titles.filter(condition)\n",
        "dup_titles_df.sort_values('title', inplace=True)"
      ],
      "execution_count": 135,
      "outputs": [
        {
          "output_type": "stream",
          "text": [
            "/usr/local/lib/python3.6/dist-packages/ipykernel_launcher.py:6: SettingWithCopyWarning: \n",
            "A value is trying to be set on a copy of a slice from a DataFrame\n",
            "\n",
            "See the caveats in the documentation: http://pandas.pydata.org/pandas-docs/stable/indexing.html#indexing-view-versus-copy\n",
            "  \n"
          ],
          "name": "stderr"
        }
      ]
    },
    {
      "cell_type": "code",
      "metadata": {
        "id": "H1FEA-CdqGP2",
        "colab_type": "code",
        "outputId": "9284a919-1209-421a-957b-1f56ad408a88",
        "colab": {
          "base_uri": "https://localhost:8080/",
          "height": 227
        }
      },
      "source": [
        "dup_titles_df.head()"
      ],
      "execution_count": 136,
      "outputs": [
        {
          "output_type": "execute_result",
          "data": {
            "text/html": [
              "<div>\n",
              "<style scoped>\n",
              "    .dataframe tbody tr th:only-of-type {\n",
              "        vertical-align: middle;\n",
              "    }\n",
              "\n",
              "    .dataframe tbody tr th {\n",
              "        vertical-align: top;\n",
              "    }\n",
              "\n",
              "    .dataframe thead th {\n",
              "        text-align: right;\n",
              "    }\n",
              "</style>\n",
              "<table border=\"1\" class=\"dataframe\">\n",
              "  <thead>\n",
              "    <tr style=\"text-align: right;\">\n",
              "      <th></th>\n",
              "      <th>artist</th>\n",
              "      <th>title</th>\n",
              "      <th>medium</th>\n",
              "      <th>year</th>\n",
              "      <th>acquisitionYear</th>\n",
              "      <th>width</th>\n",
              "      <th>height</th>\n",
              "      <th>units</th>\n",
              "      <th>area</th>\n",
              "    </tr>\n",
              "    <tr>\n",
              "      <th>id</th>\n",
              "      <th></th>\n",
              "      <th></th>\n",
              "      <th></th>\n",
              "      <th></th>\n",
              "      <th></th>\n",
              "      <th></th>\n",
              "      <th></th>\n",
              "      <th></th>\n",
              "      <th></th>\n",
              "    </tr>\n",
              "  </thead>\n",
              "  <tbody>\n",
              "    <tr>\n",
              "      <th>20571</th>\n",
              "      <td>Scully, Sean</td>\n",
              "      <td>#1</td>\n",
              "      <td>Aquatint on paper</td>\n",
              "      <td>1992</td>\n",
              "      <td>1992.0</td>\n",
              "      <td>117.0</td>\n",
              "      <td>174.0</td>\n",
              "      <td>mm</td>\n",
              "      <td>20358.0</td>\n",
              "    </tr>\n",
              "    <tr>\n",
              "      <th>21345</th>\n",
              "      <td>Dunham, Carroll</td>\n",
              "      <td>#1</td>\n",
              "      <td>Drypoint on paper</td>\n",
              "      <td>1989</td>\n",
              "      <td>2002.0</td>\n",
              "      <td>392.0</td>\n",
              "      <td>579.0</td>\n",
              "      <td>mm</td>\n",
              "      <td>226968.0</td>\n",
              "    </tr>\n",
              "    <tr>\n",
              "      <th>21346</th>\n",
              "      <td>Dunham, Carroll</td>\n",
              "      <td>#2</td>\n",
              "      <td>Drypoint on paper</td>\n",
              "      <td>1989</td>\n",
              "      <td>2002.0</td>\n",
              "      <td>392.0</td>\n",
              "      <td>579.0</td>\n",
              "      <td>mm</td>\n",
              "      <td>226968.0</td>\n",
              "    </tr>\n",
              "    <tr>\n",
              "      <th>20572</th>\n",
              "      <td>Scully, Sean</td>\n",
              "      <td>#2</td>\n",
              "      <td>Aquatint on paper</td>\n",
              "      <td>1992</td>\n",
              "      <td>1992.0</td>\n",
              "      <td>323.0</td>\n",
              "      <td>278.0</td>\n",
              "      <td>mm</td>\n",
              "      <td>89794.0</td>\n",
              "    </tr>\n",
              "    <tr>\n",
              "      <th>21347</th>\n",
              "      <td>Dunham, Carroll</td>\n",
              "      <td>#3</td>\n",
              "      <td>Drypoint on paper</td>\n",
              "      <td>1989</td>\n",
              "      <td>2002.0</td>\n",
              "      <td>392.0</td>\n",
              "      <td>579.0</td>\n",
              "      <td>mm</td>\n",
              "      <td>226968.0</td>\n",
              "    </tr>\n",
              "  </tbody>\n",
              "</table>\n",
              "</div>"
            ],
            "text/plain": [
              "                artist title             medium  ... height  units      area\n",
              "id                                               ...                        \n",
              "20571     Scully, Sean    #1  Aquatint on paper  ...  174.0     mm   20358.0\n",
              "21345  Dunham, Carroll    #1  Drypoint on paper  ...  579.0     mm  226968.0\n",
              "21346  Dunham, Carroll    #2  Drypoint on paper  ...  579.0     mm  226968.0\n",
              "20572     Scully, Sean    #2  Aquatint on paper  ...  278.0     mm   89794.0\n",
              "21347  Dunham, Carroll    #3  Drypoint on paper  ...  579.0     mm  226968.0\n",
              "\n",
              "[5 rows x 9 columns]"
            ]
          },
          "metadata": {
            "tags": []
          },
          "execution_count": 136
        }
      ]
    },
    {
      "cell_type": "code",
      "metadata": {
        "id": "c63DfKhit9ZG",
        "colab_type": "code",
        "colab": {}
      },
      "source": [
        ""
      ],
      "execution_count": 0,
      "outputs": []
    }
  ]
}